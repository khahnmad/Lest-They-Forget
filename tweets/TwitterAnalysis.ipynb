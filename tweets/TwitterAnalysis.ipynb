{
 "cells": [
  {
   "cell_type": "code",
   "execution_count": 87,
   "source": [
    "import pandas as pd\n",
    "import numpy as np\n",
    "from datetime import date, datetime\n",
    "import json\n",
    "import spacy\n",
    "import nltk\n",
    "import re\n",
    "from nltk.tokenize import TweetTokenizer\n",
    "from nltk.corpus import stopwords\n",
    "from nltk.util import ngrams\n",
    "from nltk import FreqDist"
   ],
   "outputs": [],
   "metadata": {}
  },
  {
   "cell_type": "code",
   "execution_count": 18,
   "source": [
    "from collections import Counter"
   ],
   "outputs": [],
   "metadata": {}
  },
  {
   "cell_type": "code",
   "execution_count": 19,
   "source": [
    "tweet_tokenizer = TweetTokenizer()"
   ],
   "outputs": [],
   "metadata": {}
  },
  {
   "cell_type": "code",
   "execution_count": 20,
   "source": [
    "stopword = stopwords.words('english')"
   ],
   "outputs": [],
   "metadata": {}
  },
  {
   "cell_type": "code",
   "execution_count": 21,
   "source": [
    "nltk.download('punkt')\n"
   ],
   "outputs": [
    {
     "output_type": "stream",
     "name": "stderr",
     "text": [
      "[nltk_data] Downloading package punkt to\n",
      "[nltk_data]     /Users/lukasfeddern/nltk_data...\n",
      "[nltk_data]   Package punkt is already up-to-date!\n"
     ]
    },
    {
     "output_type": "execute_result",
     "data": {
      "text/plain": [
       "True"
      ]
     },
     "metadata": {},
     "execution_count": 21
    }
   ],
   "metadata": {}
  },
  {
   "cell_type": "code",
   "execution_count": 22,
   "source": [
    "def remove_url(txt):\n",
    "   \n",
    "    return \" \".join(re.sub(\"([^0-9A-Za-z \\t])|(\\w+:\\/\\/\\S+)\", \"\", txt).split())"
   ],
   "outputs": [],
   "metadata": {}
  },
  {
   "cell_type": "code",
   "execution_count": 23,
   "source": [
    "def tokenize_text(string):\n",
    "    \"\"\"\n",
    "    This takes a string of text, tokenizes it and removes stopwords\n",
    "    \"\"\"\n",
    "    extra_stopwords = ['``', \"'s\", '•', \"n't\", '.', 'w/','b/c','w', '/', '', ':', '!', '&amp', ';']\n",
    "    tokenized = nltk.word_tokenize(string)\n",
    "    cleaned = [string.lower() for string in tokenized if string not in extra_stopwords]\n",
    "    return cleaned"
   ],
   "outputs": [],
   "metadata": {}
  },
  {
   "cell_type": "code",
   "execution_count": 24,
   "source": [
    "def extract_ngrams(data, num):\n",
    "    '''\n",
    "    input: tokenized list of data, type of ngram\n",
    "    output: readable ngrams\n",
    "    '''\n",
    "    n_grams = ngrams(data, num)\n",
    "    return [' '.join(grams) for grams in n_grams]"
   ],
   "outputs": [],
   "metadata": {}
  },
  {
   "cell_type": "code",
   "execution_count": 25,
   "source": [
    "def clean_trigram_text(string):\n",
    "    \"\"\"\n",
    "    This takes a string of text, tokenizes it, removes stopwords, and splits it into trigrams\n",
    "    \"\"\"\n",
    "    extra_stopwords = ['``', \"'s\", '•', \"n't\", '.', 'w/','b/c','w', '/', '', ':', '!', '&amp', ';']\n",
    "    tokenized = nltk.word_tokenize(string)\n",
    "    cleaned = [string.lower() for string in tokenized if string not in extra_stopwords]\n",
    "    trigrams = extract_ngrams(cleaned, 3)\n",
    "    return trigrams"
   ],
   "outputs": [],
   "metadata": {}
  },
  {
   "cell_type": "code",
   "execution_count": 26,
   "source": [
    "def clean_bigram_text(string):\n",
    "    \"\"\"\n",
    "    This takes a string of text, tokenizes it, removes stopwords, and splits it into bigrams\n",
    "    \"\"\"\n",
    "    extra_stopwords = ['``', \"'s\", '•', \"n't\", '.', 'w/','b/c','w', '/', '', ':', '!', '&amp', ';']\n",
    "    tokenized = nltk.word_tokenize(string)\n",
    "    cleaned = [string.lower() for string in tokenized if string not in extra_stopwords]\n",
    "    bigrams = extract_ngrams(cleaned, 2)\n",
    "    return bigrams"
   ],
   "outputs": [],
   "metadata": {}
  },
  {
   "cell_type": "code",
   "execution_count": 27,
   "source": [
    "def apply_ngrams(df):\n",
    "    # Apply ngram/cleaning functions to the text in the df\n",
    "    df['trigrams'] = df['text'].apply(clean_trigram_text)\n",
    "    df['bigrams'] = df['text'].apply(clean_bigram_text)\n",
    "    df['tok_text'] = df['text'].apply(tokenize_text)\n",
    "    df['tok_text2'] = df['text'].apply(lambda row: tweet_tokenizer.tokenize(row))\n",
    "    return df"
   ],
   "outputs": [],
   "metadata": {}
  },
  {
   "cell_type": "code",
   "execution_count": 28,
   "source": [
    "def extract_ngrams(data, num):\n",
    "    '''\n",
    "    input: tokenized list of data, type of ngram\n",
    "    output: readable ngrams\n",
    "    '''\n",
    "    n_grams = ngrams(data, num)\n",
    "    return [' '.join(grams) for grams in n_grams]"
   ],
   "outputs": [],
   "metadata": {}
  },
  {
   "cell_type": "code",
   "execution_count": 29,
   "source": [
    "def get_hashtags(df):\n",
    "    '''\n",
    "    input: dataframe of tweets\n",
    "    output: pd series of hashtags\n",
    "    '''\n",
    "    df['hashtags']=df['text'].apply(lambda x: re.findall(r\"#(\\w+)\", x))\n",
    "    return df"
   ],
   "outputs": [],
   "metadata": {}
  },
  {
   "cell_type": "code",
   "execution_count": 30,
   "source": [
    "def freq_analysis(df, search_phrases):\n",
    "    tweets = []\n",
    "    # For trigram search phrases\n",
    "    for i in range(len(df.trigrams)):\n",
    "        if any(x in search_phrases for x in df.trigrams.iloc[i]):\n",
    "            tweets.append(df.text.iloc[i])\n",
    "\n",
    "    # For bigram search phrases\n",
    "    for j in range(len(df.bigrams)):\n",
    "        if any(y in search_phrases for y in df.bigrams.iloc[j]):\n",
    "            tweets.append(df.text.iloc[j])\n",
    "\n",
    "    # For single word searches\n",
    "    for k in range(len(df.tok_text)):\n",
    "        if any(z in search_phrases for z in df.tok_text.iloc[k]):\n",
    "            tweets.append(df.text.iloc[k])\n",
    "    \n",
    "    tweets = pd.Series(tweets).drop_duplicates().to_list()\n",
    "    return tweets\n",
    "    \n",
    "    "
   ],
   "outputs": [],
   "metadata": {}
  },
  {
   "cell_type": "code",
   "execution_count": 31,
   "source": [
    "shooting_keywords = {'Plano':[\"spencer hight\",\"meredith\",\"dallas\",\"plano\",\"caleb edwards\",\"deffner\",\n",
    "                              \"rushin\",'hight','husband killed wife','estranged wife','eight people',\n",
    "                              'football-watching party'],\n",
    "                     'Pittsburgh':[\"pittsburgh\",\"synagogue\",\"bowers\",\"tree life\",\"squirrel hill\",\"jewish\",\n",
    "                                   \"anti-semitism\",\"jews\",'11 people','anti-Semitism','11 dead','anti-semitic'],\n",
    "                     'Las_Vegas':[\"paddock\",\"mandalay bay\",\"route 91 harvest\",\"vegas\",\"las vegas\",\"concert\",\"mesquite\",\"lombardo\",'country music event','music festival','64-year-old man','58 people',\n",
    "                              '500 injured','58','500 injured','59','injured 500','59 deaths','58 dead'],\n",
    "                     'SanBernadino':['syed','rizwan','farook','tashfeen','malik','SUV',\"inland regional center\",\n",
    "                                     \"san bernardino\",\"redlands\",\"christmas party\",\"public health department\",\"bomb\",\n",
    "                                     '14 people','14 injured','14 lives','fourteen people','multiple shooters','gunmen',\n",
    "                                     '14 dead','14 victims','developmental disabilities','disabled','17 injured',\n",
    "                                     'san bernadino','public facility','sheriff deputy','muslim','islamic'],\n",
    "                     'Houston':['conley','harris county','ex-girlfriend','houston','saturday','valerie jackson','window'],\n",
    "                     'Odessa':['saturday','midland','odessa','seth','aaron','ator','west texas','traffic stop',\n",
    "                               'white van','movie theater','random','5 people','21 injured','zack owens','rifle',\n",
    "                               'midland-odessa','seven people','eight deaths'],\n",
    "                     'Bogue_Chitto':['bogue chitto','lincoln county','brookhaven','eight people','eight people', 'mississippi', 'Godbolt'],\n",
    "                     'Washington':['washington navy yard','alexis','monday','contractor','12 people','navy yard',\n",
    "                           'military facility','armed military','12 victims','13 dead'],\n",
    "                     'Boulder':['king soopers','boulder','ahmad al','aliwi','al-issa','alissa','arrested','9mm handgun',\n",
    "                                'table mesa drive','eric talley','boulder police','in custody','ten people','10 people',\n",
    "                                'grocery store','21-year-old','10 dead'],\n",
    "                     'Virginia':['virginia beach','dewayne','craddock','employee','nettleton','.45-caliber','engineer','municipal',\n",
    "                     '11 people','12 people','cervera','police chief','.45 handgun','12 dead']\n",
    "                    }"
   ],
   "outputs": [],
   "metadata": {}
  },
  {
   "cell_type": "markdown",
   "source": [
    "Preprocessing"
   ],
   "metadata": {}
  },
  {
   "cell_type": "code",
   "execution_count": 32,
   "source": [
    "Shootings = pd.read_csv(\"https://raw.githubusercontent.com/khahnmad/Use-News-Seminar/main/v2-sampled_shootings.csv?token=AVHGXJX2RM2B5BZZ66XNTCTBFU3Z4\")"
   ],
   "outputs": [],
   "metadata": {}
  },
  {
   "cell_type": "code",
   "execution_count": 76,
   "source": [
    "summary = dict()\n",
    "dates = []\n",
    "corpus = []\n",
    "for i in shooting_keywords.keys():\n",
    "\n",
    "\n",
    "    with open(f\"TwitterData/Tweets_{i}.json\",'r') as f:\n",
    "        Shooting = json.load(f)\n",
    "    \n",
    "    Shooting = pd.read_json(Shooting)\n",
    "\n",
    "\n",
    "    if i == \"Virginia\":\n",
    "        Shooting = Shooting.drop([19968, 87939])\n",
    "    \n",
    "    \n",
    "    \n",
    "    Shooting = Shooting.drop_duplicates()\n",
    "\n",
    "    \n",
    "\n",
    "    \n",
    "    Shooting[\"date\"] = pd.to_datetime(Shooting[\"date\"]).apply(lambda x: x.date())\n",
    "    Shooting['hashtag'] = Shooting['text'].apply(lambda x: re.findall(r\"#(\\w+)\", x))\n",
    "    Shooting = apply_ngrams(Shooting)\n",
    "\n",
    "    #Count tweets\n",
    "\n",
    "    tweets = freq_analysis(Shooting, shooting_keywords[i])\n",
    "    corpus.append(tweets)\n",
    "    dates.append(Shooting[Shooting['text'].isin(tweets)].date.tolist())\n",
    "    summary[i] = [len(Shooting), len(tweets)]\n",
    "    \n",
    "\n",
    "    \n",
    "    \n",
    "    \n"
   ],
   "outputs": [],
   "metadata": {}
  },
  {
   "cell_type": "code",
   "execution_count": 78,
   "source": [
    "pd.DataFrame.from_dict(summary, orient='index', columns=[\"Total Tweets\", \"Tweets on Topic\"]).reset_index()"
   ],
   "outputs": [
    {
     "output_type": "execute_result",
     "data": {
      "text/plain": [
       "          index  Total Tweets  Tweets on Topic\n",
       "0         Plano         76902               25\n",
       "1    Pittsburgh         63341              798\n",
       "2     Las_Vegas         71655              556\n",
       "3  SanBernadino         33926              308\n",
       "4       Houston         55100              227\n",
       "5        Odessa        103185              774\n",
       "6  Bogue_Chitto         73972              132\n",
       "7    Washington         52456              292\n",
       "8       Boulder        115561              508\n",
       "9      Virginia         62924              259"
      ],
      "text/html": [
       "<div>\n",
       "<style scoped>\n",
       "    .dataframe tbody tr th:only-of-type {\n",
       "        vertical-align: middle;\n",
       "    }\n",
       "\n",
       "    .dataframe tbody tr th {\n",
       "        vertical-align: top;\n",
       "    }\n",
       "\n",
       "    .dataframe thead th {\n",
       "        text-align: right;\n",
       "    }\n",
       "</style>\n",
       "<table border=\"1\" class=\"dataframe\">\n",
       "  <thead>\n",
       "    <tr style=\"text-align: right;\">\n",
       "      <th></th>\n",
       "      <th>index</th>\n",
       "      <th>Total Tweets</th>\n",
       "      <th>Tweets on Topic</th>\n",
       "    </tr>\n",
       "  </thead>\n",
       "  <tbody>\n",
       "    <tr>\n",
       "      <th>0</th>\n",
       "      <td>Plano</td>\n",
       "      <td>76902</td>\n",
       "      <td>25</td>\n",
       "    </tr>\n",
       "    <tr>\n",
       "      <th>1</th>\n",
       "      <td>Pittsburgh</td>\n",
       "      <td>63341</td>\n",
       "      <td>798</td>\n",
       "    </tr>\n",
       "    <tr>\n",
       "      <th>2</th>\n",
       "      <td>Las_Vegas</td>\n",
       "      <td>71655</td>\n",
       "      <td>556</td>\n",
       "    </tr>\n",
       "    <tr>\n",
       "      <th>3</th>\n",
       "      <td>SanBernadino</td>\n",
       "      <td>33926</td>\n",
       "      <td>308</td>\n",
       "    </tr>\n",
       "    <tr>\n",
       "      <th>4</th>\n",
       "      <td>Houston</td>\n",
       "      <td>55100</td>\n",
       "      <td>227</td>\n",
       "    </tr>\n",
       "    <tr>\n",
       "      <th>5</th>\n",
       "      <td>Odessa</td>\n",
       "      <td>103185</td>\n",
       "      <td>774</td>\n",
       "    </tr>\n",
       "    <tr>\n",
       "      <th>6</th>\n",
       "      <td>Bogue_Chitto</td>\n",
       "      <td>73972</td>\n",
       "      <td>132</td>\n",
       "    </tr>\n",
       "    <tr>\n",
       "      <th>7</th>\n",
       "      <td>Washington</td>\n",
       "      <td>52456</td>\n",
       "      <td>292</td>\n",
       "    </tr>\n",
       "    <tr>\n",
       "      <th>8</th>\n",
       "      <td>Boulder</td>\n",
       "      <td>115561</td>\n",
       "      <td>508</td>\n",
       "    </tr>\n",
       "    <tr>\n",
       "      <th>9</th>\n",
       "      <td>Virginia</td>\n",
       "      <td>62924</td>\n",
       "      <td>259</td>\n",
       "    </tr>\n",
       "  </tbody>\n",
       "</table>\n",
       "</div>"
      ]
     },
     "metadata": {},
     "execution_count": 78
    }
   ],
   "metadata": {}
  },
  {
   "cell_type": "code",
   "execution_count": 66,
   "source": [
    "summary[\"Las Vegas\"] = summary.pop(\"Las_Vegas\")\n",
    "summary[\"Washington Navy Yard\"] = summary.pop(\"Washington\")\n",
    "summary[\"San Bernardino\"] = summary.pop(\"SanBernadino\")\n",
    "summary[\"Bogue Chitto\"] = summary.pop(\"Bogue_Chitto\")\n",
    "summary[\"Virginia Beach\"] = summary.pop(\"Virginia\")\n",
    "\n"
   ],
   "outputs": [],
   "metadata": {}
  },
  {
   "cell_type": "code",
   "execution_count": 67,
   "source": [
    "Count = pd.DataFrame.from_dict(summary, orient='index', columns=[\"Total Tweets\", \"Tweets on Topic\"]).reset_index().rename(columns={'index':'City Or County'})"
   ],
   "outputs": [],
   "metadata": {}
  },
  {
   "cell_type": "code",
   "execution_count": 68,
   "source": [
    "Shootings = Shootings.merge(Count, how='left', on='City Or County')"
   ],
   "outputs": [],
   "metadata": {}
  },
  {
   "cell_type": "code",
   "execution_count": 70,
   "source": [
    "import matplotlib.pyplot as plt\n",
    "plt.rc('xtick', labelsize=8)"
   ],
   "outputs": [],
   "metadata": {}
  },
  {
   "cell_type": "code",
   "execution_count": 71,
   "source": [
    "fig, ax = plt.subplots()\n",
    "ax.set_ylabel('Number of Tweets')\n",
    "ax.set_title(\"Number of Tweets about each Shooting\")\n",
    "pps = ax.bar(x=[Shootings.iloc[i,0] for i in range(0, len(Shootings))], height=[Shootings.iloc[i,-1] for i in range(0, len(Shootings))])\n",
    "for p in pps:\n",
    "   height = p.get_height()\n",
    "   ax.annotate('{}'.format(height),\n",
    "      xy=(p.get_x() + p.get_width() / 2, height),\n",
    "      xytext=(0, 3), # 3 points vertical offset\n",
    "      textcoords=\"offset points\",\n",
    "      ha='center', va='bottom')\n",
    "\n",
    "plt.xticks(rotation = 90)\n",
    "plt.show()"
   ],
   "outputs": [
    {
     "output_type": "display_data",
     "data": {
      "text/plain": [
       "<Figure size 432x288 with 1 Axes>"
      ],
      "image/svg+xml": "<?xml version=\"1.0\" encoding=\"utf-8\" standalone=\"no\"?>\n<!DOCTYPE svg PUBLIC \"-//W3C//DTD SVG 1.1//EN\"\n  \"http://www.w3.org/Graphics/SVG/1.1/DTD/svg11.dtd\">\n<svg height=\"343.329375pt\" version=\"1.1\" viewBox=\"0 0 388.965625 343.329375\" width=\"388.965625pt\" xmlns=\"http://www.w3.org/2000/svg\" xmlns:xlink=\"http://www.w3.org/1999/xlink\">\n <metadata>\n  <rdf:RDF xmlns:cc=\"http://creativecommons.org/ns#\" xmlns:dc=\"http://purl.org/dc/elements/1.1/\" xmlns:rdf=\"http://www.w3.org/1999/02/22-rdf-syntax-ns#\">\n   <cc:Work>\n    <dc:type rdf:resource=\"http://purl.org/dc/dcmitype/StillImage\"/>\n    <dc:date>2021-08-24T14:08:15.265556</dc:date>\n    <dc:format>image/svg+xml</dc:format>\n    <dc:creator>\n     <cc:Agent>\n      <dc:title>Matplotlib v3.4.3, https://matplotlib.org/</dc:title>\n     </cc:Agent>\n    </dc:creator>\n   </cc:Work>\n  </rdf:RDF>\n </metadata>\n <defs>\n  <style type=\"text/css\">*{stroke-linecap:butt;stroke-linejoin:round;}</style>\n </defs>\n <g id=\"figure_1\">\n  <g id=\"patch_1\">\n   <path d=\"M 0 343.329375 \nL 388.965625 343.329375 \nL 388.965625 0 \nL 0 0 \nz\n\" style=\"fill:none;\"/>\n  </g>\n  <g id=\"axes_1\">\n   <g id=\"patch_2\">\n    <path d=\"M 46.965625 239.758125 \nL 381.765625 239.758125 \nL 381.765625 22.318125 \nL 46.965625 22.318125 \nz\n\" style=\"fill:#ffffff;\"/>\n   </g>\n   <g id=\"patch_3\">\n    <path clip-path=\"url(#pdcaccbd2dc)\" d=\"M 62.183807 239.758125 \nL 87.029818 239.758125 \nL 87.029818 159.830305 \nL 62.183807 159.830305 \nz\n\" style=\"fill:#1f77b4;\"/>\n   </g>\n   <g id=\"patch_4\">\n    <path clip-path=\"url(#pdcaccbd2dc)\" d=\"M 93.241321 239.758125 \nL 118.087332 239.758125 \nL 118.087332 180.850284 \nL 93.241321 180.850284 \nz\n\" style=\"fill:#1f77b4;\"/>\n   </g>\n   <g id=\"patch_5\">\n    <path clip-path=\"url(#pdcaccbd2dc)\" d=\"M 124.298835 239.758125 \nL 149.144846 239.758125 \nL 149.144846 163.9824 \nL 124.298835 163.9824 \nz\n\" style=\"fill:#1f77b4;\"/>\n   </g>\n   <g id=\"patch_6\">\n    <path clip-path=\"url(#pdcaccbd2dc)\" d=\"M 155.356349 239.758125 \nL 180.20236 239.758125 \nL 180.20236 107.929124 \nL 155.356349 107.929124 \nz\n\" style=\"fill:#1f77b4;\"/>\n   </g>\n   <g id=\"patch_7\">\n    <path clip-path=\"url(#pdcaccbd2dc)\" d=\"M 186.413862 239.758125 \nL 211.259874 239.758125 \nL 211.259874 38.900552 \nL 186.413862 38.900552 \nz\n\" style=\"fill:#1f77b4;\"/>\n   </g>\n   <g id=\"patch_8\">\n    <path clip-path=\"url(#pdcaccbd2dc)\" d=\"M 217.471376 239.758125 \nL 242.317388 239.758125 \nL 242.317388 32.672411 \nL 217.471376 32.672411 \nz\n\" style=\"fill:#1f77b4;\"/>\n   </g>\n   <g id=\"patch_9\">\n    <path clip-path=\"url(#pdcaccbd2dc)\" d=\"M 248.52889 239.758125 \nL 273.374901 239.758125 \nL 273.374901 95.47284 \nL 248.52889 95.47284 \nz\n\" style=\"fill:#1f77b4;\"/>\n   </g>\n   <g id=\"patch_10\">\n    <path clip-path=\"url(#pdcaccbd2dc)\" d=\"M 279.586404 239.758125 \nL 304.432415 239.758125 \nL 304.432415 233.270477 \nL 279.586404 233.270477 \nz\n\" style=\"fill:#1f77b4;\"/>\n   </g>\n   <g id=\"patch_11\">\n    <path clip-path=\"url(#pdcaccbd2dc)\" d=\"M 310.643918 239.758125 \nL 335.489929 239.758125 \nL 335.489929 205.503345 \nL 310.643918 205.503345 \nz\n\" style=\"fill:#1f77b4;\"/>\n   </g>\n   <g id=\"patch_12\">\n    <path clip-path=\"url(#pdcaccbd2dc)\" d=\"M 341.701432 239.758125 \nL 366.547443 239.758125 \nL 366.547443 172.546095 \nL 341.701432 172.546095 \nz\n\" style=\"fill:#1f77b4;\"/>\n   </g>\n   <g id=\"matplotlib.axis_1\">\n    <g id=\"xtick_1\">\n     <g id=\"line2d_1\">\n      <defs>\n       <path d=\"M 0 0 \nL 0 3.5 \n\" id=\"m60324fa962\" style=\"stroke:#000000;stroke-width:0.8;\"/>\n      </defs>\n      <g>\n       <use style=\"stroke:#000000;stroke-width:0.8;\" x=\"74.606812\" xlink:href=\"#m60324fa962\" y=\"239.758125\"/>\n      </g>\n     </g>\n     <g id=\"text_1\">\n      <!-- San Bernardino -->\n      <g transform=\"translate(76.814312 308.299375)rotate(-90)scale(0.08 -0.08)\">\n       <defs>\n        <path d=\"M 3425 4513 \nL 3425 3897 \nQ 3066 4069 2747 4153 \nQ 2428 4238 2131 4238 \nQ 1616 4238 1336 4038 \nQ 1056 3838 1056 3469 \nQ 1056 3159 1242 3001 \nQ 1428 2844 1947 2747 \nL 2328 2669 \nQ 3034 2534 3370 2195 \nQ 3706 1856 3706 1288 \nQ 3706 609 3251 259 \nQ 2797 -91 1919 -91 \nQ 1588 -91 1214 -16 \nQ 841 59 441 206 \nL 441 856 \nQ 825 641 1194 531 \nQ 1563 422 1919 422 \nQ 2459 422 2753 634 \nQ 3047 847 3047 1241 \nQ 3047 1584 2836 1778 \nQ 2625 1972 2144 2069 \nL 1759 2144 \nQ 1053 2284 737 2584 \nQ 422 2884 422 3419 \nQ 422 4038 858 4394 \nQ 1294 4750 2059 4750 \nQ 2388 4750 2728 4690 \nQ 3069 4631 3425 4513 \nz\n\" id=\"DejaVuSans-53\" transform=\"scale(0.015625)\"/>\n        <path d=\"M 2194 1759 \nQ 1497 1759 1228 1600 \nQ 959 1441 959 1056 \nQ 959 750 1161 570 \nQ 1363 391 1709 391 \nQ 2188 391 2477 730 \nQ 2766 1069 2766 1631 \nL 2766 1759 \nL 2194 1759 \nz\nM 3341 1997 \nL 3341 0 \nL 2766 0 \nL 2766 531 \nQ 2569 213 2275 61 \nQ 1981 -91 1556 -91 \nQ 1019 -91 701 211 \nQ 384 513 384 1019 \nQ 384 1609 779 1909 \nQ 1175 2209 1959 2209 \nL 2766 2209 \nL 2766 2266 \nQ 2766 2663 2505 2880 \nQ 2244 3097 1772 3097 \nQ 1472 3097 1187 3025 \nQ 903 2953 641 2809 \nL 641 3341 \nQ 956 3463 1253 3523 \nQ 1550 3584 1831 3584 \nQ 2591 3584 2966 3190 \nQ 3341 2797 3341 1997 \nz\n\" id=\"DejaVuSans-61\" transform=\"scale(0.015625)\"/>\n        <path d=\"M 3513 2113 \nL 3513 0 \nL 2938 0 \nL 2938 2094 \nQ 2938 2591 2744 2837 \nQ 2550 3084 2163 3084 \nQ 1697 3084 1428 2787 \nQ 1159 2491 1159 1978 \nL 1159 0 \nL 581 0 \nL 581 3500 \nL 1159 3500 \nL 1159 2956 \nQ 1366 3272 1645 3428 \nQ 1925 3584 2291 3584 \nQ 2894 3584 3203 3211 \nQ 3513 2838 3513 2113 \nz\n\" id=\"DejaVuSans-6e\" transform=\"scale(0.015625)\"/>\n        <path id=\"DejaVuSans-20\" transform=\"scale(0.015625)\"/>\n        <path d=\"M 1259 2228 \nL 1259 519 \nL 2272 519 \nQ 2781 519 3026 730 \nQ 3272 941 3272 1375 \nQ 3272 1813 3026 2020 \nQ 2781 2228 2272 2228 \nL 1259 2228 \nz\nM 1259 4147 \nL 1259 2741 \nL 2194 2741 \nQ 2656 2741 2882 2914 \nQ 3109 3088 3109 3444 \nQ 3109 3797 2882 3972 \nQ 2656 4147 2194 4147 \nL 1259 4147 \nz\nM 628 4666 \nL 2241 4666 \nQ 2963 4666 3353 4366 \nQ 3744 4066 3744 3513 \nQ 3744 3084 3544 2831 \nQ 3344 2578 2956 2516 \nQ 3422 2416 3680 2098 \nQ 3938 1781 3938 1306 \nQ 3938 681 3513 340 \nQ 3088 0 2303 0 \nL 628 0 \nL 628 4666 \nz\n\" id=\"DejaVuSans-42\" transform=\"scale(0.015625)\"/>\n        <path d=\"M 3597 1894 \nL 3597 1613 \nL 953 1613 \nQ 991 1019 1311 708 \nQ 1631 397 2203 397 \nQ 2534 397 2845 478 \nQ 3156 559 3463 722 \nL 3463 178 \nQ 3153 47 2828 -22 \nQ 2503 -91 2169 -91 \nQ 1331 -91 842 396 \nQ 353 884 353 1716 \nQ 353 2575 817 3079 \nQ 1281 3584 2069 3584 \nQ 2775 3584 3186 3129 \nQ 3597 2675 3597 1894 \nz\nM 3022 2063 \nQ 3016 2534 2758 2815 \nQ 2500 3097 2075 3097 \nQ 1594 3097 1305 2825 \nQ 1016 2553 972 2059 \nL 3022 2063 \nz\n\" id=\"DejaVuSans-65\" transform=\"scale(0.015625)\"/>\n        <path d=\"M 2631 2963 \nQ 2534 3019 2420 3045 \nQ 2306 3072 2169 3072 \nQ 1681 3072 1420 2755 \nQ 1159 2438 1159 1844 \nL 1159 0 \nL 581 0 \nL 581 3500 \nL 1159 3500 \nL 1159 2956 \nQ 1341 3275 1631 3429 \nQ 1922 3584 2338 3584 \nQ 2397 3584 2469 3576 \nQ 2541 3569 2628 3553 \nL 2631 2963 \nz\n\" id=\"DejaVuSans-72\" transform=\"scale(0.015625)\"/>\n        <path d=\"M 2906 2969 \nL 2906 4863 \nL 3481 4863 \nL 3481 0 \nL 2906 0 \nL 2906 525 \nQ 2725 213 2448 61 \nQ 2172 -91 1784 -91 \nQ 1150 -91 751 415 \nQ 353 922 353 1747 \nQ 353 2572 751 3078 \nQ 1150 3584 1784 3584 \nQ 2172 3584 2448 3432 \nQ 2725 3281 2906 2969 \nz\nM 947 1747 \nQ 947 1113 1208 752 \nQ 1469 391 1925 391 \nQ 2381 391 2643 752 \nQ 2906 1113 2906 1747 \nQ 2906 2381 2643 2742 \nQ 2381 3103 1925 3103 \nQ 1469 3103 1208 2742 \nQ 947 2381 947 1747 \nz\n\" id=\"DejaVuSans-64\" transform=\"scale(0.015625)\"/>\n        <path d=\"M 603 3500 \nL 1178 3500 \nL 1178 0 \nL 603 0 \nL 603 3500 \nz\nM 603 4863 \nL 1178 4863 \nL 1178 4134 \nL 603 4134 \nL 603 4863 \nz\n\" id=\"DejaVuSans-69\" transform=\"scale(0.015625)\"/>\n        <path d=\"M 1959 3097 \nQ 1497 3097 1228 2736 \nQ 959 2375 959 1747 \nQ 959 1119 1226 758 \nQ 1494 397 1959 397 \nQ 2419 397 2687 759 \nQ 2956 1122 2956 1747 \nQ 2956 2369 2687 2733 \nQ 2419 3097 1959 3097 \nz\nM 1959 3584 \nQ 2709 3584 3137 3096 \nQ 3566 2609 3566 1747 \nQ 3566 888 3137 398 \nQ 2709 -91 1959 -91 \nQ 1206 -91 779 398 \nQ 353 888 353 1747 \nQ 353 2609 779 3096 \nQ 1206 3584 1959 3584 \nz\n\" id=\"DejaVuSans-6f\" transform=\"scale(0.015625)\"/>\n       </defs>\n       <use xlink:href=\"#DejaVuSans-53\"/>\n       <use x=\"63.476562\" xlink:href=\"#DejaVuSans-61\"/>\n       <use x=\"124.755859\" xlink:href=\"#DejaVuSans-6e\"/>\n       <use x=\"188.134766\" xlink:href=\"#DejaVuSans-20\"/>\n       <use x=\"219.921875\" xlink:href=\"#DejaVuSans-42\"/>\n       <use x=\"288.525391\" xlink:href=\"#DejaVuSans-65\"/>\n       <use x=\"350.048828\" xlink:href=\"#DejaVuSans-72\"/>\n       <use x=\"389.412109\" xlink:href=\"#DejaVuSans-6e\"/>\n       <use x=\"452.791016\" xlink:href=\"#DejaVuSans-61\"/>\n       <use x=\"514.070312\" xlink:href=\"#DejaVuSans-72\"/>\n       <use x=\"553.433594\" xlink:href=\"#DejaVuSans-64\"/>\n       <use x=\"616.910156\" xlink:href=\"#DejaVuSans-69\"/>\n       <use x=\"644.693359\" xlink:href=\"#DejaVuSans-6e\"/>\n       <use x=\"708.072266\" xlink:href=\"#DejaVuSans-6f\"/>\n      </g>\n     </g>\n    </g>\n    <g id=\"xtick_2\">\n     <g id=\"line2d_2\">\n      <g>\n       <use style=\"stroke:#000000;stroke-width:0.8;\" x=\"105.664326\" xlink:href=\"#m60324fa962\" y=\"239.758125\"/>\n      </g>\n     </g>\n     <g id=\"text_2\">\n      <!-- Houston -->\n      <g transform=\"translate(107.871826 280.008125)rotate(-90)scale(0.08 -0.08)\">\n       <defs>\n        <path d=\"M 628 4666 \nL 1259 4666 \nL 1259 2753 \nL 3553 2753 \nL 3553 4666 \nL 4184 4666 \nL 4184 0 \nL 3553 0 \nL 3553 2222 \nL 1259 2222 \nL 1259 0 \nL 628 0 \nL 628 4666 \nz\n\" id=\"DejaVuSans-48\" transform=\"scale(0.015625)\"/>\n        <path d=\"M 544 1381 \nL 544 3500 \nL 1119 3500 \nL 1119 1403 \nQ 1119 906 1312 657 \nQ 1506 409 1894 409 \nQ 2359 409 2629 706 \nQ 2900 1003 2900 1516 \nL 2900 3500 \nL 3475 3500 \nL 3475 0 \nL 2900 0 \nL 2900 538 \nQ 2691 219 2414 64 \nQ 2138 -91 1772 -91 \nQ 1169 -91 856 284 \nQ 544 659 544 1381 \nz\nM 1991 3584 \nL 1991 3584 \nz\n\" id=\"DejaVuSans-75\" transform=\"scale(0.015625)\"/>\n        <path d=\"M 2834 3397 \nL 2834 2853 \nQ 2591 2978 2328 3040 \nQ 2066 3103 1784 3103 \nQ 1356 3103 1142 2972 \nQ 928 2841 928 2578 \nQ 928 2378 1081 2264 \nQ 1234 2150 1697 2047 \nL 1894 2003 \nQ 2506 1872 2764 1633 \nQ 3022 1394 3022 966 \nQ 3022 478 2636 193 \nQ 2250 -91 1575 -91 \nQ 1294 -91 989 -36 \nQ 684 19 347 128 \nL 347 722 \nQ 666 556 975 473 \nQ 1284 391 1588 391 \nQ 1994 391 2212 530 \nQ 2431 669 2431 922 \nQ 2431 1156 2273 1281 \nQ 2116 1406 1581 1522 \nL 1381 1569 \nQ 847 1681 609 1914 \nQ 372 2147 372 2553 \nQ 372 3047 722 3315 \nQ 1072 3584 1716 3584 \nQ 2034 3584 2315 3537 \nQ 2597 3491 2834 3397 \nz\n\" id=\"DejaVuSans-73\" transform=\"scale(0.015625)\"/>\n        <path d=\"M 1172 4494 \nL 1172 3500 \nL 2356 3500 \nL 2356 3053 \nL 1172 3053 \nL 1172 1153 \nQ 1172 725 1289 603 \nQ 1406 481 1766 481 \nL 2356 481 \nL 2356 0 \nL 1766 0 \nQ 1100 0 847 248 \nQ 594 497 594 1153 \nL 594 3053 \nL 172 3053 \nL 172 3500 \nL 594 3500 \nL 594 4494 \nL 1172 4494 \nz\n\" id=\"DejaVuSans-74\" transform=\"scale(0.015625)\"/>\n       </defs>\n       <use xlink:href=\"#DejaVuSans-48\"/>\n       <use x=\"75.195312\" xlink:href=\"#DejaVuSans-6f\"/>\n       <use x=\"136.376953\" xlink:href=\"#DejaVuSans-75\"/>\n       <use x=\"199.755859\" xlink:href=\"#DejaVuSans-73\"/>\n       <use x=\"251.855469\" xlink:href=\"#DejaVuSans-74\"/>\n       <use x=\"291.064453\" xlink:href=\"#DejaVuSans-6f\"/>\n       <use x=\"352.246094\" xlink:href=\"#DejaVuSans-6e\"/>\n      </g>\n     </g>\n    </g>\n    <g id=\"xtick_3\">\n     <g id=\"line2d_3\">\n      <g>\n       <use style=\"stroke:#000000;stroke-width:0.8;\" x=\"136.72184\" xlink:href=\"#m60324fa962\" y=\"239.758125\"/>\n      </g>\n     </g>\n     <g id=\"text_3\">\n      <!-- Washington Navy Yard -->\n      <g transform=\"translate(138.92934 336.129375)rotate(-90)scale(0.08 -0.08)\">\n       <defs>\n        <path d=\"M 213 4666 \nL 850 4666 \nL 1831 722 \nL 2809 4666 \nL 3519 4666 \nL 4500 722 \nL 5478 4666 \nL 6119 4666 \nL 4947 0 \nL 4153 0 \nL 3169 4050 \nL 2175 0 \nL 1381 0 \nL 213 4666 \nz\n\" id=\"DejaVuSans-57\" transform=\"scale(0.015625)\"/>\n        <path d=\"M 3513 2113 \nL 3513 0 \nL 2938 0 \nL 2938 2094 \nQ 2938 2591 2744 2837 \nQ 2550 3084 2163 3084 \nQ 1697 3084 1428 2787 \nQ 1159 2491 1159 1978 \nL 1159 0 \nL 581 0 \nL 581 4863 \nL 1159 4863 \nL 1159 2956 \nQ 1366 3272 1645 3428 \nQ 1925 3584 2291 3584 \nQ 2894 3584 3203 3211 \nQ 3513 2838 3513 2113 \nz\n\" id=\"DejaVuSans-68\" transform=\"scale(0.015625)\"/>\n        <path d=\"M 2906 1791 \nQ 2906 2416 2648 2759 \nQ 2391 3103 1925 3103 \nQ 1463 3103 1205 2759 \nQ 947 2416 947 1791 \nQ 947 1169 1205 825 \nQ 1463 481 1925 481 \nQ 2391 481 2648 825 \nQ 2906 1169 2906 1791 \nz\nM 3481 434 \nQ 3481 -459 3084 -895 \nQ 2688 -1331 1869 -1331 \nQ 1566 -1331 1297 -1286 \nQ 1028 -1241 775 -1147 \nL 775 -588 \nQ 1028 -725 1275 -790 \nQ 1522 -856 1778 -856 \nQ 2344 -856 2625 -561 \nQ 2906 -266 2906 331 \nL 2906 616 \nQ 2728 306 2450 153 \nQ 2172 0 1784 0 \nQ 1141 0 747 490 \nQ 353 981 353 1791 \nQ 353 2603 747 3093 \nQ 1141 3584 1784 3584 \nQ 2172 3584 2450 3431 \nQ 2728 3278 2906 2969 \nL 2906 3500 \nL 3481 3500 \nL 3481 434 \nz\n\" id=\"DejaVuSans-67\" transform=\"scale(0.015625)\"/>\n        <path d=\"M 628 4666 \nL 1478 4666 \nL 3547 763 \nL 3547 4666 \nL 4159 4666 \nL 4159 0 \nL 3309 0 \nL 1241 3903 \nL 1241 0 \nL 628 0 \nL 628 4666 \nz\n\" id=\"DejaVuSans-4e\" transform=\"scale(0.015625)\"/>\n        <path d=\"M 191 3500 \nL 800 3500 \nL 1894 563 \nL 2988 3500 \nL 3597 3500 \nL 2284 0 \nL 1503 0 \nL 191 3500 \nz\n\" id=\"DejaVuSans-76\" transform=\"scale(0.015625)\"/>\n        <path d=\"M 2059 -325 \nQ 1816 -950 1584 -1140 \nQ 1353 -1331 966 -1331 \nL 506 -1331 \nL 506 -850 \nL 844 -850 \nQ 1081 -850 1212 -737 \nQ 1344 -625 1503 -206 \nL 1606 56 \nL 191 3500 \nL 800 3500 \nL 1894 763 \nL 2988 3500 \nL 3597 3500 \nL 2059 -325 \nz\n\" id=\"DejaVuSans-79\" transform=\"scale(0.015625)\"/>\n        <path d=\"M -13 4666 \nL 666 4666 \nL 1959 2747 \nL 3244 4666 \nL 3922 4666 \nL 2272 2222 \nL 2272 0 \nL 1638 0 \nL 1638 2222 \nL -13 4666 \nz\n\" id=\"DejaVuSans-59\" transform=\"scale(0.015625)\"/>\n       </defs>\n       <use xlink:href=\"#DejaVuSans-57\"/>\n       <use x=\"92.501953\" xlink:href=\"#DejaVuSans-61\"/>\n       <use x=\"153.78125\" xlink:href=\"#DejaVuSans-73\"/>\n       <use x=\"205.880859\" xlink:href=\"#DejaVuSans-68\"/>\n       <use x=\"269.259766\" xlink:href=\"#DejaVuSans-69\"/>\n       <use x=\"297.042969\" xlink:href=\"#DejaVuSans-6e\"/>\n       <use x=\"360.421875\" xlink:href=\"#DejaVuSans-67\"/>\n       <use x=\"423.898438\" xlink:href=\"#DejaVuSans-74\"/>\n       <use x=\"463.107422\" xlink:href=\"#DejaVuSans-6f\"/>\n       <use x=\"524.289062\" xlink:href=\"#DejaVuSans-6e\"/>\n       <use x=\"587.667969\" xlink:href=\"#DejaVuSans-20\"/>\n       <use x=\"619.455078\" xlink:href=\"#DejaVuSans-4e\"/>\n       <use x=\"694.259766\" xlink:href=\"#DejaVuSans-61\"/>\n       <use x=\"755.539062\" xlink:href=\"#DejaVuSans-76\"/>\n       <use x=\"814.71875\" xlink:href=\"#DejaVuSans-79\"/>\n       <use x=\"873.898438\" xlink:href=\"#DejaVuSans-20\"/>\n       <use x=\"905.685547\" xlink:href=\"#DejaVuSans-59\"/>\n       <use x=\"953.019531\" xlink:href=\"#DejaVuSans-61\"/>\n       <use x=\"1014.298828\" xlink:href=\"#DejaVuSans-72\"/>\n       <use x=\"1053.662109\" xlink:href=\"#DejaVuSans-64\"/>\n      </g>\n     </g>\n    </g>\n    <g id=\"xtick_4\">\n     <g id=\"line2d_4\">\n      <g>\n       <use style=\"stroke:#000000;stroke-width:0.8;\" x=\"167.779354\" xlink:href=\"#m60324fa962\" y=\"239.758125\"/>\n      </g>\n     </g>\n     <g id=\"text_4\">\n      <!-- Boulder -->\n      <g transform=\"translate(169.986854 277.724375)rotate(-90)scale(0.08 -0.08)\">\n       <defs>\n        <path d=\"M 603 4863 \nL 1178 4863 \nL 1178 0 \nL 603 0 \nL 603 4863 \nz\n\" id=\"DejaVuSans-6c\" transform=\"scale(0.015625)\"/>\n       </defs>\n       <use xlink:href=\"#DejaVuSans-42\"/>\n       <use x=\"68.603516\" xlink:href=\"#DejaVuSans-6f\"/>\n       <use x=\"129.785156\" xlink:href=\"#DejaVuSans-75\"/>\n       <use x=\"193.164062\" xlink:href=\"#DejaVuSans-6c\"/>\n       <use x=\"220.947266\" xlink:href=\"#DejaVuSans-64\"/>\n       <use x=\"284.423828\" xlink:href=\"#DejaVuSans-65\"/>\n       <use x=\"345.947266\" xlink:href=\"#DejaVuSans-72\"/>\n      </g>\n     </g>\n    </g>\n    <g id=\"xtick_5\">\n     <g id=\"line2d_5\">\n      <g>\n       <use style=\"stroke:#000000;stroke-width:0.8;\" x=\"198.836868\" xlink:href=\"#m60324fa962\" y=\"239.758125\"/>\n      </g>\n     </g>\n     <g id=\"text_5\">\n      <!-- Odessa -->\n      <g transform=\"translate(201.044368 276.294375)rotate(-90)scale(0.08 -0.08)\">\n       <defs>\n        <path d=\"M 2522 4238 \nQ 1834 4238 1429 3725 \nQ 1025 3213 1025 2328 \nQ 1025 1447 1429 934 \nQ 1834 422 2522 422 \nQ 3209 422 3611 934 \nQ 4013 1447 4013 2328 \nQ 4013 3213 3611 3725 \nQ 3209 4238 2522 4238 \nz\nM 2522 4750 \nQ 3503 4750 4090 4092 \nQ 4678 3434 4678 2328 \nQ 4678 1225 4090 567 \nQ 3503 -91 2522 -91 \nQ 1538 -91 948 565 \nQ 359 1222 359 2328 \nQ 359 3434 948 4092 \nQ 1538 4750 2522 4750 \nz\n\" id=\"DejaVuSans-4f\" transform=\"scale(0.015625)\"/>\n       </defs>\n       <use xlink:href=\"#DejaVuSans-4f\"/>\n       <use x=\"78.710938\" xlink:href=\"#DejaVuSans-64\"/>\n       <use x=\"142.1875\" xlink:href=\"#DejaVuSans-65\"/>\n       <use x=\"203.710938\" xlink:href=\"#DejaVuSans-73\"/>\n       <use x=\"255.810547\" xlink:href=\"#DejaVuSans-73\"/>\n       <use x=\"307.910156\" xlink:href=\"#DejaVuSans-61\"/>\n      </g>\n     </g>\n    </g>\n    <g id=\"xtick_6\">\n     <g id=\"line2d_6\">\n      <g>\n       <use style=\"stroke:#000000;stroke-width:0.8;\" x=\"229.894382\" xlink:href=\"#m60324fa962\" y=\"239.758125\"/>\n      </g>\n     </g>\n     <g id=\"text_6\">\n      <!-- Pittsburgh -->\n      <g transform=\"translate(232.101882 287.510625)rotate(-90)scale(0.08 -0.08)\">\n       <defs>\n        <path d=\"M 1259 4147 \nL 1259 2394 \nL 2053 2394 \nQ 2494 2394 2734 2622 \nQ 2975 2850 2975 3272 \nQ 2975 3691 2734 3919 \nQ 2494 4147 2053 4147 \nL 1259 4147 \nz\nM 628 4666 \nL 2053 4666 \nQ 2838 4666 3239 4311 \nQ 3641 3956 3641 3272 \nQ 3641 2581 3239 2228 \nQ 2838 1875 2053 1875 \nL 1259 1875 \nL 1259 0 \nL 628 0 \nL 628 4666 \nz\n\" id=\"DejaVuSans-50\" transform=\"scale(0.015625)\"/>\n        <path d=\"M 3116 1747 \nQ 3116 2381 2855 2742 \nQ 2594 3103 2138 3103 \nQ 1681 3103 1420 2742 \nQ 1159 2381 1159 1747 \nQ 1159 1113 1420 752 \nQ 1681 391 2138 391 \nQ 2594 391 2855 752 \nQ 3116 1113 3116 1747 \nz\nM 1159 2969 \nQ 1341 3281 1617 3432 \nQ 1894 3584 2278 3584 \nQ 2916 3584 3314 3078 \nQ 3713 2572 3713 1747 \nQ 3713 922 3314 415 \nQ 2916 -91 2278 -91 \nQ 1894 -91 1617 61 \nQ 1341 213 1159 525 \nL 1159 0 \nL 581 0 \nL 581 4863 \nL 1159 4863 \nL 1159 2969 \nz\n\" id=\"DejaVuSans-62\" transform=\"scale(0.015625)\"/>\n       </defs>\n       <use xlink:href=\"#DejaVuSans-50\"/>\n       <use x=\"58.052734\" xlink:href=\"#DejaVuSans-69\"/>\n       <use x=\"85.835938\" xlink:href=\"#DejaVuSans-74\"/>\n       <use x=\"125.044922\" xlink:href=\"#DejaVuSans-74\"/>\n       <use x=\"164.253906\" xlink:href=\"#DejaVuSans-73\"/>\n       <use x=\"216.353516\" xlink:href=\"#DejaVuSans-62\"/>\n       <use x=\"279.830078\" xlink:href=\"#DejaVuSans-75\"/>\n       <use x=\"343.208984\" xlink:href=\"#DejaVuSans-72\"/>\n       <use x=\"382.572266\" xlink:href=\"#DejaVuSans-67\"/>\n       <use x=\"446.048828\" xlink:href=\"#DejaVuSans-68\"/>\n      </g>\n     </g>\n    </g>\n    <g id=\"xtick_7\">\n     <g id=\"line2d_7\">\n      <g>\n       <use style=\"stroke:#000000;stroke-width:0.8;\" x=\"260.951896\" xlink:href=\"#m60324fa962\" y=\"239.758125\"/>\n      </g>\n     </g>\n     <g id=\"text_7\">\n      <!-- Las Vegas -->\n      <g transform=\"translate(263.159396 286.751875)rotate(-90)scale(0.08 -0.08)\">\n       <defs>\n        <path d=\"M 628 4666 \nL 1259 4666 \nL 1259 531 \nL 3531 531 \nL 3531 0 \nL 628 0 \nL 628 4666 \nz\n\" id=\"DejaVuSans-4c\" transform=\"scale(0.015625)\"/>\n        <path d=\"M 1831 0 \nL 50 4666 \nL 709 4666 \nL 2188 738 \nL 3669 4666 \nL 4325 4666 \nL 2547 0 \nL 1831 0 \nz\n\" id=\"DejaVuSans-56\" transform=\"scale(0.015625)\"/>\n       </defs>\n       <use xlink:href=\"#DejaVuSans-4c\"/>\n       <use x=\"55.712891\" xlink:href=\"#DejaVuSans-61\"/>\n       <use x=\"116.992188\" xlink:href=\"#DejaVuSans-73\"/>\n       <use x=\"169.091797\" xlink:href=\"#DejaVuSans-20\"/>\n       <use x=\"200.878906\" xlink:href=\"#DejaVuSans-56\"/>\n       <use x=\"261.537109\" xlink:href=\"#DejaVuSans-65\"/>\n       <use x=\"323.060547\" xlink:href=\"#DejaVuSans-67\"/>\n       <use x=\"386.537109\" xlink:href=\"#DejaVuSans-61\"/>\n       <use x=\"447.816406\" xlink:href=\"#DejaVuSans-73\"/>\n      </g>\n     </g>\n    </g>\n    <g id=\"xtick_8\">\n     <g id=\"line2d_8\">\n      <g>\n       <use style=\"stroke:#000000;stroke-width:0.8;\" x=\"292.00941\" xlink:href=\"#m60324fa962\" y=\"239.758125\"/>\n      </g>\n     </g>\n     <g id=\"text_8\">\n      <!-- Plano -->\n      <g transform=\"translate(294.21691 268.671875)rotate(-90)scale(0.08 -0.08)\">\n       <use xlink:href=\"#DejaVuSans-50\"/>\n       <use x=\"60.302734\" xlink:href=\"#DejaVuSans-6c\"/>\n       <use x=\"88.085938\" xlink:href=\"#DejaVuSans-61\"/>\n       <use x=\"149.365234\" xlink:href=\"#DejaVuSans-6e\"/>\n       <use x=\"212.744141\" xlink:href=\"#DejaVuSans-6f\"/>\n      </g>\n     </g>\n    </g>\n    <g id=\"xtick_9\">\n     <g id=\"line2d_9\">\n      <g>\n       <use style=\"stroke:#000000;stroke-width:0.8;\" x=\"323.066924\" xlink:href=\"#m60324fa962\" y=\"239.758125\"/>\n      </g>\n     </g>\n     <g id=\"text_9\">\n      <!-- Bogue Chitto -->\n      <g transform=\"translate(325.274424 298.801875)rotate(-90)scale(0.08 -0.08)\">\n       <defs>\n        <path d=\"M 4122 4306 \nL 4122 3641 \nQ 3803 3938 3442 4084 \nQ 3081 4231 2675 4231 \nQ 1875 4231 1450 3742 \nQ 1025 3253 1025 2328 \nQ 1025 1406 1450 917 \nQ 1875 428 2675 428 \nQ 3081 428 3442 575 \nQ 3803 722 4122 1019 \nL 4122 359 \nQ 3791 134 3420 21 \nQ 3050 -91 2638 -91 \nQ 1578 -91 968 557 \nQ 359 1206 359 2328 \nQ 359 3453 968 4101 \nQ 1578 4750 2638 4750 \nQ 3056 4750 3426 4639 \nQ 3797 4528 4122 4306 \nz\n\" id=\"DejaVuSans-43\" transform=\"scale(0.015625)\"/>\n       </defs>\n       <use xlink:href=\"#DejaVuSans-42\"/>\n       <use x=\"68.603516\" xlink:href=\"#DejaVuSans-6f\"/>\n       <use x=\"129.785156\" xlink:href=\"#DejaVuSans-67\"/>\n       <use x=\"193.261719\" xlink:href=\"#DejaVuSans-75\"/>\n       <use x=\"256.640625\" xlink:href=\"#DejaVuSans-65\"/>\n       <use x=\"318.164062\" xlink:href=\"#DejaVuSans-20\"/>\n       <use x=\"349.951172\" xlink:href=\"#DejaVuSans-43\"/>\n       <use x=\"419.775391\" xlink:href=\"#DejaVuSans-68\"/>\n       <use x=\"483.154297\" xlink:href=\"#DejaVuSans-69\"/>\n       <use x=\"510.9375\" xlink:href=\"#DejaVuSans-74\"/>\n       <use x=\"550.146484\" xlink:href=\"#DejaVuSans-74\"/>\n       <use x=\"589.355469\" xlink:href=\"#DejaVuSans-6f\"/>\n      </g>\n     </g>\n    </g>\n    <g id=\"xtick_10\">\n     <g id=\"line2d_10\">\n      <g>\n       <use style=\"stroke:#000000;stroke-width:0.8;\" x=\"354.124438\" xlink:href=\"#m60324fa962\" y=\"239.758125\"/>\n      </g>\n     </g>\n     <g id=\"text_10\">\n      <!-- Virginia Beach -->\n      <g transform=\"translate(356.331938 304.243125)rotate(-90)scale(0.08 -0.08)\">\n       <defs>\n        <path d=\"M 3122 3366 \nL 3122 2828 \nQ 2878 2963 2633 3030 \nQ 2388 3097 2138 3097 \nQ 1578 3097 1268 2742 \nQ 959 2388 959 1747 \nQ 959 1106 1268 751 \nQ 1578 397 2138 397 \nQ 2388 397 2633 464 \nQ 2878 531 3122 666 \nL 3122 134 \nQ 2881 22 2623 -34 \nQ 2366 -91 2075 -91 \nQ 1284 -91 818 406 \nQ 353 903 353 1747 \nQ 353 2603 823 3093 \nQ 1294 3584 2113 3584 \nQ 2378 3584 2631 3529 \nQ 2884 3475 3122 3366 \nz\n\" id=\"DejaVuSans-63\" transform=\"scale(0.015625)\"/>\n       </defs>\n       <use xlink:href=\"#DejaVuSans-56\"/>\n       <use x=\"66.158203\" xlink:href=\"#DejaVuSans-69\"/>\n       <use x=\"93.941406\" xlink:href=\"#DejaVuSans-72\"/>\n       <use x=\"133.304688\" xlink:href=\"#DejaVuSans-67\"/>\n       <use x=\"196.78125\" xlink:href=\"#DejaVuSans-69\"/>\n       <use x=\"224.564453\" xlink:href=\"#DejaVuSans-6e\"/>\n       <use x=\"287.943359\" xlink:href=\"#DejaVuSans-69\"/>\n       <use x=\"315.726562\" xlink:href=\"#DejaVuSans-61\"/>\n       <use x=\"377.005859\" xlink:href=\"#DejaVuSans-20\"/>\n       <use x=\"408.792969\" xlink:href=\"#DejaVuSans-42\"/>\n       <use x=\"477.396484\" xlink:href=\"#DejaVuSans-65\"/>\n       <use x=\"538.919922\" xlink:href=\"#DejaVuSans-61\"/>\n       <use x=\"600.199219\" xlink:href=\"#DejaVuSans-63\"/>\n       <use x=\"655.179688\" xlink:href=\"#DejaVuSans-68\"/>\n      </g>\n     </g>\n    </g>\n   </g>\n   <g id=\"matplotlib.axis_2\">\n    <g id=\"ytick_1\">\n     <g id=\"line2d_11\">\n      <defs>\n       <path d=\"M 0 0 \nL -3.5 0 \n\" id=\"m2fa9236082\" style=\"stroke:#000000;stroke-width:0.8;\"/>\n      </defs>\n      <g>\n       <use style=\"stroke:#000000;stroke-width:0.8;\" x=\"46.965625\" xlink:href=\"#m2fa9236082\" y=\"239.758125\"/>\n      </g>\n     </g>\n     <g id=\"text_11\">\n      <!-- 0 -->\n      <g transform=\"translate(33.603125 243.557344)scale(0.1 -0.1)\">\n       <defs>\n        <path d=\"M 2034 4250 \nQ 1547 4250 1301 3770 \nQ 1056 3291 1056 2328 \nQ 1056 1369 1301 889 \nQ 1547 409 2034 409 \nQ 2525 409 2770 889 \nQ 3016 1369 3016 2328 \nQ 3016 3291 2770 3770 \nQ 2525 4250 2034 4250 \nz\nM 2034 4750 \nQ 2819 4750 3233 4129 \nQ 3647 3509 3647 2328 \nQ 3647 1150 3233 529 \nQ 2819 -91 2034 -91 \nQ 1250 -91 836 529 \nQ 422 1150 422 2328 \nQ 422 3509 836 4129 \nQ 1250 4750 2034 4750 \nz\n\" id=\"DejaVuSans-30\" transform=\"scale(0.015625)\"/>\n       </defs>\n       <use xlink:href=\"#DejaVuSans-30\"/>\n      </g>\n     </g>\n    </g>\n    <g id=\"ytick_2\">\n     <g id=\"line2d_12\">\n      <g>\n       <use style=\"stroke:#000000;stroke-width:0.8;\" x=\"46.965625\" xlink:href=\"#m2fa9236082\" y=\"213.807534\"/>\n      </g>\n     </g>\n     <g id=\"text_12\">\n      <!-- 100 -->\n      <g transform=\"translate(20.878125 217.606753)scale(0.1 -0.1)\">\n       <defs>\n        <path d=\"M 794 531 \nL 1825 531 \nL 1825 4091 \nL 703 3866 \nL 703 4441 \nL 1819 4666 \nL 2450 4666 \nL 2450 531 \nL 3481 531 \nL 3481 0 \nL 794 0 \nL 794 531 \nz\n\" id=\"DejaVuSans-31\" transform=\"scale(0.015625)\"/>\n       </defs>\n       <use xlink:href=\"#DejaVuSans-31\"/>\n       <use x=\"63.623047\" xlink:href=\"#DejaVuSans-30\"/>\n       <use x=\"127.246094\" xlink:href=\"#DejaVuSans-30\"/>\n      </g>\n     </g>\n    </g>\n    <g id=\"ytick_3\">\n     <g id=\"line2d_13\">\n      <g>\n       <use style=\"stroke:#000000;stroke-width:0.8;\" x=\"46.965625\" xlink:href=\"#m2fa9236082\" y=\"187.856943\"/>\n      </g>\n     </g>\n     <g id=\"text_13\">\n      <!-- 200 -->\n      <g transform=\"translate(20.878125 191.656162)scale(0.1 -0.1)\">\n       <defs>\n        <path d=\"M 1228 531 \nL 3431 531 \nL 3431 0 \nL 469 0 \nL 469 531 \nQ 828 903 1448 1529 \nQ 2069 2156 2228 2338 \nQ 2531 2678 2651 2914 \nQ 2772 3150 2772 3378 \nQ 2772 3750 2511 3984 \nQ 2250 4219 1831 4219 \nQ 1534 4219 1204 4116 \nQ 875 4013 500 3803 \nL 500 4441 \nQ 881 4594 1212 4672 \nQ 1544 4750 1819 4750 \nQ 2544 4750 2975 4387 \nQ 3406 4025 3406 3419 \nQ 3406 3131 3298 2873 \nQ 3191 2616 2906 2266 \nQ 2828 2175 2409 1742 \nQ 1991 1309 1228 531 \nz\n\" id=\"DejaVuSans-32\" transform=\"scale(0.015625)\"/>\n       </defs>\n       <use xlink:href=\"#DejaVuSans-32\"/>\n       <use x=\"63.623047\" xlink:href=\"#DejaVuSans-30\"/>\n       <use x=\"127.246094\" xlink:href=\"#DejaVuSans-30\"/>\n      </g>\n     </g>\n    </g>\n    <g id=\"ytick_4\">\n     <g id=\"line2d_14\">\n      <g>\n       <use style=\"stroke:#000000;stroke-width:0.8;\" x=\"46.965625\" xlink:href=\"#m2fa9236082\" y=\"161.906353\"/>\n      </g>\n     </g>\n     <g id=\"text_14\">\n      <!-- 300 -->\n      <g transform=\"translate(20.878125 165.705571)scale(0.1 -0.1)\">\n       <defs>\n        <path d=\"M 2597 2516 \nQ 3050 2419 3304 2112 \nQ 3559 1806 3559 1356 \nQ 3559 666 3084 287 \nQ 2609 -91 1734 -91 \nQ 1441 -91 1130 -33 \nQ 819 25 488 141 \nL 488 750 \nQ 750 597 1062 519 \nQ 1375 441 1716 441 \nQ 2309 441 2620 675 \nQ 2931 909 2931 1356 \nQ 2931 1769 2642 2001 \nQ 2353 2234 1838 2234 \nL 1294 2234 \nL 1294 2753 \nL 1863 2753 \nQ 2328 2753 2575 2939 \nQ 2822 3125 2822 3475 \nQ 2822 3834 2567 4026 \nQ 2313 4219 1838 4219 \nQ 1578 4219 1281 4162 \nQ 984 4106 628 3988 \nL 628 4550 \nQ 988 4650 1302 4700 \nQ 1616 4750 1894 4750 \nQ 2613 4750 3031 4423 \nQ 3450 4097 3450 3541 \nQ 3450 3153 3228 2886 \nQ 3006 2619 2597 2516 \nz\n\" id=\"DejaVuSans-33\" transform=\"scale(0.015625)\"/>\n       </defs>\n       <use xlink:href=\"#DejaVuSans-33\"/>\n       <use x=\"63.623047\" xlink:href=\"#DejaVuSans-30\"/>\n       <use x=\"127.246094\" xlink:href=\"#DejaVuSans-30\"/>\n      </g>\n     </g>\n    </g>\n    <g id=\"ytick_5\">\n     <g id=\"line2d_15\">\n      <g>\n       <use style=\"stroke:#000000;stroke-width:0.8;\" x=\"46.965625\" xlink:href=\"#m2fa9236082\" y=\"135.955762\"/>\n      </g>\n     </g>\n     <g id=\"text_15\">\n      <!-- 400 -->\n      <g transform=\"translate(20.878125 139.754981)scale(0.1 -0.1)\">\n       <defs>\n        <path d=\"M 2419 4116 \nL 825 1625 \nL 2419 1625 \nL 2419 4116 \nz\nM 2253 4666 \nL 3047 4666 \nL 3047 1625 \nL 3713 1625 \nL 3713 1100 \nL 3047 1100 \nL 3047 0 \nL 2419 0 \nL 2419 1100 \nL 313 1100 \nL 313 1709 \nL 2253 4666 \nz\n\" id=\"DejaVuSans-34\" transform=\"scale(0.015625)\"/>\n       </defs>\n       <use xlink:href=\"#DejaVuSans-34\"/>\n       <use x=\"63.623047\" xlink:href=\"#DejaVuSans-30\"/>\n       <use x=\"127.246094\" xlink:href=\"#DejaVuSans-30\"/>\n      </g>\n     </g>\n    </g>\n    <g id=\"ytick_6\">\n     <g id=\"line2d_16\">\n      <g>\n       <use style=\"stroke:#000000;stroke-width:0.8;\" x=\"46.965625\" xlink:href=\"#m2fa9236082\" y=\"110.005171\"/>\n      </g>\n     </g>\n     <g id=\"text_16\">\n      <!-- 500 -->\n      <g transform=\"translate(20.878125 113.80439)scale(0.1 -0.1)\">\n       <defs>\n        <path d=\"M 691 4666 \nL 3169 4666 \nL 3169 4134 \nL 1269 4134 \nL 1269 2991 \nQ 1406 3038 1543 3061 \nQ 1681 3084 1819 3084 \nQ 2600 3084 3056 2656 \nQ 3513 2228 3513 1497 \nQ 3513 744 3044 326 \nQ 2575 -91 1722 -91 \nQ 1428 -91 1123 -41 \nQ 819 9 494 109 \nL 494 744 \nQ 775 591 1075 516 \nQ 1375 441 1709 441 \nQ 2250 441 2565 725 \nQ 2881 1009 2881 1497 \nQ 2881 1984 2565 2268 \nQ 2250 2553 1709 2553 \nQ 1456 2553 1204 2497 \nQ 953 2441 691 2322 \nL 691 4666 \nz\n\" id=\"DejaVuSans-35\" transform=\"scale(0.015625)\"/>\n       </defs>\n       <use xlink:href=\"#DejaVuSans-35\"/>\n       <use x=\"63.623047\" xlink:href=\"#DejaVuSans-30\"/>\n       <use x=\"127.246094\" xlink:href=\"#DejaVuSans-30\"/>\n      </g>\n     </g>\n    </g>\n    <g id=\"ytick_7\">\n     <g id=\"line2d_17\">\n      <g>\n       <use style=\"stroke:#000000;stroke-width:0.8;\" x=\"46.965625\" xlink:href=\"#m2fa9236082\" y=\"84.05458\"/>\n      </g>\n     </g>\n     <g id=\"text_17\">\n      <!-- 600 -->\n      <g transform=\"translate(20.878125 87.853799)scale(0.1 -0.1)\">\n       <defs>\n        <path d=\"M 2113 2584 \nQ 1688 2584 1439 2293 \nQ 1191 2003 1191 1497 \nQ 1191 994 1439 701 \nQ 1688 409 2113 409 \nQ 2538 409 2786 701 \nQ 3034 994 3034 1497 \nQ 3034 2003 2786 2293 \nQ 2538 2584 2113 2584 \nz\nM 3366 4563 \nL 3366 3988 \nQ 3128 4100 2886 4159 \nQ 2644 4219 2406 4219 \nQ 1781 4219 1451 3797 \nQ 1122 3375 1075 2522 \nQ 1259 2794 1537 2939 \nQ 1816 3084 2150 3084 \nQ 2853 3084 3261 2657 \nQ 3669 2231 3669 1497 \nQ 3669 778 3244 343 \nQ 2819 -91 2113 -91 \nQ 1303 -91 875 529 \nQ 447 1150 447 2328 \nQ 447 3434 972 4092 \nQ 1497 4750 2381 4750 \nQ 2619 4750 2861 4703 \nQ 3103 4656 3366 4563 \nz\n\" id=\"DejaVuSans-36\" transform=\"scale(0.015625)\"/>\n       </defs>\n       <use xlink:href=\"#DejaVuSans-36\"/>\n       <use x=\"63.623047\" xlink:href=\"#DejaVuSans-30\"/>\n       <use x=\"127.246094\" xlink:href=\"#DejaVuSans-30\"/>\n      </g>\n     </g>\n    </g>\n    <g id=\"ytick_8\">\n     <g id=\"line2d_18\">\n      <g>\n       <use style=\"stroke:#000000;stroke-width:0.8;\" x=\"46.965625\" xlink:href=\"#m2fa9236082\" y=\"58.10399\"/>\n      </g>\n     </g>\n     <g id=\"text_18\">\n      <!-- 700 -->\n      <g transform=\"translate(20.878125 61.903208)scale(0.1 -0.1)\">\n       <defs>\n        <path d=\"M 525 4666 \nL 3525 4666 \nL 3525 4397 \nL 1831 0 \nL 1172 0 \nL 2766 4134 \nL 525 4134 \nL 525 4666 \nz\n\" id=\"DejaVuSans-37\" transform=\"scale(0.015625)\"/>\n       </defs>\n       <use xlink:href=\"#DejaVuSans-37\"/>\n       <use x=\"63.623047\" xlink:href=\"#DejaVuSans-30\"/>\n       <use x=\"127.246094\" xlink:href=\"#DejaVuSans-30\"/>\n      </g>\n     </g>\n    </g>\n    <g id=\"ytick_9\">\n     <g id=\"line2d_19\">\n      <g>\n       <use style=\"stroke:#000000;stroke-width:0.8;\" x=\"46.965625\" xlink:href=\"#m2fa9236082\" y=\"32.153399\"/>\n      </g>\n     </g>\n     <g id=\"text_19\">\n      <!-- 800 -->\n      <g transform=\"translate(20.878125 35.952618)scale(0.1 -0.1)\">\n       <defs>\n        <path d=\"M 2034 2216 \nQ 1584 2216 1326 1975 \nQ 1069 1734 1069 1313 \nQ 1069 891 1326 650 \nQ 1584 409 2034 409 \nQ 2484 409 2743 651 \nQ 3003 894 3003 1313 \nQ 3003 1734 2745 1975 \nQ 2488 2216 2034 2216 \nz\nM 1403 2484 \nQ 997 2584 770 2862 \nQ 544 3141 544 3541 \nQ 544 4100 942 4425 \nQ 1341 4750 2034 4750 \nQ 2731 4750 3128 4425 \nQ 3525 4100 3525 3541 \nQ 3525 3141 3298 2862 \nQ 3072 2584 2669 2484 \nQ 3125 2378 3379 2068 \nQ 3634 1759 3634 1313 \nQ 3634 634 3220 271 \nQ 2806 -91 2034 -91 \nQ 1263 -91 848 271 \nQ 434 634 434 1313 \nQ 434 1759 690 2068 \nQ 947 2378 1403 2484 \nz\nM 1172 3481 \nQ 1172 3119 1398 2916 \nQ 1625 2713 2034 2713 \nQ 2441 2713 2670 2916 \nQ 2900 3119 2900 3481 \nQ 2900 3844 2670 4047 \nQ 2441 4250 2034 4250 \nQ 1625 4250 1398 4047 \nQ 1172 3844 1172 3481 \nz\n\" id=\"DejaVuSans-38\" transform=\"scale(0.015625)\"/>\n       </defs>\n       <use xlink:href=\"#DejaVuSans-38\"/>\n       <use x=\"63.623047\" xlink:href=\"#DejaVuSans-30\"/>\n       <use x=\"127.246094\" xlink:href=\"#DejaVuSans-30\"/>\n      </g>\n     </g>\n    </g>\n    <g id=\"text_20\">\n     <!-- Number of Tweets -->\n     <g transform=\"translate(14.798438 176.157656)rotate(-90)scale(0.1 -0.1)\">\n      <defs>\n       <path d=\"M 3328 2828 \nQ 3544 3216 3844 3400 \nQ 4144 3584 4550 3584 \nQ 5097 3584 5394 3201 \nQ 5691 2819 5691 2113 \nL 5691 0 \nL 5113 0 \nL 5113 2094 \nQ 5113 2597 4934 2840 \nQ 4756 3084 4391 3084 \nQ 3944 3084 3684 2787 \nQ 3425 2491 3425 1978 \nL 3425 0 \nL 2847 0 \nL 2847 2094 \nQ 2847 2600 2669 2842 \nQ 2491 3084 2119 3084 \nQ 1678 3084 1418 2786 \nQ 1159 2488 1159 1978 \nL 1159 0 \nL 581 0 \nL 581 3500 \nL 1159 3500 \nL 1159 2956 \nQ 1356 3278 1631 3431 \nQ 1906 3584 2284 3584 \nQ 2666 3584 2933 3390 \nQ 3200 3197 3328 2828 \nz\n\" id=\"DejaVuSans-6d\" transform=\"scale(0.015625)\"/>\n       <path d=\"M 2375 4863 \nL 2375 4384 \nL 1825 4384 \nQ 1516 4384 1395 4259 \nQ 1275 4134 1275 3809 \nL 1275 3500 \nL 2222 3500 \nL 2222 3053 \nL 1275 3053 \nL 1275 0 \nL 697 0 \nL 697 3053 \nL 147 3053 \nL 147 3500 \nL 697 3500 \nL 697 3744 \nQ 697 4328 969 4595 \nQ 1241 4863 1831 4863 \nL 2375 4863 \nz\n\" id=\"DejaVuSans-66\" transform=\"scale(0.015625)\"/>\n       <path d=\"M -19 4666 \nL 3928 4666 \nL 3928 4134 \nL 2272 4134 \nL 2272 0 \nL 1638 0 \nL 1638 4134 \nL -19 4134 \nL -19 4666 \nz\n\" id=\"DejaVuSans-54\" transform=\"scale(0.015625)\"/>\n       <path d=\"M 269 3500 \nL 844 3500 \nL 1563 769 \nL 2278 3500 \nL 2956 3500 \nL 3675 769 \nL 4391 3500 \nL 4966 3500 \nL 4050 0 \nL 3372 0 \nL 2619 2869 \nL 1863 0 \nL 1184 0 \nL 269 3500 \nz\n\" id=\"DejaVuSans-77\" transform=\"scale(0.015625)\"/>\n      </defs>\n      <use xlink:href=\"#DejaVuSans-4e\"/>\n      <use x=\"74.804688\" xlink:href=\"#DejaVuSans-75\"/>\n      <use x=\"138.183594\" xlink:href=\"#DejaVuSans-6d\"/>\n      <use x=\"235.595703\" xlink:href=\"#DejaVuSans-62\"/>\n      <use x=\"299.072266\" xlink:href=\"#DejaVuSans-65\"/>\n      <use x=\"360.595703\" xlink:href=\"#DejaVuSans-72\"/>\n      <use x=\"401.708984\" xlink:href=\"#DejaVuSans-20\"/>\n      <use x=\"433.496094\" xlink:href=\"#DejaVuSans-6f\"/>\n      <use x=\"494.677734\" xlink:href=\"#DejaVuSans-66\"/>\n      <use x=\"529.882812\" xlink:href=\"#DejaVuSans-20\"/>\n      <use x=\"561.669922\" xlink:href=\"#DejaVuSans-54\"/>\n      <use x=\"606.253906\" xlink:href=\"#DejaVuSans-77\"/>\n      <use x=\"688.041016\" xlink:href=\"#DejaVuSans-65\"/>\n      <use x=\"749.564453\" xlink:href=\"#DejaVuSans-65\"/>\n      <use x=\"811.087891\" xlink:href=\"#DejaVuSans-74\"/>\n      <use x=\"850.296875\" xlink:href=\"#DejaVuSans-73\"/>\n     </g>\n    </g>\n   </g>\n   <g id=\"patch_13\">\n    <path d=\"M 46.965625 239.758125 \nL 46.965625 22.318125 \n\" style=\"fill:none;stroke:#000000;stroke-linecap:square;stroke-linejoin:miter;stroke-width:0.8;\"/>\n   </g>\n   <g id=\"patch_14\">\n    <path d=\"M 381.765625 239.758125 \nL 381.765625 22.318125 \n\" style=\"fill:none;stroke:#000000;stroke-linecap:square;stroke-linejoin:miter;stroke-width:0.8;\"/>\n   </g>\n   <g id=\"patch_15\">\n    <path d=\"M 46.965625 239.758125 \nL 381.765625 239.758125 \n\" style=\"fill:none;stroke:#000000;stroke-linecap:square;stroke-linejoin:miter;stroke-width:0.8;\"/>\n   </g>\n   <g id=\"patch_16\">\n    <path d=\"M 46.965625 22.318125 \nL 381.765625 22.318125 \n\" style=\"fill:none;stroke:#000000;stroke-linecap:square;stroke-linejoin:miter;stroke-width:0.8;\"/>\n   </g>\n   <g id=\"text_21\">\n    <!-- 308 -->\n    <g transform=\"translate(65.063062 154.750618)scale(0.1 -0.1)\">\n     <use xlink:href=\"#DejaVuSans-33\"/>\n     <use x=\"63.623047\" xlink:href=\"#DejaVuSans-30\"/>\n     <use x=\"127.246094\" xlink:href=\"#DejaVuSans-38\"/>\n    </g>\n   </g>\n   <g id=\"text_22\">\n    <!-- 227 -->\n    <g transform=\"translate(96.120576 175.770596)scale(0.1 -0.1)\">\n     <use xlink:href=\"#DejaVuSans-32\"/>\n     <use x=\"63.623047\" xlink:href=\"#DejaVuSans-32\"/>\n     <use x=\"127.246094\" xlink:href=\"#DejaVuSans-37\"/>\n    </g>\n   </g>\n   <g id=\"text_23\">\n    <!-- 292 -->\n    <g transform=\"translate(127.17809 158.902712)scale(0.1 -0.1)\">\n     <defs>\n      <path d=\"M 703 97 \nL 703 672 \nQ 941 559 1184 500 \nQ 1428 441 1663 441 \nQ 2288 441 2617 861 \nQ 2947 1281 2994 2138 \nQ 2813 1869 2534 1725 \nQ 2256 1581 1919 1581 \nQ 1219 1581 811 2004 \nQ 403 2428 403 3163 \nQ 403 3881 828 4315 \nQ 1253 4750 1959 4750 \nQ 2769 4750 3195 4129 \nQ 3622 3509 3622 2328 \nQ 3622 1225 3098 567 \nQ 2575 -91 1691 -91 \nQ 1453 -91 1209 -44 \nQ 966 3 703 97 \nz\nM 1959 2075 \nQ 2384 2075 2632 2365 \nQ 2881 2656 2881 3163 \nQ 2881 3666 2632 3958 \nQ 2384 4250 1959 4250 \nQ 1534 4250 1286 3958 \nQ 1038 3666 1038 3163 \nQ 1038 2656 1286 2365 \nQ 1534 2075 1959 2075 \nz\n\" id=\"DejaVuSans-39\" transform=\"scale(0.015625)\"/>\n     </defs>\n     <use xlink:href=\"#DejaVuSans-32\"/>\n     <use x=\"63.623047\" xlink:href=\"#DejaVuSans-39\"/>\n     <use x=\"127.246094\" xlink:href=\"#DejaVuSans-32\"/>\n    </g>\n   </g>\n   <g id=\"text_24\">\n    <!-- 508 -->\n    <g transform=\"translate(158.235604 102.849436)scale(0.1 -0.1)\">\n     <use xlink:href=\"#DejaVuSans-35\"/>\n     <use x=\"63.623047\" xlink:href=\"#DejaVuSans-30\"/>\n     <use x=\"127.246094\" xlink:href=\"#DejaVuSans-38\"/>\n    </g>\n   </g>\n   <g id=\"text_25\">\n    <!-- 774 -->\n    <g transform=\"translate(189.293118 33.820865)scale(0.1 -0.1)\">\n     <use xlink:href=\"#DejaVuSans-37\"/>\n     <use x=\"63.623047\" xlink:href=\"#DejaVuSans-37\"/>\n     <use x=\"127.246094\" xlink:href=\"#DejaVuSans-34\"/>\n    </g>\n   </g>\n   <g id=\"text_26\">\n    <!-- 798 -->\n    <g transform=\"translate(220.350632 27.592723)scale(0.1 -0.1)\">\n     <use xlink:href=\"#DejaVuSans-37\"/>\n     <use x=\"63.623047\" xlink:href=\"#DejaVuSans-39\"/>\n     <use x=\"127.246094\" xlink:href=\"#DejaVuSans-38\"/>\n    </g>\n   </g>\n   <g id=\"text_27\">\n    <!-- 556 -->\n    <g transform=\"translate(251.408146 90.393153)scale(0.1 -0.1)\">\n     <use xlink:href=\"#DejaVuSans-35\"/>\n     <use x=\"63.623047\" xlink:href=\"#DejaVuSans-35\"/>\n     <use x=\"127.246094\" xlink:href=\"#DejaVuSans-36\"/>\n    </g>\n   </g>\n   <g id=\"text_28\">\n    <!-- 25 -->\n    <g transform=\"translate(285.64691 228.19079)scale(0.1 -0.1)\">\n     <use xlink:href=\"#DejaVuSans-32\"/>\n     <use x=\"63.623047\" xlink:href=\"#DejaVuSans-35\"/>\n    </g>\n   </g>\n   <g id=\"text_29\">\n    <!-- 132 -->\n    <g transform=\"translate(313.523174 200.423658)scale(0.1 -0.1)\">\n     <use xlink:href=\"#DejaVuSans-31\"/>\n     <use x=\"63.623047\" xlink:href=\"#DejaVuSans-33\"/>\n     <use x=\"127.246094\" xlink:href=\"#DejaVuSans-32\"/>\n    </g>\n   </g>\n   <g id=\"text_30\">\n    <!-- 259 -->\n    <g transform=\"translate(344.580688 167.466407)scale(0.1 -0.1)\">\n     <use xlink:href=\"#DejaVuSans-32\"/>\n     <use x=\"63.623047\" xlink:href=\"#DejaVuSans-35\"/>\n     <use x=\"127.246094\" xlink:href=\"#DejaVuSans-39\"/>\n    </g>\n   </g>\n   <g id=\"text_31\">\n    <!-- Number of Tweets about each Shooting -->\n    <g transform=\"translate(96.134688 16.318125)scale(0.12 -0.12)\">\n     <use xlink:href=\"#DejaVuSans-4e\"/>\n     <use x=\"74.804688\" xlink:href=\"#DejaVuSans-75\"/>\n     <use x=\"138.183594\" xlink:href=\"#DejaVuSans-6d\"/>\n     <use x=\"235.595703\" xlink:href=\"#DejaVuSans-62\"/>\n     <use x=\"299.072266\" xlink:href=\"#DejaVuSans-65\"/>\n     <use x=\"360.595703\" xlink:href=\"#DejaVuSans-72\"/>\n     <use x=\"401.708984\" xlink:href=\"#DejaVuSans-20\"/>\n     <use x=\"433.496094\" xlink:href=\"#DejaVuSans-6f\"/>\n     <use x=\"494.677734\" xlink:href=\"#DejaVuSans-66\"/>\n     <use x=\"529.882812\" xlink:href=\"#DejaVuSans-20\"/>\n     <use x=\"561.669922\" xlink:href=\"#DejaVuSans-54\"/>\n     <use x=\"606.253906\" xlink:href=\"#DejaVuSans-77\"/>\n     <use x=\"688.041016\" xlink:href=\"#DejaVuSans-65\"/>\n     <use x=\"749.564453\" xlink:href=\"#DejaVuSans-65\"/>\n     <use x=\"811.087891\" xlink:href=\"#DejaVuSans-74\"/>\n     <use x=\"850.296875\" xlink:href=\"#DejaVuSans-73\"/>\n     <use x=\"902.396484\" xlink:href=\"#DejaVuSans-20\"/>\n     <use x=\"934.183594\" xlink:href=\"#DejaVuSans-61\"/>\n     <use x=\"995.462891\" xlink:href=\"#DejaVuSans-62\"/>\n     <use x=\"1058.939453\" xlink:href=\"#DejaVuSans-6f\"/>\n     <use x=\"1120.121094\" xlink:href=\"#DejaVuSans-75\"/>\n     <use x=\"1183.5\" xlink:href=\"#DejaVuSans-74\"/>\n     <use x=\"1222.708984\" xlink:href=\"#DejaVuSans-20\"/>\n     <use x=\"1254.496094\" xlink:href=\"#DejaVuSans-65\"/>\n     <use x=\"1316.019531\" xlink:href=\"#DejaVuSans-61\"/>\n     <use x=\"1377.298828\" xlink:href=\"#DejaVuSans-63\"/>\n     <use x=\"1432.279297\" xlink:href=\"#DejaVuSans-68\"/>\n     <use x=\"1495.658203\" xlink:href=\"#DejaVuSans-20\"/>\n     <use x=\"1527.445312\" xlink:href=\"#DejaVuSans-53\"/>\n     <use x=\"1590.921875\" xlink:href=\"#DejaVuSans-68\"/>\n     <use x=\"1654.300781\" xlink:href=\"#DejaVuSans-6f\"/>\n     <use x=\"1715.482422\" xlink:href=\"#DejaVuSans-6f\"/>\n     <use x=\"1776.664062\" xlink:href=\"#DejaVuSans-74\"/>\n     <use x=\"1815.873047\" xlink:href=\"#DejaVuSans-69\"/>\n     <use x=\"1843.65625\" xlink:href=\"#DejaVuSans-6e\"/>\n     <use x=\"1907.035156\" xlink:href=\"#DejaVuSans-67\"/>\n    </g>\n   </g>\n  </g>\n </g>\n <defs>\n  <clipPath id=\"pdcaccbd2dc\">\n   <rect height=\"217.44\" width=\"334.8\" x=\"46.965625\" y=\"22.318125\"/>\n  </clipPath>\n </defs>\n</svg>\n",
      "image/png": "[encoded data removed]"
     },
     "metadata": {
      "needs_background": "light"
     }
    }
   ],
   "metadata": {}
  },
  {
   "cell_type": "code",
   "execution_count": 28,
   "source": [
    "\n",
    "for i in range(len(corpus)):\n",
    "    \n",
    "    days = dict.fromkeys(np.array(range(0,90,5)))\n",
    "\n",
    "\n",
    "    for j in range(len(corpus[i])):\n",
    "\n",
    "        d= \n",
    "        np.array(range(0,90,5))[np.array(range(0,90,5)) <= 23].max()\n",
    "    "
   ],
   "outputs": [
    {
     "output_type": "stream",
     "name": "stdout",
     "text": [
      "25\n",
      "798\n",
      "556\n",
      "308\n",
      "227\n",
      "774\n",
      "132\n",
      "292\n",
      "508\n",
      "259\n"
     ]
    }
   ],
   "metadata": {}
  },
  {
   "cell_type": "code",
   "execution_count": 46,
   "source": [
    "print(list(range(0,90,5)))"
   ],
   "outputs": [
    {
     "output_type": "stream",
     "name": "stdout",
     "text": [
      "[0, 5, 10, 15, 20, 25, 30, 35, 40, 45, 50, 55, 60, 65, 70, 75, 80, 85]\n"
     ]
    }
   ],
   "metadata": {}
  },
  {
   "cell_type": "code",
   "execution_count": 2,
   "source": [
    "min(list(range(0,90,5)), key=lambda x: (abs(x - 23), x))"
   ],
   "outputs": [
    {
     "output_type": "execute_result",
     "data": {
      "text/plain": [
       "25"
      ]
     },
     "metadata": {},
     "execution_count": 2
    }
   ],
   "metadata": {}
  },
  {
   "cell_type": "code",
   "execution_count": 4,
   "source": [
    "min(list(range(0,90,5)), key=lambda x:abs(x-22))"
   ],
   "outputs": [
    {
     "output_type": "execute_result",
     "data": {
      "text/plain": [
       "20"
      ]
     },
     "metadata": {},
     "execution_count": 4
    }
   ],
   "metadata": {}
  },
  {
   "cell_type": "code",
   "execution_count": 9,
   "source": [
    "np.array(range(0,90,5))"
   ],
   "outputs": [
    {
     "output_type": "execute_result",
     "data": {
      "text/plain": [
       "array([ 0,  5, 10, 15, 20, 25, 30, 35, 40, 45, 50, 55, 60, 65, 70, 75, 80,\n",
       "       85])"
      ]
     },
     "metadata": {},
     "execution_count": 9
    }
   ],
   "metadata": {}
  },
  {
   "cell_type": "code",
   "execution_count": 12,
   "source": [
    "k = dict.fromkeys(np.array(range(0,90,5)))"
   ],
   "outputs": [
    {
     "output_type": "execute_result",
     "data": {
      "text/plain": [
       "20"
      ]
     },
     "metadata": {},
     "execution_count": 12
    }
   ],
   "metadata": {}
  },
  {
   "cell_type": "code",
   "execution_count": 100,
   "source": [
    "datetime.strptime(Shootings.iloc[5,5][:10], '%Y-%m-%d').date()-dates[5][4]"
   ],
   "outputs": [
    {
     "output_type": "error",
     "ename": "TypeError",
     "evalue": "int() argument must be a string, a bytes-like object or a number, not 'datetime.timedelta'",
     "traceback": [
      "\u001b[0;31m---------------------------------------------------------------------------\u001b[0m",
      "\u001b[0;31mTypeError\u001b[0m                                 Traceback (most recent call last)",
      "\u001b[0;32m/var/folders/zr/fkpnf7r112g3q4sn6hqvwcmh0000gn/T/ipykernel_977/2335889644.py\u001b[0m in \u001b[0;36m<module>\u001b[0;34m\u001b[0m\n\u001b[0;32m----> 1\u001b[0;31m \u001b[0mint\u001b[0m\u001b[0;34m(\u001b[0m\u001b[0mdatetime\u001b[0m\u001b[0;34m.\u001b[0m\u001b[0mstrptime\u001b[0m\u001b[0;34m(\u001b[0m\u001b[0mShootings\u001b[0m\u001b[0;34m.\u001b[0m\u001b[0miloc\u001b[0m\u001b[0;34m[\u001b[0m\u001b[0;36m5\u001b[0m\u001b[0;34m,\u001b[0m\u001b[0;36m5\u001b[0m\u001b[0;34m]\u001b[0m\u001b[0;34m[\u001b[0m\u001b[0;34m:\u001b[0m\u001b[0;36m10\u001b[0m\u001b[0;34m]\u001b[0m\u001b[0;34m,\u001b[0m \u001b[0;34m'%Y-%m-%d'\u001b[0m\u001b[0;34m)\u001b[0m\u001b[0;34m.\u001b[0m\u001b[0mdate\u001b[0m\u001b[0;34m(\u001b[0m\u001b[0;34m)\u001b[0m\u001b[0;34m-\u001b[0m\u001b[0mdates\u001b[0m\u001b[0;34m[\u001b[0m\u001b[0;36m5\u001b[0m\u001b[0;34m]\u001b[0m\u001b[0;34m[\u001b[0m\u001b[0;36m4\u001b[0m\u001b[0;34m]\u001b[0m\u001b[0;34m)\u001b[0m\u001b[0;34m\u001b[0m\u001b[0;34m\u001b[0m\u001b[0m\n\u001b[0m",
      "\u001b[0;31mTypeError\u001b[0m: int() argument must be a string, a bytes-like object or a number, not 'datetime.timedelta'"
     ]
    }
   ],
   "metadata": {}
  },
  {
   "cell_type": "code",
   "execution_count": 97,
   "source": [
    "datetime.today().date()"
   ],
   "outputs": [
    {
     "output_type": "error",
     "ename": "TypeError",
     "evalue": "__format__() takes exactly 1 argument (0 given)",
     "traceback": [
      "\u001b[0;31m---------------------------------------------------------------------------\u001b[0m",
      "\u001b[0;31mTypeError\u001b[0m                                 Traceback (most recent call last)",
      "\u001b[0;32m/var/folders/zr/fkpnf7r112g3q4sn6hqvwcmh0000gn/T/ipykernel_977/569871612.py\u001b[0m in \u001b[0;36m<module>\u001b[0;34m\u001b[0m\n\u001b[0;32m----> 1\u001b[0;31m \u001b[0mdatetime\u001b[0m\u001b[0;34m.\u001b[0m\u001b[0mtoday\u001b[0m\u001b[0;34m(\u001b[0m\u001b[0;34m)\u001b[0m\u001b[0;34m.\u001b[0m\u001b[0mdate\u001b[0m\u001b[0;34m(\u001b[0m\u001b[0;34m)\u001b[0m\u001b[0;34m.\u001b[0m\u001b[0m__format__\u001b[0m\u001b[0;34m(\u001b[0m\u001b[0;34m)\u001b[0m\u001b[0;34m\u001b[0m\u001b[0;34m\u001b[0m\u001b[0m\n\u001b[0m",
      "\u001b[0;31mTypeError\u001b[0m: __format__() takes exactly 1 argument (0 given)"
     ]
    }
   ],
   "metadata": {}
  },
  {
   "cell_type": "code",
   "execution_count": 17,
   "source": [
    "from datetime import date\n",
    "f_date = date(2014, 7, 2)\n",
    "l_date = date(2014, 7, 11)\n",
    "delta = l_date - f_date\n",
    "print(delta.days)"
   ],
   "outputs": [
    {
     "output_type": "execute_result",
     "data": {
      "text/plain": [
       "{0: None,\n",
       " 5: None,\n",
       " 10: None,\n",
       " 15: None,\n",
       " 20: None,\n",
       " 25: None,\n",
       " 30: None,\n",
       " 35: None,\n",
       " 40: None,\n",
       " 45: None,\n",
       " 50: None,\n",
       " 55: None,\n",
       " 60: None,\n",
       " 65: None,\n",
       " 70: None,\n",
       " 75: None,\n",
       " 80: None,\n",
       " 85: None}"
      ]
     },
     "metadata": {},
     "execution_count": 17
    }
   ],
   "metadata": {}
  },
  {
   "cell_type": "code",
   "execution_count": 77,
   "source": [
    "len(dates[-1].tolist())\n",
    "    "
   ],
   "outputs": [
    {
     "output_type": "error",
     "ename": "AttributeError",
     "evalue": "'list' object has no attribute 'tolist'",
     "traceback": [
      "\u001b[0;31m---------------------------------------------------------------------------\u001b[0m",
      "\u001b[0;31mAttributeError\u001b[0m                            Traceback (most recent call last)",
      "\u001b[0;32m/var/folders/zr/fkpnf7r112g3q4sn6hqvwcmh0000gn/T/ipykernel_977/1952649633.py\u001b[0m in \u001b[0;36m<module>\u001b[0;34m\u001b[0m\n\u001b[0;32m----> 1\u001b[0;31m \u001b[0mlen\u001b[0m\u001b[0;34m(\u001b[0m\u001b[0mdates\u001b[0m\u001b[0;34m[\u001b[0m\u001b[0;34m-\u001b[0m\u001b[0;36m1\u001b[0m\u001b[0;34m]\u001b[0m\u001b[0;34m.\u001b[0m\u001b[0mtolist\u001b[0m\u001b[0;34m(\u001b[0m\u001b[0;34m)\u001b[0m\u001b[0;34m)\u001b[0m\u001b[0;34m\u001b[0m\u001b[0;34m\u001b[0m\u001b[0m\n\u001b[0m\u001b[1;32m      2\u001b[0m \u001b[0;34m\u001b[0m\u001b[0m\n",
      "\u001b[0;31mAttributeError\u001b[0m: 'list' object has no attribute 'tolist'"
     ]
    }
   ],
   "metadata": {}
  },
  {
   "cell_type": "code",
   "execution_count": 47,
   "source": [
    "with open(f\"TwitterData/Tweets_Virginia.json\",'r') as f:\n",
    "    Shooting = json.load(f)\n",
    "    \n"
   ],
   "outputs": [],
   "metadata": {}
  },
  {
   "cell_type": "code",
   "execution_count": 48,
   "source": [
    "Shooting = pd.read_json(Shooting)\n",
    "\n",
    "Shooting = Shooting.drop([19968, 87939])\n"
   ],
   "outputs": [],
   "metadata": {}
  },
  {
   "cell_type": "code",
   "execution_count": 81,
   "source": [
    "Shootings"
   ],
   "outputs": [
    {
     "output_type": "execute_result",
     "data": {
      "text/plain": [
       "         City Or County  Shooting Name Sum  Shooting Sum  Shooter Name Sum  \\\n",
       "0        San Bernardino              228.0        5101.0            2017.0   \n",
       "1               Houston                2.0        2401.0               0.0   \n",
       "2  Washington Navy Yard               51.0         928.0             489.0   \n",
       "3               Boulder              271.0        9394.0             357.0   \n",
       "4                Odessa               46.0        5569.0             493.0   \n",
       "5            Pittsburgh               56.0        6669.0             911.0   \n",
       "6             Las Vegas             1340.0       19302.0            8674.0   \n",
       "7                 Plano                4.0       19345.0             132.0   \n",
       "8          Bogue Chitto                0.0        4035.0               0.0   \n",
       "9        Virginia Beach               65.0       11598.0             381.0   \n",
       "\n",
       "   Incident ID        Incident Date                 State  \\\n",
       "0       456893  2015-12-02 00:00:00            California   \n",
       "1       390526  2015-08-08 00:00:00                 Texas   \n",
       "2       480366  2013-09-16 00:00:00  District of Columbia   \n",
       "3      1958652  2021-03-22 00:00:00              Colorado   \n",
       "4      1492441  2019-08-31 00:00:00                 Texas   \n",
       "5      1241819  2018-10-27 00:00:00          Pennsylvania   \n",
       "6       946496  2017-10-01 00:00:00                Nevada   \n",
       "7       930569  2017-09-10 00:00:00                 Texas   \n",
       "8       853756  2017-05-27 00:00:00           Mississippi   \n",
       "9      1410442  2019-05-31 00:00:00              Virginia   \n",
       "\n",
       "                          Address  # Killed  # Injured    Location Type  \\\n",
       "0         1365 South Waterman Ave        16         19     public space   \n",
       "1               2211 Falling Oaks         8          0    private space   \n",
       "2             1336 Isaac Hull Ave        13          3     public space   \n",
       "3              3600 Table Mesa Dr        10          1     public space   \n",
       "4                     8250 TX 191         8         23     public space   \n",
       "5                5898 Wilkins Ave        11          7  religious space   \n",
       "6           3950 Las Vegas Blvd S        59        441     public space   \n",
       "7  1712 West Spring Creek Parkway         9          1    private space   \n",
       "8                     2871 Lee Dr         8          1    private space   \n",
       "9           2405 Courthouse Drive        13          4     public space   \n",
       "\n",
       "   Gender of Killed  Avg Age of Killed  Majority racialized victims  \\\n",
       "0          0.357143          41.928571                          0.0   \n",
       "1          0.250000          18.250000                          1.0   \n",
       "2          0.285714          57.714286                          0.0   \n",
       "3          0.600000          46.600000                          0.0   \n",
       "4          0.285714          31.857143                          1.0   \n",
       "5          0.363636          74.000000                          1.0   \n",
       "6          0.620690          38.379310                          0.0   \n",
       "7          0.375000          27.375000                          0.0   \n",
       "8          0.500000          37.375000                          1.0   \n",
       "9          0.416667          51.583333                          0.0   \n",
       "\n",
       "                       Shooter Name  Shooter Age     Shooter Race  \\\n",
       "0  Rizwan Farook and Tashfeen Malik         28.0        pakistani   \n",
       "1                  David Ray Conley         48.0            black   \n",
       "2                      Aaron Alexis         34.0            black   \n",
       "3            Ahmad Al Aliwi Al-Issa         21.0  syrian-american   \n",
       "4                   Seth Aaron Ator         36.0            white   \n",
       "5             Robert Gregory Bowers         46.0            white   \n",
       "6                   Stephen Paddock         64.0            White   \n",
       "7                     Spencer Hight         32.0            white   \n",
       "8               Willie Cory Godbolt         35.0            black   \n",
       "9                  DeWayne Craddock         40.0            black   \n",
       "\n",
       "  Shooter after the shooting  Total Tweets  Tweets on Topic  \n",
       "0           killed by police         33926              308  \n",
       "1         arrested by police         55100              227  \n",
       "2           killed by police         52456              292  \n",
       "3         arrested by police        115561              508  \n",
       "4           killed by police        103185              774  \n",
       "5           killed by police         63341              798  \n",
       "6                    Suicide         71655              556  \n",
       "7           killed by police         76902               25  \n",
       "8         arrested by police         73972              132  \n",
       "9           killed by police         62924              259  "
      ],
      "text/html": [
       "<div>\n",
       "<style scoped>\n",
       "    .dataframe tbody tr th:only-of-type {\n",
       "        vertical-align: middle;\n",
       "    }\n",
       "\n",
       "    .dataframe tbody tr th {\n",
       "        vertical-align: top;\n",
       "    }\n",
       "\n",
       "    .dataframe thead th {\n",
       "        text-align: right;\n",
       "    }\n",
       "</style>\n",
       "<table border=\"1\" class=\"dataframe\">\n",
       "  <thead>\n",
       "    <tr style=\"text-align: right;\">\n",
       "      <th></th>\n",
       "      <th>City Or County</th>\n",
       "      <th>Shooting Name Sum</th>\n",
       "      <th>Shooting Sum</th>\n",
       "      <th>Shooter Name Sum</th>\n",
       "      <th>Incident ID</th>\n",
       "      <th>Incident Date</th>\n",
       "      <th>State</th>\n",
       "      <th>Address</th>\n",
       "      <th># Killed</th>\n",
       "      <th># Injured</th>\n",
       "      <th>Location Type</th>\n",
       "      <th>Gender of Killed</th>\n",
       "      <th>Avg Age of Killed</th>\n",
       "      <th>Majority racialized victims</th>\n",
       "      <th>Shooter Name</th>\n",
       "      <th>Shooter Age</th>\n",
       "      <th>Shooter Race</th>\n",
       "      <th>Shooter after the shooting</th>\n",
       "      <th>Total Tweets</th>\n",
       "      <th>Tweets on Topic</th>\n",
       "    </tr>\n",
       "  </thead>\n",
       "  <tbody>\n",
       "    <tr>\n",
       "      <th>0</th>\n",
       "      <td>San Bernardino</td>\n",
       "      <td>228.0</td>\n",
       "      <td>5101.0</td>\n",
       "      <td>2017.0</td>\n",
       "      <td>456893</td>\n",
       "      <td>2015-12-02 00:00:00</td>\n",
       "      <td>California</td>\n",
       "      <td>1365 South Waterman Ave</td>\n",
       "      <td>16</td>\n",
       "      <td>19</td>\n",
       "      <td>public space</td>\n",
       "      <td>0.357143</td>\n",
       "      <td>41.928571</td>\n",
       "      <td>0.0</td>\n",
       "      <td>Rizwan Farook and Tashfeen Malik</td>\n",
       "      <td>28.0</td>\n",
       "      <td>pakistani</td>\n",
       "      <td>killed by police</td>\n",
       "      <td>33926</td>\n",
       "      <td>308</td>\n",
       "    </tr>\n",
       "    <tr>\n",
       "      <th>1</th>\n",
       "      <td>Houston</td>\n",
       "      <td>2.0</td>\n",
       "      <td>2401.0</td>\n",
       "      <td>0.0</td>\n",
       "      <td>390526</td>\n",
       "      <td>2015-08-08 00:00:00</td>\n",
       "      <td>Texas</td>\n",
       "      <td>2211 Falling Oaks</td>\n",
       "      <td>8</td>\n",
       "      <td>0</td>\n",
       "      <td>private space</td>\n",
       "      <td>0.250000</td>\n",
       "      <td>18.250000</td>\n",
       "      <td>1.0</td>\n",
       "      <td>David Ray Conley</td>\n",
       "      <td>48.0</td>\n",
       "      <td>black</td>\n",
       "      <td>arrested by police</td>\n",
       "      <td>55100</td>\n",
       "      <td>227</td>\n",
       "    </tr>\n",
       "    <tr>\n",
       "      <th>2</th>\n",
       "      <td>Washington Navy Yard</td>\n",
       "      <td>51.0</td>\n",
       "      <td>928.0</td>\n",
       "      <td>489.0</td>\n",
       "      <td>480366</td>\n",
       "      <td>2013-09-16 00:00:00</td>\n",
       "      <td>District of Columbia</td>\n",
       "      <td>1336 Isaac Hull Ave</td>\n",
       "      <td>13</td>\n",
       "      <td>3</td>\n",
       "      <td>public space</td>\n",
       "      <td>0.285714</td>\n",
       "      <td>57.714286</td>\n",
       "      <td>0.0</td>\n",
       "      <td>Aaron Alexis</td>\n",
       "      <td>34.0</td>\n",
       "      <td>black</td>\n",
       "      <td>killed by police</td>\n",
       "      <td>52456</td>\n",
       "      <td>292</td>\n",
       "    </tr>\n",
       "    <tr>\n",
       "      <th>3</th>\n",
       "      <td>Boulder</td>\n",
       "      <td>271.0</td>\n",
       "      <td>9394.0</td>\n",
       "      <td>357.0</td>\n",
       "      <td>1958652</td>\n",
       "      <td>2021-03-22 00:00:00</td>\n",
       "      <td>Colorado</td>\n",
       "      <td>3600 Table Mesa Dr</td>\n",
       "      <td>10</td>\n",
       "      <td>1</td>\n",
       "      <td>public space</td>\n",
       "      <td>0.600000</td>\n",
       "      <td>46.600000</td>\n",
       "      <td>0.0</td>\n",
       "      <td>Ahmad Al Aliwi Al-Issa</td>\n",
       "      <td>21.0</td>\n",
       "      <td>syrian-american</td>\n",
       "      <td>arrested by police</td>\n",
       "      <td>115561</td>\n",
       "      <td>508</td>\n",
       "    </tr>\n",
       "    <tr>\n",
       "      <th>4</th>\n",
       "      <td>Odessa</td>\n",
       "      <td>46.0</td>\n",
       "      <td>5569.0</td>\n",
       "      <td>493.0</td>\n",
       "      <td>1492441</td>\n",
       "      <td>2019-08-31 00:00:00</td>\n",
       "      <td>Texas</td>\n",
       "      <td>8250 TX 191</td>\n",
       "      <td>8</td>\n",
       "      <td>23</td>\n",
       "      <td>public space</td>\n",
       "      <td>0.285714</td>\n",
       "      <td>31.857143</td>\n",
       "      <td>1.0</td>\n",
       "      <td>Seth Aaron Ator</td>\n",
       "      <td>36.0</td>\n",
       "      <td>white</td>\n",
       "      <td>killed by police</td>\n",
       "      <td>103185</td>\n",
       "      <td>774</td>\n",
       "    </tr>\n",
       "    <tr>\n",
       "      <th>5</th>\n",
       "      <td>Pittsburgh</td>\n",
       "      <td>56.0</td>\n",
       "      <td>6669.0</td>\n",
       "      <td>911.0</td>\n",
       "      <td>1241819</td>\n",
       "      <td>2018-10-27 00:00:00</td>\n",
       "      <td>Pennsylvania</td>\n",
       "      <td>5898 Wilkins Ave</td>\n",
       "      <td>11</td>\n",
       "      <td>7</td>\n",
       "      <td>religious space</td>\n",
       "      <td>0.363636</td>\n",
       "      <td>74.000000</td>\n",
       "      <td>1.0</td>\n",
       "      <td>Robert Gregory Bowers</td>\n",
       "      <td>46.0</td>\n",
       "      <td>white</td>\n",
       "      <td>killed by police</td>\n",
       "      <td>63341</td>\n",
       "      <td>798</td>\n",
       "    </tr>\n",
       "    <tr>\n",
       "      <th>6</th>\n",
       "      <td>Las Vegas</td>\n",
       "      <td>1340.0</td>\n",
       "      <td>19302.0</td>\n",
       "      <td>8674.0</td>\n",
       "      <td>946496</td>\n",
       "      <td>2017-10-01 00:00:00</td>\n",
       "      <td>Nevada</td>\n",
       "      <td>3950 Las Vegas Blvd S</td>\n",
       "      <td>59</td>\n",
       "      <td>441</td>\n",
       "      <td>public space</td>\n",
       "      <td>0.620690</td>\n",
       "      <td>38.379310</td>\n",
       "      <td>0.0</td>\n",
       "      <td>Stephen Paddock</td>\n",
       "      <td>64.0</td>\n",
       "      <td>White</td>\n",
       "      <td>Suicide</td>\n",
       "      <td>71655</td>\n",
       "      <td>556</td>\n",
       "    </tr>\n",
       "    <tr>\n",
       "      <th>7</th>\n",
       "      <td>Plano</td>\n",
       "      <td>4.0</td>\n",
       "      <td>19345.0</td>\n",
       "      <td>132.0</td>\n",
       "      <td>930569</td>\n",
       "      <td>2017-09-10 00:00:00</td>\n",
       "      <td>Texas</td>\n",
       "      <td>1712 West Spring Creek Parkway</td>\n",
       "      <td>9</td>\n",
       "      <td>1</td>\n",
       "      <td>private space</td>\n",
       "      <td>0.375000</td>\n",
       "      <td>27.375000</td>\n",
       "      <td>0.0</td>\n",
       "      <td>Spencer Hight</td>\n",
       "      <td>32.0</td>\n",
       "      <td>white</td>\n",
       "      <td>killed by police</td>\n",
       "      <td>76902</td>\n",
       "      <td>25</td>\n",
       "    </tr>\n",
       "    <tr>\n",
       "      <th>8</th>\n",
       "      <td>Bogue Chitto</td>\n",
       "      <td>0.0</td>\n",
       "      <td>4035.0</td>\n",
       "      <td>0.0</td>\n",
       "      <td>853756</td>\n",
       "      <td>2017-05-27 00:00:00</td>\n",
       "      <td>Mississippi</td>\n",
       "      <td>2871 Lee Dr</td>\n",
       "      <td>8</td>\n",
       "      <td>1</td>\n",
       "      <td>private space</td>\n",
       "      <td>0.500000</td>\n",
       "      <td>37.375000</td>\n",
       "      <td>1.0</td>\n",
       "      <td>Willie Cory Godbolt</td>\n",
       "      <td>35.0</td>\n",
       "      <td>black</td>\n",
       "      <td>arrested by police</td>\n",
       "      <td>73972</td>\n",
       "      <td>132</td>\n",
       "    </tr>\n",
       "    <tr>\n",
       "      <th>9</th>\n",
       "      <td>Virginia Beach</td>\n",
       "      <td>65.0</td>\n",
       "      <td>11598.0</td>\n",
       "      <td>381.0</td>\n",
       "      <td>1410442</td>\n",
       "      <td>2019-05-31 00:00:00</td>\n",
       "      <td>Virginia</td>\n",
       "      <td>2405 Courthouse Drive</td>\n",
       "      <td>13</td>\n",
       "      <td>4</td>\n",
       "      <td>public space</td>\n",
       "      <td>0.416667</td>\n",
       "      <td>51.583333</td>\n",
       "      <td>0.0</td>\n",
       "      <td>DeWayne Craddock</td>\n",
       "      <td>40.0</td>\n",
       "      <td>black</td>\n",
       "      <td>killed by police</td>\n",
       "      <td>62924</td>\n",
       "      <td>259</td>\n",
       "    </tr>\n",
       "  </tbody>\n",
       "</table>\n",
       "</div>"
      ]
     },
     "metadata": {},
     "execution_count": 81
    }
   ],
   "metadata": {}
  },
  {
   "cell_type": "code",
   "execution_count": 53,
   "source": [
    "Shooting = Shooting.drop_duplicates()"
   ],
   "outputs": [],
   "metadata": {}
  },
  {
   "cell_type": "code",
   "execution_count": null,
   "source": [
    "df[df['Your_Column'].isin([3, 6])]"
   ],
   "outputs": [],
   "metadata": {}
  },
  {
   "cell_type": "code",
   "execution_count": 62,
   "source": [
    "Shooting[Shooting['text'].isin(['My heart goes out to those who were affected by the senseless acts of violence that occurred in Virginia Beach yesterday.  https://t.co/jrK70wWLZs', '12 people lost their lives because of gun violence in Virginia Beach.'])].date"
   ],
   "outputs": [
    {
     "output_type": "execute_result",
     "data": {
      "text/plain": [
       "75    2019-06-01 21:07:29 UTC\n",
       "Name: date, dtype: object"
      ]
     },
     "metadata": {},
     "execution_count": 62
    }
   ],
   "metadata": {}
  }
 ],
 "metadata": {
  "orig_nbformat": 4,
  "language_info": {
   "name": "python",
   "version": "3.9.6",
   "mimetype": "text/x-python",
   "codemirror_mode": {
    "name": "ipython",
    "version": 3
   },
   "pygments_lexer": "ipython3",
   "nbconvert_exporter": "python",
   "file_extension": ".py"
  },
  "kernelspec": {
   "name": "python3",
   "display_name": "Python 3.9.6 64-bit ('env1': conda)"
  },
  "interpreter": {
   "hash": "279d6e7ebc5369e82c4ec6333e1de983865a13fbbf608223a5eaed58b9629f5e"
  }
 },
 "nbformat": 4,
 "nbformat_minor": 2
}