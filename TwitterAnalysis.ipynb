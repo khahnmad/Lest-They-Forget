{
 "cells": [
  {
   "cell_type": "code",
   "execution_count": 217,
   "source": [
    "import pandas as pd\n",
    "import numpy as np\n",
    "from datetime import date, datetime\n",
    "import json\n",
    "import spacy\n",
    "import nltk\n",
    "import re\n",
    "from nltk.tokenize import TweetTokenizer\n",
    "from nltk.corpus import stopwords\n",
    "from nltk.util import ngrams\n",
    "from nltk import FreqDist\n",
    "from sklearn.linear_model import LinearRegression"
   ],
   "outputs": [],
   "metadata": {}
  },
  {
   "cell_type": "code",
   "execution_count": 2,
   "source": [
    "from collections import Counter"
   ],
   "outputs": [],
   "metadata": {}
  },
  {
   "cell_type": "markdown",
   "source": [
    "Functions"
   ],
   "metadata": {}
  },
  {
   "cell_type": "code",
   "execution_count": 3,
   "source": [
    "tweet_tokenizer = TweetTokenizer()"
   ],
   "outputs": [],
   "metadata": {}
  },
  {
   "cell_type": "code",
   "execution_count": 4,
   "source": [
    "stopword = stopwords.words('english')"
   ],
   "outputs": [],
   "metadata": {}
  },
  {
   "cell_type": "code",
   "execution_count": 5,
   "source": [
    "nltk.download('punkt')\n"
   ],
   "outputs": [
    {
     "output_type": "stream",
     "name": "stderr",
     "text": [
      "[nltk_data] Downloading package punkt to\n",
      "[nltk_data]     /Users/lukasfeddern/nltk_data...\n",
      "[nltk_data]   Package punkt is already up-to-date!\n"
     ]
    },
    {
     "output_type": "execute_result",
     "data": {
      "text/plain": [
       "True"
      ]
     },
     "metadata": {},
     "execution_count": 5
    }
   ],
   "metadata": {}
  },
  {
   "cell_type": "code",
   "execution_count": null,
   "source": [],
   "outputs": [],
   "metadata": {}
  },
  {
   "cell_type": "code",
   "execution_count": 516,
   "source": [
    "def tokenize_text(string):\n",
    "    \"\"\"\n",
    "    This takes a string of text, tokenizes it and removes stopwords\n",
    "    \"\"\"\n",
    "    extra_stopwords = ['``', \"'s\", '•', \"n't\", '.', 'w/','b/c','w', '/', '', ':', '!', '&amp;', ';', ',']\n",
    "    tokenized = nltk.word_tokenize(string)\n",
    "    cleaned = [string.lower() for string in tokenized if string not in extra_stopwords and string not in stopword]\n",
    "    return cleaned"
   ],
   "outputs": [],
   "metadata": {}
  },
  {
   "cell_type": "code",
   "execution_count": 7,
   "source": [
    "def extract_ngrams(data, num):\n",
    "    '''\n",
    "    input: tokenized list of data, type of ngram\n",
    "    output: readable ngrams\n",
    "    '''\n",
    "    n_grams = ngrams(data, num)\n",
    "    return [' '.join(grams) for grams in n_grams]"
   ],
   "outputs": [],
   "metadata": {}
  },
  {
   "cell_type": "code",
   "execution_count": 8,
   "source": [
    "def clean_trigram_text(string):\n",
    "    \"\"\"\n",
    "    This takes a string of text, tokenizes it, removes stopwords, and splits it into trigrams\n",
    "    \"\"\"\n",
    "    extra_stopwords = ['``', \"'s\", '•', \"n't\", '.', 'w/','b/c','w', '/', '', ':', '!', '&amp;', ';', ',']\n",
    "    tokenized = nltk.word_tokenize(string)\n",
    "    cleaned = [string.lower() for string in tokenized if string not in extra_stopwords and string not in stopword]\n",
    "    trigrams = extract_ngrams(cleaned, 3)\n",
    "    return trigrams"
   ],
   "outputs": [],
   "metadata": {}
  },
  {
   "cell_type": "code",
   "execution_count": 515,
   "source": [
    "def clean_bigram_text(string):\n",
    "    \"\"\"\n",
    "    This takes a string of text, tokenizes it, removes stopwords, and splits it into bigrams\n",
    "    \"\"\"\n",
    "    extra_stopwords = ['``', \"'s\", '•', \"n't\", '.', 'w/','b/c','w', '/', '', ':', '!', '&amp;', ';', ',']\n",
    "    tokenized = nltk.word_tokenize(string)\n",
    "    cleaned = [string.lower() for string in tokenized if string not in extra_stopwords and string not in stopword]\n",
    "    bigrams = extract_ngrams(cleaned, 2)\n",
    "    return bigrams"
   ],
   "outputs": [],
   "metadata": {}
  },
  {
   "cell_type": "code",
   "execution_count": 10,
   "source": [
    "def apply_ngrams(df):\n",
    "    # Apply ngram/cleaning functions to the text in the df\n",
    "    df['trigrams'] = df['tweet'].apply(clean_trigram_text)\n",
    "    df['bigrams'] = df['tweet'].apply(clean_bigram_text)\n",
    "    df['tok_text'] = df['tweet'].apply(tokenize_text)\n",
    "    df['tok_text2'] = df['tweet'].apply(lambda row: tweet_tokenizer.tokenize(row))\n",
    "    return df"
   ],
   "outputs": [],
   "metadata": {}
  },
  {
   "cell_type": "code",
   "execution_count": 11,
   "source": [
    "def extract_ngrams(data, num):\n",
    "    '''\n",
    "    input: tokenized list of data, type of ngram\n",
    "    output: readable ngrams\n",
    "    '''\n",
    "    n_grams = ngrams(data, num)\n",
    "    return [' '.join(grams) for grams in n_grams]"
   ],
   "outputs": [],
   "metadata": {}
  },
  {
   "cell_type": "code",
   "execution_count": 12,
   "source": [
    "def get_hashtags(df):\n",
    "    '''\n",
    "    input: dataframe of tweets\n",
    "    output: pd series of hashtags\n",
    "    '''\n",
    "    df['hashtags']=df['tweet'].apply(lambda x: re.findall(r\"#(\\w+)\", x))\n",
    "    return df"
   ],
   "outputs": [],
   "metadata": {}
  },
  {
   "cell_type": "code",
   "execution_count": 514,
   "source": [
    "def remove_links(tweet):\n",
    "    '''Takes a string and removes web links from it'''\n",
    "    tweet = re.sub(r'http\\S+', '', tweet) # remove http links\n",
    "    tweet = re.sub(r'bit.ly/\\S+', '', tweet) # rempve bitly links\n",
    "    tweet = tweet.strip('[link]') # remove [links]\n",
    "    return tweet\n",
    "\n",
    "def remove_users(tweet):\n",
    "    '''Takes a string and removes retweet and @user information'''\n",
    "    tweet = re.sub('(RT\\s@[A-Za-z]+[A-Za-z0-9-_]+)', '', tweet) # remove retweet\n",
    "    tweet = re.sub('(@[A-Za-z]+[A-Za-z0-9-_]+)', '', tweet) # remove tweeted at\n",
    "    return tweet"
   ],
   "outputs": [],
   "metadata": {}
  },
  {
   "cell_type": "code",
   "execution_count": 367,
   "source": [
    "def freq_analysis(df, search_phrases):\n",
    "    tweets = []\n",
    "    general_phrases = [\"shooting\", \"tragedy\", \"condolences\", \"thoughts\", \"prayers\", \"thoughts prayers\",\"murder\", \"killing\", \"shooter\", \"shooters\",\n",
    "            \"armed gunman\", \"deepest condolences\", \"victims\", \"killed\", \"injured\", \"families\", \"heart\", \"shot\",\n",
    "            \"tragic\", \"enoughisenough\", \"guncontrol\", \"gunviolence\", \"guncontrol\", \"mass murder\", 'grieve', 'gun control', 'heart broken', '2a']\n",
    "\n",
    "\n",
    "    # For trigram search phrases\n",
    "    for i in range(len(df.trigrams)):\n",
    "        if any(x in search_phrases for x in df.trigrams.iloc[i]):\n",
    "            tweets.append(df.tweet.iloc[i])\n",
    "        \n",
    "    # For bigram search phrases\n",
    "    for j in range(len(df.bigrams)):\n",
    "        if any(y in search_phrases for y in df.bigrams.iloc[j]) and any(x in general_phrases for x in df.bigrams.iloc[i]):\n",
    "            tweets.append(df.tweet.iloc[j])\n",
    "\n",
    "    # For single word searches\n",
    "    for k in range(len(df.tok_text)):\n",
    "        if any(z in search_phrases for z in df.tok_text.iloc[k]) and any(x in general_phrases for x in df.tok_text.iloc[k]):\n",
    "            tweets.append(df.tweet.iloc[k])\n",
    "    \n",
    "    tweets = pd.Series(tweets).drop_duplicates().to_list()\n",
    "    return tweets\n",
    "    \n",
    "    "
   ],
   "outputs": [],
   "metadata": {}
  },
  {
   "cell_type": "code",
   "execution_count": 276,
   "source": [
    "def get_lr(ex, why):\n",
    "    X = np.array(ex).reshape(-1, 1)\n",
    "    y = why\n",
    "    reg = LinearRegression().fit(X, y)\n",
    "    return reg.score(X, y)"
   ],
   "outputs": [],
   "metadata": {}
  },
  {
   "cell_type": "markdown",
   "source": [
    "Definition of Dictionary"
   ],
   "metadata": {}
  },
  {
   "cell_type": "code",
   "execution_count": 435,
   "source": [
    "shooting_keywords = {'Plano':[\"spencer hight\",\"meredith hight\",\"plano\",\"caleb edwards\",\"deffner\",\n",
    "                              \"rushin\",'hight','estranged husband', 'north texas'],\n",
    "                     'Pittsburgh':[\"pittsburgh\",\"synagogue\",\"bowers\",\"tree life\",\"squirrel hill\", \"anti-semitism\",'pittsburghsynagogue','treeoflife','treeoflifesynagogue',\n",
    "                                   'showupforshabbat', 'pittsburghshooting', 'pittsburghstrong'],\n",
    "                     'Las_Vegas':[\"paddock\", \"vegas\",\"las vegas\",\"lombardo\",'country music event','music festival','vegasstrong', '1Ooctober', 'vegasstrong',\n",
    "                                'lasvegasstrong','lasvegasshooting', 'prayforvegas'],\n",
    "                     'SanBernardino':[\"san bernardino\",'bernadino', 'sbstrong', 'prayforsanbernardino', 'sanbernardino'],\n",
    "                     'Houston':['harris county', 'gilliland', 'valerie jackson', 'dewayne jackson', 'david ray conley', 'conley'],\n",
    "                     'Odessa':['midland','odessa', 'midland-odessa','west texas','midland-odessa', 'odessastrong', 'odessashooting', 'odessastrong', 'westtexasstrong'],\n",
    "                     'Bogue_Chitto':['bogue chitto','lincoln county','brookhaven', 'godbolt', 'durr'],\n",
    "                     'Washington':['washington navy yard', 'navy yard', 'navyyard', 'navyyardshooting'],\n",
    "                     'Boulder':['boulder','grocery store', 'arvada', 'king soopers', 'boulderstrong', 'boulderproud'],\n",
    "                     'Virginia':['virginia beach','nettleton','princess anne', 'municipal center', 'virginiabeach', \n",
    "                     'cityofvabeach', 'vbremembers', 'vbstrong', 'loveforvb']\n",
    "                    }"
   ],
   "outputs": [],
   "metadata": {}
  },
  {
   "cell_type": "markdown",
   "source": [
    "Analysis"
   ],
   "metadata": {}
  },
  {
   "cell_type": "code",
   "execution_count": 500,
   "source": [
    "Shootings = pd.read_csv(\"https://raw.githubusercontent.com/khahnmad/Lest-They-Forget/main/v2-sampled_shootings.csv\")"
   ],
   "outputs": [],
   "metadata": {}
  },
  {
   "cell_type": "code",
   "execution_count": 436,
   "source": [
    "summary = dict()\n",
    "dates = []\n",
    "corpus = []\n",
    "\n",
    "for i in shooting_keywords.keys():\n",
    "\n",
    "\n",
    "    \n",
    "    Shooting = pd.read_csv(f\"Twitter/Twitter_{i}.csv\").iloc[:,1:]\n",
    "    \n",
    "    Shooting = apply_ngrams(Shooting)\n",
    "\n",
    "    #Count tweets\n",
    "\n",
    "    tweets = freq_analysis(Shooting, shooting_keywords[i])\n",
    "    corpus.append(tweets)\n",
    "    dates.append(Shooting[Shooting['tweet'].isin(tweets)].date.tolist())\n",
    "    summary[i] = [len(Shooting), len(tweets)]\n",
    "    \n",
    "\n",
    "    \n",
    "    \n",
    "    \n"
   ],
   "outputs": [
    {
     "output_type": "stream",
     "name": "stderr",
     "text": [
      "/opt/homebrew/Caskroom/miniforge/base/envs/env1/lib/python3.9/site-packages/IPython/core/interactiveshell.py:3441: DtypeWarning: Columns (10) have mixed types.Specify dtype option on import or set low_memory=False.\n",
      "  exec(code_obj, self.user_global_ns, self.user_ns)\n",
      "/var/folders/zr/fkpnf7r112g3q4sn6hqvwcmh0000gn/T/ipykernel_30428/2484456300.py:23: DeprecationWarning: The default dtype for empty Series will be 'object' instead of 'float64' in a future version. Specify a dtype explicitly to silence this warning.\n",
      "  tweets = pd.Series(tweets).drop_duplicates().to_list()\n"
     ]
    }
   ],
   "metadata": {}
  },
  {
   "cell_type": "code",
   "execution_count": 497,
   "source": [
    "summary = {\"Las Vegas\" if k == \"Las_Vegas\" else k:v for k,v in summary.items()}\n",
    "summary = {\"San Bernardino\" if k == \"SanBernardino\" else k:v for k,v in summary.items()}\n",
    "summary = {\"Bogue Chitto\" if k == \"Bogue_Chitto\" else k:v for k,v in summary.items()}\n",
    "summary = {\"Washington Navy Yard\" if k == \"Washington\" else k:v for k,v in summary.items()}\n",
    "summary = {\"Virginia Beach\" if k == \"Virginia\" else k:v for k,v in summary.items()}"
   ],
   "outputs": [],
   "metadata": {}
  },
  {
   "cell_type": "code",
   "execution_count": 498,
   "source": [
    "pd.DataFrame.from_dict(summary, orient='index', columns=[\"Total Tweets\", \"Tweets on Topic\"]).reset_index()"
   ],
   "outputs": [
    {
     "output_type": "execute_result",
     "data": {
      "text/html": [
       "<div>\n",
       "<style scoped>\n",
       "    .dataframe tbody tr th:only-of-type {\n",
       "        vertical-align: middle;\n",
       "    }\n",
       "\n",
       "    .dataframe tbody tr th {\n",
       "        vertical-align: top;\n",
       "    }\n",
       "\n",
       "    .dataframe thead th {\n",
       "        text-align: right;\n",
       "    }\n",
       "</style>\n",
       "<table border=\"1\" class=\"dataframe\">\n",
       "  <thead>\n",
       "    <tr style=\"text-align: right;\">\n",
       "      <th></th>\n",
       "      <th>index</th>\n",
       "      <th>Total Tweets</th>\n",
       "      <th>Tweets on Topic</th>\n",
       "    </tr>\n",
       "  </thead>\n",
       "  <tbody>\n",
       "    <tr>\n",
       "      <th>0</th>\n",
       "      <td>Plano</td>\n",
       "      <td>51024</td>\n",
       "      <td>1</td>\n",
       "    </tr>\n",
       "    <tr>\n",
       "      <th>1</th>\n",
       "      <td>Pittsburgh</td>\n",
       "      <td>40612</td>\n",
       "      <td>237</td>\n",
       "    </tr>\n",
       "    <tr>\n",
       "      <th>2</th>\n",
       "      <td>Las Vegas</td>\n",
       "      <td>47363</td>\n",
       "      <td>244</td>\n",
       "    </tr>\n",
       "    <tr>\n",
       "      <th>3</th>\n",
       "      <td>San Bernardino</td>\n",
       "      <td>42269</td>\n",
       "      <td>47</td>\n",
       "    </tr>\n",
       "    <tr>\n",
       "      <th>4</th>\n",
       "      <td>Houston</td>\n",
       "      <td>43066</td>\n",
       "      <td>0</td>\n",
       "    </tr>\n",
       "    <tr>\n",
       "      <th>5</th>\n",
       "      <td>Odessa</td>\n",
       "      <td>55654</td>\n",
       "      <td>57</td>\n",
       "    </tr>\n",
       "    <tr>\n",
       "      <th>6</th>\n",
       "      <td>Bogue Chitto</td>\n",
       "      <td>48823</td>\n",
       "      <td>0</td>\n",
       "    </tr>\n",
       "    <tr>\n",
       "      <th>7</th>\n",
       "      <td>Washington Navy Yard</td>\n",
       "      <td>35082</td>\n",
       "      <td>120</td>\n",
       "    </tr>\n",
       "    <tr>\n",
       "      <th>8</th>\n",
       "      <td>Boulder</td>\n",
       "      <td>72483</td>\n",
       "      <td>171</td>\n",
       "    </tr>\n",
       "    <tr>\n",
       "      <th>9</th>\n",
       "      <td>Virginia Beach</td>\n",
       "      <td>59531</td>\n",
       "      <td>23</td>\n",
       "    </tr>\n",
       "  </tbody>\n",
       "</table>\n",
       "</div>"
      ],
      "text/plain": [
       "                  index  Total Tweets  Tweets on Topic\n",
       "0                 Plano         51024                1\n",
       "1            Pittsburgh         40612              237\n",
       "2             Las Vegas         47363              244\n",
       "3        San Bernardino         42269               47\n",
       "4               Houston         43066                0\n",
       "5                Odessa         55654               57\n",
       "6          Bogue Chitto         48823                0\n",
       "7  Washington Navy Yard         35082              120\n",
       "8               Boulder         72483              171\n",
       "9        Virginia Beach         59531               23"
      ]
     },
     "metadata": {},
     "execution_count": 498
    }
   ],
   "metadata": {}
  },
  {
   "cell_type": "code",
   "execution_count": 501,
   "source": [
    "Count = pd.DataFrame.from_dict(summary, orient='index', columns=[\"Total Tweets\", \"Tweets on Topic\"]).reset_index().rename(columns={'index':'City Or County'})"
   ],
   "outputs": [],
   "metadata": {}
  },
  {
   "cell_type": "code",
   "execution_count": 502,
   "source": [
    "Shootings = Shootings.merge(Count, how='left', on='City Or County')"
   ],
   "outputs": [],
   "metadata": {}
  },
  {
   "cell_type": "code",
   "execution_count": 503,
   "source": [
    "Shootings"
   ],
   "outputs": [
    {
     "output_type": "execute_result",
     "data": {
      "text/html": [
       "<div>\n",
       "<style scoped>\n",
       "    .dataframe tbody tr th:only-of-type {\n",
       "        vertical-align: middle;\n",
       "    }\n",
       "\n",
       "    .dataframe tbody tr th {\n",
       "        vertical-align: top;\n",
       "    }\n",
       "\n",
       "    .dataframe thead th {\n",
       "        text-align: right;\n",
       "    }\n",
       "</style>\n",
       "<table border=\"1\" class=\"dataframe\">\n",
       "  <thead>\n",
       "    <tr style=\"text-align: right;\">\n",
       "      <th></th>\n",
       "      <th>City Or County</th>\n",
       "      <th>Shooting Name Sum</th>\n",
       "      <th>Shooting Sum</th>\n",
       "      <th>Shooter Name Sum</th>\n",
       "      <th>Incident ID</th>\n",
       "      <th>Incident Date</th>\n",
       "      <th>State</th>\n",
       "      <th>Address</th>\n",
       "      <th># Killed</th>\n",
       "      <th># Injured</th>\n",
       "      <th>...</th>\n",
       "      <th>Gender of Killed</th>\n",
       "      <th>Avg Age of Killed</th>\n",
       "      <th>Majority racialized victims</th>\n",
       "      <th>Shooter Name</th>\n",
       "      <th>Shooter Age</th>\n",
       "      <th>Shooter Race</th>\n",
       "      <th>Shooter after the shooting</th>\n",
       "      <th>Cop Killed/ injured</th>\n",
       "      <th>Total Tweets</th>\n",
       "      <th>Tweets on Topic</th>\n",
       "    </tr>\n",
       "  </thead>\n",
       "  <tbody>\n",
       "    <tr>\n",
       "      <th>0</th>\n",
       "      <td>San Bernardino</td>\n",
       "      <td>228</td>\n",
       "      <td>5101</td>\n",
       "      <td>2017</td>\n",
       "      <td>456893</td>\n",
       "      <td>12/2/2015 0:00</td>\n",
       "      <td>California</td>\n",
       "      <td>1365 South Waterman Ave</td>\n",
       "      <td>16</td>\n",
       "      <td>19</td>\n",
       "      <td>...</td>\n",
       "      <td>0.357143</td>\n",
       "      <td>41.928571</td>\n",
       "      <td>0</td>\n",
       "      <td>Rizwan Farook and Tashfeen Malik</td>\n",
       "      <td>28</td>\n",
       "      <td>pakistani</td>\n",
       "      <td>killed by police</td>\n",
       "      <td>2</td>\n",
       "      <td>42269</td>\n",
       "      <td>47</td>\n",
       "    </tr>\n",
       "    <tr>\n",
       "      <th>1</th>\n",
       "      <td>Houston</td>\n",
       "      <td>2</td>\n",
       "      <td>2401</td>\n",
       "      <td>0</td>\n",
       "      <td>390526</td>\n",
       "      <td>8/8/2015 0:00</td>\n",
       "      <td>Texas</td>\n",
       "      <td>2211 Falling Oaks</td>\n",
       "      <td>8</td>\n",
       "      <td>0</td>\n",
       "      <td>...</td>\n",
       "      <td>0.250000</td>\n",
       "      <td>18.250000</td>\n",
       "      <td>1</td>\n",
       "      <td>David Ray Conley</td>\n",
       "      <td>48</td>\n",
       "      <td>black</td>\n",
       "      <td>arrested by police</td>\n",
       "      <td>0</td>\n",
       "      <td>43066</td>\n",
       "      <td>0</td>\n",
       "    </tr>\n",
       "    <tr>\n",
       "      <th>2</th>\n",
       "      <td>Washington Navy Yard</td>\n",
       "      <td>51</td>\n",
       "      <td>928</td>\n",
       "      <td>489</td>\n",
       "      <td>480366</td>\n",
       "      <td>9/16/2013 0:00</td>\n",
       "      <td>District of Columbia</td>\n",
       "      <td>1336 Isaac Hull Ave</td>\n",
       "      <td>13</td>\n",
       "      <td>3</td>\n",
       "      <td>...</td>\n",
       "      <td>0.285714</td>\n",
       "      <td>57.714286</td>\n",
       "      <td>0</td>\n",
       "      <td>Aaron Alexis</td>\n",
       "      <td>34</td>\n",
       "      <td>black</td>\n",
       "      <td>killed by police</td>\n",
       "      <td>1</td>\n",
       "      <td>35082</td>\n",
       "      <td>120</td>\n",
       "    </tr>\n",
       "    <tr>\n",
       "      <th>3</th>\n",
       "      <td>Boulder</td>\n",
       "      <td>271</td>\n",
       "      <td>9394</td>\n",
       "      <td>357</td>\n",
       "      <td>1958652</td>\n",
       "      <td>3/22/2021 0:00</td>\n",
       "      <td>Colorado</td>\n",
       "      <td>3600 Table Mesa Dr</td>\n",
       "      <td>10</td>\n",
       "      <td>1</td>\n",
       "      <td>...</td>\n",
       "      <td>0.600000</td>\n",
       "      <td>46.600000</td>\n",
       "      <td>0</td>\n",
       "      <td>Ahmad Al Aliwi Al-Issa</td>\n",
       "      <td>21</td>\n",
       "      <td>syrian-american</td>\n",
       "      <td>arrested by police</td>\n",
       "      <td>0</td>\n",
       "      <td>72483</td>\n",
       "      <td>171</td>\n",
       "    </tr>\n",
       "    <tr>\n",
       "      <th>4</th>\n",
       "      <td>Odessa</td>\n",
       "      <td>46</td>\n",
       "      <td>5569</td>\n",
       "      <td>493</td>\n",
       "      <td>1492441</td>\n",
       "      <td>8/31/2019 0:00</td>\n",
       "      <td>Texas</td>\n",
       "      <td>8250 TX 191</td>\n",
       "      <td>8</td>\n",
       "      <td>23</td>\n",
       "      <td>...</td>\n",
       "      <td>0.285714</td>\n",
       "      <td>31.857143</td>\n",
       "      <td>1</td>\n",
       "      <td>Seth Aaron Ator</td>\n",
       "      <td>36</td>\n",
       "      <td>white</td>\n",
       "      <td>killed by police</td>\n",
       "      <td>3</td>\n",
       "      <td>55654</td>\n",
       "      <td>57</td>\n",
       "    </tr>\n",
       "    <tr>\n",
       "      <th>5</th>\n",
       "      <td>Pittsburgh</td>\n",
       "      <td>56</td>\n",
       "      <td>6669</td>\n",
       "      <td>911</td>\n",
       "      <td>1241819</td>\n",
       "      <td>10/27/2018 0:00</td>\n",
       "      <td>Pennsylvania</td>\n",
       "      <td>5898 Wilkins Ave</td>\n",
       "      <td>11</td>\n",
       "      <td>7</td>\n",
       "      <td>...</td>\n",
       "      <td>0.363636</td>\n",
       "      <td>74.000000</td>\n",
       "      <td>0</td>\n",
       "      <td>Robert Gregory Bowers</td>\n",
       "      <td>46</td>\n",
       "      <td>white</td>\n",
       "      <td>killed by police</td>\n",
       "      <td>4</td>\n",
       "      <td>40612</td>\n",
       "      <td>237</td>\n",
       "    </tr>\n",
       "    <tr>\n",
       "      <th>6</th>\n",
       "      <td>Las Vegas</td>\n",
       "      <td>1340</td>\n",
       "      <td>19302</td>\n",
       "      <td>8674</td>\n",
       "      <td>946496</td>\n",
       "      <td>10/1/2017 0:00</td>\n",
       "      <td>Nevada</td>\n",
       "      <td>3950 Las Vegas Blvd S</td>\n",
       "      <td>59</td>\n",
       "      <td>441</td>\n",
       "      <td>...</td>\n",
       "      <td>0.620690</td>\n",
       "      <td>38.379310</td>\n",
       "      <td>0</td>\n",
       "      <td>Stephen Paddock</td>\n",
       "      <td>64</td>\n",
       "      <td>White</td>\n",
       "      <td>Suicide</td>\n",
       "      <td>0</td>\n",
       "      <td>47363</td>\n",
       "      <td>244</td>\n",
       "    </tr>\n",
       "    <tr>\n",
       "      <th>7</th>\n",
       "      <td>Plano</td>\n",
       "      <td>4</td>\n",
       "      <td>19345</td>\n",
       "      <td>132</td>\n",
       "      <td>930569</td>\n",
       "      <td>9/10/2017 0:00</td>\n",
       "      <td>Texas</td>\n",
       "      <td>1712 West Spring Creek Parkway</td>\n",
       "      <td>9</td>\n",
       "      <td>1</td>\n",
       "      <td>...</td>\n",
       "      <td>0.375000</td>\n",
       "      <td>27.375000</td>\n",
       "      <td>0</td>\n",
       "      <td>Spencer Hight</td>\n",
       "      <td>32</td>\n",
       "      <td>white</td>\n",
       "      <td>killed by police</td>\n",
       "      <td>0</td>\n",
       "      <td>51024</td>\n",
       "      <td>1</td>\n",
       "    </tr>\n",
       "    <tr>\n",
       "      <th>8</th>\n",
       "      <td>Bogue Chitto</td>\n",
       "      <td>0</td>\n",
       "      <td>4035</td>\n",
       "      <td>0</td>\n",
       "      <td>853756</td>\n",
       "      <td>5/27/2017 0:00</td>\n",
       "      <td>Mississippi</td>\n",
       "      <td>2871 Lee Dr</td>\n",
       "      <td>8</td>\n",
       "      <td>1</td>\n",
       "      <td>...</td>\n",
       "      <td>0.500000</td>\n",
       "      <td>37.375000</td>\n",
       "      <td>1</td>\n",
       "      <td>Willie Cory Godbolt</td>\n",
       "      <td>35</td>\n",
       "      <td>black</td>\n",
       "      <td>arrested by police</td>\n",
       "      <td>0</td>\n",
       "      <td>48823</td>\n",
       "      <td>0</td>\n",
       "    </tr>\n",
       "    <tr>\n",
       "      <th>9</th>\n",
       "      <td>Virginia Beach</td>\n",
       "      <td>65</td>\n",
       "      <td>11598</td>\n",
       "      <td>381</td>\n",
       "      <td>1410442</td>\n",
       "      <td>5/31/2019 0:00</td>\n",
       "      <td>Virginia</td>\n",
       "      <td>2405 Courthouse Drive</td>\n",
       "      <td>13</td>\n",
       "      <td>4</td>\n",
       "      <td>...</td>\n",
       "      <td>0.416667</td>\n",
       "      <td>51.583333</td>\n",
       "      <td>0</td>\n",
       "      <td>DeWayne Craddock</td>\n",
       "      <td>40</td>\n",
       "      <td>black</td>\n",
       "      <td>killed by police</td>\n",
       "      <td>1</td>\n",
       "      <td>59531</td>\n",
       "      <td>23</td>\n",
       "    </tr>\n",
       "  </tbody>\n",
       "</table>\n",
       "<p>10 rows × 21 columns</p>\n",
       "</div>"
      ],
      "text/plain": [
       "         City Or County  Shooting Name Sum  Shooting Sum  Shooter Name Sum  \\\n",
       "0        San Bernardino                228          5101              2017   \n",
       "1               Houston                  2          2401                 0   \n",
       "2  Washington Navy Yard                 51           928               489   \n",
       "3               Boulder                271          9394               357   \n",
       "4                Odessa                 46          5569               493   \n",
       "5            Pittsburgh                 56          6669               911   \n",
       "6             Las Vegas               1340         19302              8674   \n",
       "7                 Plano                  4         19345               132   \n",
       "8          Bogue Chitto                  0          4035                 0   \n",
       "9        Virginia Beach                 65         11598               381   \n",
       "\n",
       "   Incident ID    Incident Date                 State  \\\n",
       "0       456893   12/2/2015 0:00            California   \n",
       "1       390526    8/8/2015 0:00                 Texas   \n",
       "2       480366   9/16/2013 0:00  District of Columbia   \n",
       "3      1958652   3/22/2021 0:00              Colorado   \n",
       "4      1492441   8/31/2019 0:00                 Texas   \n",
       "5      1241819  10/27/2018 0:00          Pennsylvania   \n",
       "6       946496   10/1/2017 0:00                Nevada   \n",
       "7       930569   9/10/2017 0:00                 Texas   \n",
       "8       853756   5/27/2017 0:00           Mississippi   \n",
       "9      1410442   5/31/2019 0:00              Virginia   \n",
       "\n",
       "                          Address  # Killed  # Injured  ... Gender of Killed  \\\n",
       "0         1365 South Waterman Ave        16         19  ...         0.357143   \n",
       "1               2211 Falling Oaks         8          0  ...         0.250000   \n",
       "2             1336 Isaac Hull Ave        13          3  ...         0.285714   \n",
       "3              3600 Table Mesa Dr        10          1  ...         0.600000   \n",
       "4                     8250 TX 191         8         23  ...         0.285714   \n",
       "5                5898 Wilkins Ave        11          7  ...         0.363636   \n",
       "6           3950 Las Vegas Blvd S        59        441  ...         0.620690   \n",
       "7  1712 West Spring Creek Parkway         9          1  ...         0.375000   \n",
       "8                     2871 Lee Dr         8          1  ...         0.500000   \n",
       "9           2405 Courthouse Drive        13          4  ...         0.416667   \n",
       "\n",
       "   Avg Age of Killed  Majority racialized victims  \\\n",
       "0          41.928571                            0   \n",
       "1          18.250000                            1   \n",
       "2          57.714286                            0   \n",
       "3          46.600000                            0   \n",
       "4          31.857143                            1   \n",
       "5          74.000000                            0   \n",
       "6          38.379310                            0   \n",
       "7          27.375000                            0   \n",
       "8          37.375000                            1   \n",
       "9          51.583333                            0   \n",
       "\n",
       "                       Shooter Name Shooter Age     Shooter Race  \\\n",
       "0  Rizwan Farook and Tashfeen Malik          28        pakistani   \n",
       "1                  David Ray Conley          48            black   \n",
       "2                      Aaron Alexis          34            black   \n",
       "3            Ahmad Al Aliwi Al-Issa          21  syrian-american   \n",
       "4                   Seth Aaron Ator          36            white   \n",
       "5             Robert Gregory Bowers          46            white   \n",
       "6                   Stephen Paddock          64            White   \n",
       "7                     Spencer Hight          32            white   \n",
       "8               Willie Cory Godbolt          35            black   \n",
       "9                  DeWayne Craddock          40            black   \n",
       "\n",
       "  Shooter after the shooting Cop Killed/ injured  Total Tweets  \\\n",
       "0           killed by police                   2         42269   \n",
       "1         arrested by police                   0         43066   \n",
       "2           killed by police                   1         35082   \n",
       "3         arrested by police                   0         72483   \n",
       "4           killed by police                   3         55654   \n",
       "5           killed by police                   4         40612   \n",
       "6                    Suicide                   0         47363   \n",
       "7           killed by police                   0         51024   \n",
       "8         arrested by police                   0         48823   \n",
       "9           killed by police                   1         59531   \n",
       "\n",
       "   Tweets on Topic  \n",
       "0               47  \n",
       "1                0  \n",
       "2              120  \n",
       "3              171  \n",
       "4               57  \n",
       "5              237  \n",
       "6              244  \n",
       "7                1  \n",
       "8                0  \n",
       "9               23  \n",
       "\n",
       "[10 rows x 21 columns]"
      ]
     },
     "metadata": {},
     "execution_count": 503
    }
   ],
   "metadata": {}
  },
  {
   "cell_type": "code",
   "execution_count": 468,
   "source": [
    "import matplotlib.pyplot as plt\n",
    "plt.rc('xtick', labelsize=8)"
   ],
   "outputs": [],
   "metadata": {}
  },
  {
   "cell_type": "code",
   "execution_count": 470,
   "source": [
    "fig, ax = plt.subplots()\n",
    "ax.set_ylabel('Number of Tweets')\n",
    "pps = ax.bar(x=[Shootings.iloc[i,0] for i in range(0, len(Shootings))], height=[Shootings.iloc[i,-1] for i in range(0, len(Shootings))])\n",
    "for p in pps:\n",
    "   height = p.get_height()\n",
    "   ax.annotate('{}'.format(height),\n",
    "      xy=(p.get_x() + p.get_width()/2, height),\n",
    "      xytext=(0, 3), # 3 points vertical offset\n",
    "      textcoords=\"offset points\",\n",
    "      ha='center', va='bottom')\n",
    "\n",
    "plt.ylim(0, 275)\n",
    "plt.xticks(rotation = 90)\n",
    "plt.show()"
   ],
   "outputs": [
    {
     "output_type": "display_data",
     "data": {
      "image/png": "[encoded data removed]",
      "text/plain": [
       "<Figure size 432x288 with 1 Axes>"
      ]
     },
     "metadata": {
      "needs_background": "light"
     }
    }
   ],
   "metadata": {}
  },
  {
   "cell_type": "code",
   "execution_count": 534,
   "source": [
    "Shootings['Incident Date'] = pd.to_datetime(Shootings['Incident Date'])"
   ],
   "outputs": [],
   "metadata": {}
  },
  {
   "cell_type": "code",
   "execution_count": 561,
   "source": [
    "days_all = []\n",
    "\n",
    "for i in range(len(corpus)):\n",
    "    \n",
    "    days = {k: [] for k in np.array(range(0,90,3))}\n",
    "\n",
    "    i_s = Shootings[Shootings['City Or County']==Count.iloc[i,0]]['Incident Date'].index.tolist()[0]\n",
    "\n",
    "\n",
    "    for j in range(len(corpus[i])):\n",
    "\n",
    "        d= abs(Shootings[Shootings['City Or County']==Count.iloc[i,0]]['Incident Date'][i_s].date()-pd.to_datetime(dates[i][j]).date()).days\n",
    "        k_d = np.array(range(0,90,3))[np.array(range(0,90,3)) <= d].max()\n",
    "        days[k_d].append(corpus[i][j])\n",
    "    \n",
    "    days_all.append(days)\n",
    "\n",
    "    "
   ],
   "outputs": [],
   "metadata": {}
  },
  {
   "cell_type": "code",
   "execution_count": 536,
   "source": [
    "daily_all = []\n",
    "for i in range(len(corpus)):\n",
    "    \n",
    "    days = {k: [] for k in np.array(range(0,92,1))}\n",
    "\n",
    "    i_s = Shootings[Shootings['City Or County']==Count.iloc[i,0]]['Incident Date'].index.tolist()[0]\n",
    "\n",
    "\n",
    "    for j in range(len(corpus[i])):\n",
    "\n",
    "        d= abs(Shootings[Shootings['City Or County']==Count.iloc[i,0]]['Incident Date'][i_s].date()-pd.to_datetime(dates[i][j]).date()).days\n",
    "        k_d = np.array(range(0,92,1))[np.array(range(0,92,1)) <= d].max()\n",
    "        days[k_d].append(corpus[i][j])\n",
    "    \n",
    "    daily_all.append(days)"
   ],
   "outputs": [],
   "metadata": {}
  },
  {
   "cell_type": "code",
   "execution_count": 579,
   "source": [
    "days_all_num = []\n",
    "\n",
    "for i in range(len(days_all)):\n",
    "\n",
    "    days_num = {k: 0 for k in np.array(range(0,90,3))}\n",
    "\n",
    "    for j in days_all[i].keys():\n",
    "\n",
    "        days_num[j] = len(days_all[i][j])\n",
    "    \n",
    "    days_all_num.append(days_num)\n",
    "            "
   ],
   "outputs": [],
   "metadata": {}
  },
  {
   "cell_type": "code",
   "execution_count": 570,
   "source": [
    "daily_all_num = []\n",
    "\n",
    "for i in range(len(daily_all)):\n",
    "\n",
    "    daily_num = {k: 0 for k in np.array(range(0,92,1))}\n",
    "\n",
    "    for j in daily_all[i].keys():\n",
    "\n",
    "        daily_num[j] = len(daily_all[i][j])\n",
    "    \n",
    "    daily_all_num.append(daily_num)"
   ],
   "outputs": [],
   "metadata": {}
  },
  {
   "cell_type": "code",
   "execution_count": 591,
   "source": [
    "color = ['red', 'orange', 'blue', 'green', 'yellow', 'purple', 'fuchsia', 'aqua', 'slategrey', 'black']\n",
    "for i in range(0,10):\n",
    "    try:\n",
    "        plt.plot(pd.DataFrame(days_all_num, index=Count['City Or County']).columns.tolist(), [x*100 / sum(pd.DataFrame(days_all_num, index=Count['City Or County']).iloc[i,:].tolist()) for x in pd.DataFrame(days_all_num, index=Count['City Or County']).iloc[i,:].tolist()], color=color[i],\n",
    "        label = Count['City Or County'][i])\n",
    "    except ZeroDivisionError:\n",
    "        pass\n",
    "plt.legend(loc=\"upper right\")\n",
    "plt.show()"
   ],
   "outputs": [
    {
     "output_type": "display_data",
     "data": {
      "image/png": "[encoded data removed]",
      "text/plain": [
       "<Figure size 432x288 with 1 Axes>"
      ]
     },
     "metadata": {
      "needs_background": "light"
     }
    }
   ],
   "metadata": {}
  },
  {
   "cell_type": "code",
   "execution_count": 589,
   "source": [
    "cumsum = []\n",
    "for i in range(0,10):\n",
    "    try:\n",
    "        cumsum.append([x*100 / sum(pd.DataFrame(daily_all_num, index=Count['City Or County']).iloc[i,:].tolist()) for x in pd.DataFrame(daily_all_num, index=Count['City Or County']).cumsum(axis=1).iloc[i,:].tolist()])\n",
    "\n",
    "    except ZeroDivisionError:\n",
    "        pass"
   ],
   "outputs": [],
   "metadata": {}
  },
  {
   "cell_type": "code",
   "execution_count": 585,
   "source": [
    "color = ['red', 'orange', 'blue', 'green', 'yellow', 'purple', 'fuchsia', 'aqua', 'slategrey', 'black']\n",
    "for i in range(0,10):\n",
    "    try:\n",
    "        plt.plot(pd.DataFrame(days_all_num, index=Count['City Or County']).columns.tolist(), [x*100 / sum(pd.DataFrame(days_all_num, index=Count['City Or County']).iloc[i,:].tolist()) for x in pd.DataFrame(days_all_num, index=Count['City Or County']).cumsum(axis=1).iloc[i,:].tolist()], color=color[i],\n",
    "        label = Count['City Or County'][i])\n",
    "    except ZeroDivisionError:\n",
    "        pass\n",
    "plt.legend(loc=\"upper right\")\n",
    "plt.show()"
   ],
   "outputs": [
    {
     "output_type": "display_data",
     "data": {
      "image/png": "[encoded data removed]",
      "text/plain": [
       "<Figure size 432x288 with 1 Axes>"
      ]
     },
     "metadata": {
      "needs_background": "light"
     }
    }
   ],
   "metadata": {}
  },
  {
   "cell_type": "code",
   "execution_count": 586,
   "source": [
    "color = ['red', 'orange', 'blue', 'green', 'yellow', 'purple', 'fuchsia', 'aqua', 'slategrey', 'forestgreen']\n",
    "for i in range(0,10):\n",
    "    try:\n",
    "        plt.plot(pd.DataFrame(days_all_num, index=Count['City Or County']).columns.tolist(), pd.DataFrame(days_all_num, index=Count['City Or County']).iloc[i,:].tolist(), color=color[i],\n",
    "        label = Count['City Or County'][i])\n",
    "    except ZeroDivisionError:\n",
    "        pass\n",
    "plt.legend(loc=\"upper right\")\n",
    "plt.show()"
   ],
   "outputs": [
    {
     "output_type": "display_data",
     "data": {
      "image/png": "[encoded data removed]",
      "text/plain": [
       "<Figure size 432x288 with 1 Axes>"
      ]
     },
     "metadata": {
      "needs_background": "light"
     }
    }
   ],
   "metadata": {}
  },
  {
   "cell_type": "code",
   "execution_count": 491,
   "source": [
    "y = Shootings.iloc[:,-1].to_list() # number of tweets\n",
    "x = Shootings.iloc[:,8].to_list() # number killed\n",
    "labels = Shootings.iloc[:,0].to_list() # labels\n",
    "\n",
    "X = np.array(x).reshape(-1, 1)\n",
    "reg = LinearRegression().fit(X, y)\n",
    "art_killed_score = reg.score(X,y)\n",
    "\n",
    "lr_x = x\n",
    "lr_y = reg.predict(np.array(X))\n",
    "\n",
    "fig, ax = plt.subplots()\n",
    "ax.scatter(x, y)\n",
    "ax.plot(lr_x, lr_y)\n",
    "ax.set_title(\"Shootings' Number of Tweets and Number of Fatalities\")\n",
    "ax.set_ylabel('# of Tweets about the Shooting')\n",
    "ax.set_xlabel('# of Fatalities')\n",
    "for i, txt in enumerate(labels):\n",
    "    ax.annotate(txt, (x[i], y[i]))\n",
    "plt.show()"
   ],
   "outputs": [
    {
     "output_type": "display_data",
     "data": {
      "image/png": "[encoded data removed]",
      "text/plain": [
       "<Figure size 432x288 with 1 Axes>"
      ]
     },
     "metadata": {
      "needs_background": "light"
     }
    }
   ],
   "metadata": {}
  },
  {
   "cell_type": "code",
   "execution_count": 492,
   "source": [
    "y = Shootings.iloc[:,-1].to_list() # number of tweets\n",
    "x = Shootings.iloc[:,8].to_list() # number killed\n",
    "labels = Shootings.iloc[:,0].to_list() # labels\n",
    "\n",
    "X = np.array(x).reshape(-1, 1)\n",
    "reg = LinearRegression().fit(X, y)\n",
    "art_killed_score = reg.score(X,y)\n",
    "\n",
    "lr_x = x\n",
    "lr_y = reg.predict(np.array(X))\n",
    "\n",
    "fig, ax = plt.subplots()\n",
    "ax.scatter(x, y)\n",
    "ax.plot(lr_x, lr_y)\n",
    "ax.set_title(\"Shootings' Number of Tweets and Number of Fatalities\")\n",
    "ax.set_ylabel('# of Tweets about the Shooting')\n",
    "ax.set_xlabel('# of Fatalities')\n",
    "for i, txt in enumerate(labels):\n",
    "    ax.annotate(txt, (x[i], y[i]))\n",
    "plt.show()"
   ],
   "outputs": [
    {
     "output_type": "display_data",
     "data": {
      "image/png": "[encoded data removed]",
      "text/plain": [
       "<Figure size 432x288 with 1 Axes>"
      ]
     },
     "metadata": {
      "needs_background": "light"
     }
    }
   ],
   "metadata": {}
  },
  {
   "cell_type": "code",
   "execution_count": 504,
   "source": [
    "columns = ['Tweets on Topic','Shooting Name Sum', 'Shooting Sum','Shooter Name Sum','# Killed', '# Injured','Gender of Killed',  'Avg Age of Killed', 'Majority racialized victims','Shooter Age']\n",
    "\n",
    "regression_prep = Shootings.loc[:,columns]\n",
    "df = pd.DataFrame(columns=['Tweets on Topic','Shooting Name Sum', 'Shooting Sum','Shooter Name Sum',\n",
    "                           '# Killed', '# Injured','Gender of Killed',  'Avg Age of Killed',\n",
    "                           'Majority racialized victims','Shooter Age'])\n",
    "for column in columns:\n",
    "    for copy in columns[:]:\n",
    "        h=regression_prep[copy]\n",
    "        j=regression_prep[column]\n",
    "        lr= get_lr(regression_prep[column], regression_prep[copy])\n",
    "        df.loc[copy, column] = lr\n",
    "    "
   ],
   "outputs": [],
   "metadata": {}
  },
  {
   "cell_type": "code",
   "execution_count": 506,
   "source": [
    "sim = []\n",
    "for i in list(range(len(Shootings))):\n",
    "    sim_i = [0,0,0,0,0,0,0,0,0,0]\n",
    "    for j in list(range(len(Shootings))):\n",
    "        if i != j:\n",
    "            if Shootings.iloc[i,6] == Shootings.iloc[j,6]:\n",
    "                same_state = 1\n",
    "            else: \n",
    "                same_state = 0\n",
    "            no_killed = abs(Shootings.iloc[i,8]-Shootings.iloc[j,8])\n",
    "            no_injured = abs(Shootings.iloc[i,9]-Shootings.iloc[j,9])\n",
    "            total_victims = abs((Shootings.iloc[i,8]+Shootings.iloc[i,9])-(Shootings.iloc[j,8]+Shootings.iloc[j,9]))\n",
    "            if Shootings.iloc[i,10] == Shootings.iloc[j,10]:\n",
    "                same_location = 1\n",
    "            else:\n",
    "                same_location = 0\n",
    "            gender_killed = abs(Shootings.iloc[i,11]-Shootings.iloc[j,11])\n",
    "            age_killed = abs(Shootings.iloc[i,12] - Shootings.iloc[j,12])\n",
    "            race_killed = abs(Shootings.iloc[i,13] - Shootings.iloc[j,13])\n",
    "            shooter_age = abs(Shootings.iloc[i,15] - Shootings.iloc[j,15])\n",
    "            if Shootings.iloc[i,16] == Shootings.iloc[j,16]:\n",
    "                same_race = 1\n",
    "            else:\n",
    "                same_race = 0\n",
    "            if Shootings.iloc[i,17] == Shootings.iloc[j,17]:\n",
    "                same_after = 1\n",
    "            else:\n",
    "                same_after = 0\n",
    "            summary = [same_state, no_killed, no_injured, total_victims, same_location, gender_killed, age_killed,\n",
    "               race_killed, shooter_age, same_race, same_after]\n",
    "            importance_vec = [0, 0, 1, 1, 1, 0, 0, 0, 0, 0, 0, 0]\n",
    "            similarity_count = 0\n",
    "            for k in range(len(summary)):\n",
    "                multiply = summary[k]*importance_vec[k]\n",
    "                similarity_count += multiply\n",
    "            sim_i[j] = similarity_count\n",
    "    sim.append(sim_i)\n"
   ],
   "outputs": [],
   "metadata": {}
  },
  {
   "cell_type": "code",
   "execution_count": 622,
   "source": [
    "LasVegasA = pd.read_excel ('Las_Vegas.xlsx')"
   ],
   "outputs": [],
   "metadata": {}
  },
  {
   "cell_type": "code",
   "execution_count": 652,
   "source": [
    "fig, ax = plt.subplots()\n",
    "ax.set_xlabel('Attribute categories')\n",
    "ax.set_ylabel('Number of Tweets')\n",
    "plt.hist(LasVegasA.Attributes, bins = np.arange(0, 5)-0.5, facecolor='blue', alpha=0.5)\n",
    "plt.xticks(np.arange(0,4))\n",
    "plt.show()\n"
   ],
   "outputs": [
    {
     "output_type": "display_data",
     "data": {
      "image/png": "[encoded data removed]",
      "text/plain": [
       "<Figure size 432x288 with 1 Axes>"
      ]
     },
     "metadata": {
      "needs_background": "light"
     }
    }
   ],
   "metadata": {}
  },
  {
   "cell_type": "code",
   "execution_count": 653,
   "source": [
    "PlanoA = pd.read_excel ('Plano.xlsx')\n",
    "fig, ax = plt.subplots()\n",
    "ax.set_xlabel('Attribute categories')\n",
    "ax.set_ylabel('Number of Tweets')\n",
    "plt.hist(PlanoA.Attributes, bins = np.arange(0, 5)-0.5, facecolor='blue', alpha=0.5)\n",
    "plt.xticks(np.arange(0,4))\n",
    "plt.show()"
   ],
   "outputs": [
    {
     "output_type": "display_data",
     "data": {
      "image/png": "[encoded data removed]",
      "text/plain": [
       "<Figure size 432x288 with 1 Axes>"
      ]
     },
     "metadata": {
      "needs_background": "light"
     }
    }
   ],
   "metadata": {}
  },
  {
   "cell_type": "code",
   "execution_count": 655,
   "source": [
    "PittA = pd.read_excel ('Pittsburgh.xlsx')\n",
    "fig, ax = plt.subplots()\n",
    "ax.set_xlabel('Attribute categories')\n",
    "ax.set_ylabel('Number of Tweets')\n",
    "plt.hist(PittA.Attribute, bins = np.arange(0, 5)-0.5, facecolor='blue', alpha=0.5)\n",
    "plt.xticks(np.arange(0,4))\n",
    "plt.show()"
   ],
   "outputs": [
    {
     "output_type": "display_data",
     "data": {
      "image/png": "[encoded data removed]",
      "text/plain": [
       "<Figure size 432x288 with 1 Axes>"
      ]
     },
     "metadata": {
      "needs_background": "light"
     }
    }
   ],
   "metadata": {}
  },
  {
   "cell_type": "code",
   "execution_count": 658,
   "source": [
    "VirgA = pd.read_excel ('Virginia.xlsx')\n",
    "fig, ax = plt.subplots()\n",
    "ax.set_xlabel('Attribute categories')\n",
    "ax.set_ylabel('Number of Tweets')\n",
    "plt.hist(VirgA.Label, bins = np.arange(0, 5)-0.5, facecolor='blue', alpha=0.5)\n",
    "plt.xticks(np.arange(0,4))\n",
    "plt.show()"
   ],
   "outputs": [
    {
     "output_type": "display_data",
     "data": {
      "image/png": "[encoded data removed]",
      "text/plain": [
       "<Figure size 432x288 with 1 Axes>"
      ]
     },
     "metadata": {
      "needs_background": "light"
     }
    }
   ],
   "metadata": {}
  },
  {
   "cell_type": "code",
   "execution_count": 659,
   "source": [
    "SanBA = pd.read_excel ('San_Bernardino.xlsx')\n",
    "fig, ax = plt.subplots()\n",
    "ax.set_xlabel('Attribute categories')\n",
    "ax.set_ylabel('Number of Tweets')\n",
    "plt.hist(SanBA.Attributes, bins = np.arange(0, 5)-0.5, facecolor='blue', alpha=0.5)\n",
    "plt.xticks(np.arange(0,4))\n",
    "plt.show()"
   ],
   "outputs": [
    {
     "output_type": "display_data",
     "data": {
      "image/png": "[encoded data removed]",
      "text/plain": [
       "<Figure size 432x288 with 1 Axes>"
      ]
     },
     "metadata": {
      "needs_background": "light"
     }
    }
   ],
   "metadata": {}
  },
  {
   "cell_type": "code",
   "execution_count": 662,
   "source": [
    "OdA = pd.read_excel ('Odessa.xlsx')\n",
    "fig, ax = plt.subplots()\n",
    "ax.set_xlabel('Attribute categories')\n",
    "ax.set_ylabel('Number of Tweets')\n",
    "plt.hist(OdA.Attributes, bins = np.arange(0, 5)-0.5, facecolor='blue', alpha=0.5)\n",
    "plt.xticks(np.arange(0,4))\n",
    "plt.show()"
   ],
   "outputs": [
    {
     "output_type": "display_data",
     "data": {
      "image/png": "[encoded data removed]",
      "text/plain": [
       "<Figure size 432x288 with 1 Axes>"
      ]
     },
     "metadata": {
      "needs_background": "light"
     }
    }
   ],
   "metadata": {}
  },
  {
   "cell_type": "code",
   "execution_count": 663,
   "source": [
    "WA = pd.read_excel ('Washington_Navy.xlsx')\n",
    "fig, ax = plt.subplots()\n",
    "ax.set_xlabel('Attribute categories')\n",
    "ax.set_ylabel('Number of Tweets')\n",
    "plt.hist(WA.Attributes, bins = np.arange(0, 5)-0.5, facecolor='blue', alpha=0.5)\n",
    "plt.xticks(np.arange(0,4))\n",
    "plt.show()"
   ],
   "outputs": [
    {
     "output_type": "display_data",
     "data": {
      "image/png": "[encoded data removed]",
      "text/plain": [
       "<Figure size 432x288 with 1 Axes>"
      ]
     },
     "metadata": {
      "needs_background": "light"
     }
    }
   ],
   "metadata": {}
  },
  {
   "cell_type": "code",
   "execution_count": 664,
   "source": [
    "BA = pd.read_excel ('Boulder.xlsx')\n",
    "fig, ax = plt.subplots()\n",
    "ax.set_xlabel('Attribute categories')\n",
    "ax.set_ylabel('Number of Tweets')\n",
    "plt.hist(BA.Attributes, bins = np.arange(0, 5)-0.5, facecolor='blue', alpha=0.5)\n",
    "plt.xticks(np.arange(0,4))\n",
    "plt.show()"
   ],
   "outputs": [
    {
     "output_type": "display_data",
     "data": {
      "image/png": "[encoded data removed]",
      "text/plain": [
       "<Figure size 432x288 with 1 Axes>"
      ]
     },
     "metadata": {
      "needs_background": "light"
     }
    }
   ],
   "metadata": {}
  }
 ],
 "metadata": {
  "orig_nbformat": 4,
  "language_info": {
   "name": "python",
   "version": "3.9.6",
   "mimetype": "text/x-python",
   "codemirror_mode": {
    "name": "ipython",
    "version": 3
   },
   "pygments_lexer": "ipython3",
   "nbconvert_exporter": "python",
   "file_extension": ".py"
  },
  "kernelspec": {
   "name": "python3",
   "display_name": "Python 3.9.6 64-bit ('env1': conda)"
  },
  "interpreter": {
   "hash": "279d6e7ebc5369e82c4ec6333e1de983865a13fbbf608223a5eaed58b9629f5e"
  }
 },
 "nbformat": 4,
 "nbformat_minor": 2
}