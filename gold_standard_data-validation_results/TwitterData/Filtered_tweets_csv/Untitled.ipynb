{
 "cells": [
  {
   "cell_type": "code",
   "execution_count": 2,
   "id": "abde8f02",
   "metadata": {},
   "outputs": [],
   "source": [
    "import pandas as pd\n",
    "import glob"
   ]
  },
  {
   "cell_type": "code",
   "execution_count": 3,
   "id": "96046825",
   "metadata": {},
   "outputs": [
    {
     "name": "stdout",
     "output_type": "stream",
     "text": [
      "Twitter_Odessa_filtered.csv             : 4791\n",
      "Twitter_SanBernardino_filtered.csv      : 2159\n",
      "Twitter_Bogue_Chitto_filtered.csv       : 3229\n",
      "Twitter_Boulder_filtered.csv            : 7784\n",
      "Twitter_Plano_filtered.csv              : 4672\n",
      "Twitter_Washington_filtered.csv         : 1626\n",
      "Twitter_Virginia_filtered.csv           : 5625\n",
      "Twitter_Pittsburgh_filtered.csv         : 4055\n",
      "Twitter_Houston_filtered.csv            : 1950\n",
      "Twitter_Las_Vegas_filtered.csv          : 5035\n",
      "40926\n"
     ]
    }
   ],
   "source": [
    "total_tweets = 0\n",
    "\n",
    "for csv_path in glob.glob('*filtered.csv'):\n",
    "    csv = pd.read_csv(csv_path)\n",
    "    print(f\"{csv_path:40s}: {len(csv)}\")\n",
    "    total_tweets += len(csv)\n",
    "    \n",
    "print(total_tweets)"
   ]
  }
 ],
 "metadata": {
  "kernelspec": {
   "display_name": "Python 3",
   "language": "python",
   "name": "python3"
  },
  "language_info": {
   "codemirror_mode": {
    "name": "ipython",
    "version": 3
   },
   "file_extension": ".py",
   "mimetype": "text/x-python",
   "name": "python",
   "nbconvert_exporter": "python",
   "pygments_lexer": "ipython3",
   "version": "3.8.8"
  }
 },
 "nbformat": 4,
 "nbformat_minor": 5
}
