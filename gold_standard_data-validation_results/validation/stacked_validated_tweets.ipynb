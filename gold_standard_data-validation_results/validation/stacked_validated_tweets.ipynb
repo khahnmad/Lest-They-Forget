{
 "cells": [
  {
   "cell_type": "markdown",
   "id": "75ea1604-ecbd-4fca-987a-002ea6438ee7",
   "metadata": {},
   "source": [
    "# To calculate the accuracy of dictionary method for Twitter Data"
   ]
  },
  {
   "cell_type": "code",
   "execution_count": null,
   "id": "47450858-285c-4784-9fbc-07030e7378c4",
   "metadata": {
    "tags": []
   },
   "outputs": [],
   "source": [
    "import pandas as pd\n",
    "from pathlib import Path"
   ]
  },
  {
   "cell_type": "markdown",
   "id": "c58924cd-6912-4cb7-b1a8-46b944fd5e28",
   "metadata": {},
   "source": [
    "## Generate Stacked CSVs"
   ]
  },
  {
   "cell_type": "code",
   "execution_count": null,
   "id": "2b02dec3-3023-4f68-8555-48d6406c23e8",
   "metadata": {},
   "outputs": [],
   "source": [
    "# label_lists = [\n",
    "#     ['Boulder', 'Boulder', 'Boulder'],\n",
    "#     ['Las_Vegas', 'Las_Vegas', 'Las_Vegas'],\n",
    "#     ['Odessa', 'Odessa', 'Odessa'],\n",
    "#     ['Pittsburgh', 'Pittsburgh', 'Pittsburgh'],\n",
    "#     ['Plano', 'Plano', 'Plano'],\n",
    "#     ['San_Bernardino', 'SanBernardino', 'SanBernardino'],\n",
    "#     ['Virginia', 'Virginia', 'Virginia'],\n",
    "#     ['Washington_Navy', 'Washington', 'Washington'],\n",
    "# ]\n",
    "\n",
    "# def gen_gs_tweet_csv_paths():\n",
    "#     path_templates = [\n",
    "#         \"./Dict_updated_csv/Dict_{}_sample.csv\",\n",
    "#         \"./Filtered_tweets_csv/validated_tweets/Twitter_{}_filtered_sample.csv\",\n",
    "#         \"./updated_csv/Twitter_{}_sample.csv\"\n",
    "#     ]\n",
    "    \n",
    "#     return [path_templates[i].format(label) for i, label in enumerate(labels)]\n",
    "\n",
    "\n",
    "# def load_gs_tweet_csv(paths):\n",
    "#     col_names = [{\"0\": \"tweet\"}, {}, {}]\n",
    "#     sel_cols = ['tweet', 'verified_tweet', 'mentioned_shooting']\n",
    "    \n",
    "#     return [\n",
    "#         pd.read_csv(path).rename(columns=col_names[i])[sel_cols]\n",
    "#         for i, path in enumerate(paths)\n",
    "#     ]\n",
    "\n",
    "# stacked_csv_dir = './stacked_csv'\n",
    "# Path(stacked_csv_dir).mkdir(parents=True, exist_ok=True)\n",
    "\n",
    "# for labels in label_lists:\n",
    "#     paths = gen_gs_tweet_csv_paths()\n",
    "#     csvs = load_gs_tweet_csv(paths)\n",
    "    \n",
    "#     stacked_csv = pd.concat(csvs).reset_index()\n",
    "#     stacked_csv_path = f\"{stacked_csv_dir}/{labels[0]}_stacked.csv\"\n",
    "#     stacked_csv.to_csv(stacked_csv_path)"
   ]
  },
  {
   "cell_type": "markdown",
   "id": "067ae5ad-c39e-4afc-86cf-be53181b3da8",
   "metadata": {},
   "source": [
    "## Dictionary Method Accuracy"
   ]
  },
  {
   "cell_type": "code",
   "execution_count": null,
   "id": "a3f23572-985c-4d9e-beba-50dddf12cdf4",
   "metadata": {},
   "outputs": [],
   "source": [
    "labels = [\n",
    "    'Boulder', 'Las_Vegas', 'Odessa', 'Pittsburgh', 'Plano',\n",
    "    'San_Bernardino', 'Virginia', 'Washington_Navy',\n",
    "]\n",
    "\n",
    "mean = 0\n",
    "\n",
    "for label in labels:\n",
    "    dic_path = f\"../../{label}.csv\"\n",
    "    val_path = f\"../TwitterData/stacked_csv/{label}_stacked.csv\"\n",
    "    \n",
    "    dic = pd.read_csv(dic_path).rename(columns={'0': 'tweet'})\n",
    "    val = pd.read_csv(val_path)\n",
    "    \n",
    "    cnt, sim = 0, 0\n",
    "    \n",
    "    for i, source in dic.iterrows():\n",
    "        target = val.loc[val['tweet'] == source.tweet]\n",
    "        \n",
    "        if target.empty:\n",
    "            continue\n",
    "        \n",
    "        cnt += 1\n",
    "        sim = sim + 1 if target.iloc[0].verified_tweet == 'related' else sim\n",
    "        \n",
    "    for i, target in val.iterrows():\n",
    "        if target.verified_tweet != 'related':\n",
    "            continue\n",
    "        \n",
    "        source = dic.loc[dic['tweet'] == target.tweet]\n",
    "        \n",
    "        if target.empty:\n",
    "            cnt += 1\n",
    "            \n",
    "    mean += sim / cnt\n",
    "    print(f\"{label:16s}: {sim/cnt:4.2f}\")\n",
    "    \n",
    "print(f\"Ave. accuracy: {mean / len(labels)}\")"
   ]
  }
 ],
 "metadata": {
  "kernelspec": {
   "display_name": "Python 3",
   "language": "python",
   "name": "python3"
  },
  "language_info": {
   "codemirror_mode": {
    "name": "ipython",
    "version": 3
   },
   "file_extension": ".py",
   "mimetype": "text/x-python",
   "name": "python",
   "nbconvert_exporter": "python",
   "pygments_lexer": "ipython3",
   "version": "3.8.8"
  }
 },
 "nbformat": 4,
 "nbformat_minor": 5
}
