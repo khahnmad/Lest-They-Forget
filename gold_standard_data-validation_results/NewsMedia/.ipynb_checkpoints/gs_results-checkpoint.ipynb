{
 "cells": [
  {
   "cell_type": "markdown",
   "id": "745a6e6e-3cc3-4a3c-a48b-5a330e3b0d4c",
   "metadata": {},
   "source": [
    "# To validate the News outlets"
   ]
  },
  {
   "cell_type": "code",
   "execution_count": null,
   "id": "9d20e358-3f96-41e1-a017-1056d6b3a345",
   "metadata": {},
   "outputs": [],
   "source": [
    "import pandas as pd\n",
    "import numpy as np\n",
    "import random\n",
    "import copy\n",
    "import webbrowser\n",
    "\n",
    "random.seed(33)\n",
    "pd.set_option('display.max_rows', None) \n",
    "path='../newspaper-text/'\n",
    "\n",
    "all_info = [\n",
    "    'Plano',\"spencer hight\",\"dallas cowboys\",\"meredith hight\",\"dallas\",\"plano\",\"sunday\",\"caleb edwards\",\"deffner\",\"rushin\",\n",
    "    'Pittsburgh',\"pittsburgh\",\"synagogue\",\"bowers\",\"tree of life\",\"squirrel hill\",\"jewish\",\"anti-semitism\",\"jews\",\n",
    "    'Las-Vegas',\"paddock\",\"mandalay bay hotel\",\"route 91 harvest\",\"las vegas\",\"aldean\",\"concert\",\"mesquite\",\"hotel\",\"lombardo\",\n",
    "    'SanBernadino','syed','rizwan','farook','tashfeen','malik','SUV',\"inland regional center\",\"san bernardino\",\"redlands\",\"christmas party\",\"public health department\",\"bomb\",\n",
    "    'Houston','david','conley','harris county','ex-girlfriend','houston','saturday','valerie jackson','window','black','arrested',\n",
    "    'Odessa','saturday','midland','odessa','seth','aaron','ator','west texas','traffic stop','white van','movie theater','random','white',\n",
    "    'Bogue','willie','cory','godbolt','arrested','lincoln county','bogue chitto','brookhaven','barbara mitchell',\n",
    "    'DC','washington navy yard','aaron alexis','monday','contractor','12 people',\n",
    "    'Boulder','king soopers','boulder','ahmad al','aliwi','al-issa','arrested','9mm handgun','table mesa drive','eric talley','boulder police','monday','in custody',\n",
    "    'Virginia-Beach','virginia beach','dewayne','craddock','employee','nettleton','.45-caliber','engineer','municipal'\n",
    "        ]"
   ]
  },
  {
   "cell_type": "code",
   "execution_count": null,
   "id": "3299b721-3b65-4da5-9a4a-2bb9a4df15a3",
   "metadata": {},
   "outputs": [],
   "source": [
    "def addCol_takeSample(df):\n",
    "    '''\n",
    "    parameter: DataFrame\n",
    "    Returns: Two dataframes:\n",
    "                        - with two additional columns, verified_article: if not Nan, it belongs to the gold standard subset.\n",
    "                                                       Corresponds_to: if not Nan, the article corresponds to another shooting.\n",
    "                        - It takes 2% of the articles as sample to be be verified.\n",
    "    '''\n",
    "    df['verified_article'] = np.nan\n",
    "    df['corresponds_to'] = np.nan\n",
    "    \n",
    "    sample = df.sample(frac=0.02, random_state=33)\n",
    "    return df, sample\n",
    "\n",
    "\n",
    "def update_labels(df, df_sample):\n",
    "    '''\n",
    "    parameters: A dataframe, and its subset.\n",
    "    Returns: Updates the state of the 'verified_article' and 'corresponds_to' columns\n",
    "    '''\n",
    "    df_update = copy.deepcopy(df)\n",
    "    df_sample_update = copy.deepcopy(df_sample)\n",
    "    \n",
    "    for i, row in df_sample.iterrows():\n",
    "        \n",
    "        print(row.url)\n",
    "        url_open = input()\n",
    "        if url_open == 'o':\n",
    "            webbrowser.open(row.url)\n",
    "        \n",
    "        print('open text here?')\n",
    "        op = input()\n",
    "        \n",
    "        if op == 'o':\n",
    "            print(row.text)\n",
    "        \n",
    "        reply = input()\n",
    "        \n",
    "        if reply == 'j': \n",
    "            print(f'article number {i} IS related to this shooting.' )\n",
    "            df_update.at[i, ['verified_article']] = 'related'\n",
    "            df_sample_update.at[i, ['verified_article']] = 'related'\n",
    "            \n",
    "            also_related = input()\n",
    "            if also_related == 'aj':\n",
    "                about = input()\n",
    "                print(f'article number {i} is about the shooting : {about}')\n",
    "                df_update.at[i, ['corresponds_to']] = f'{about}'\n",
    "                df_sample_update.at[i, ['corresponds_to']] = f'{about}'\n",
    "            \n",
    "                \n",
    "        if reply == 'm':\n",
    "            print(f'article number {i} IS NOT related to the shooting.')\n",
    "            \n",
    "            about = input()\n",
    "            print(f'article number {i} IS about the shooting : {about}')\n",
    "            df_update.at[i, ['verified_article']] = 'not-related'\n",
    "            df_sample_update.at[i, ['verified_article']] = 'not-related'\n",
    "            df_update.at[i, ['corresponds_to']] = f'{about}'\n",
    "            df_sample_update.at[i, ['corresponds_to']] = f'{about}'\n",
    "            \n",
    "        if reply == 'k':\n",
    "            print(f'article number {i} IS NOT related to the shooting, no other shooting mentioned')\n",
    "            df_update.at[i, ['verified_article']] = 'not-related'\n",
    "            df_sample_update.at[i, ['verified_article']] = 'not-related'\n",
    "            \n",
    "    return df_update, df_sample_update"
   ]
  },
  {
   "cell_type": "code",
   "execution_count": null,
   "id": "1a822786-c105-46be-8210-146cf46c8def",
   "metadata": {},
   "outputs": [],
   "source": [
    "def initial_check(df, shooting_name, all_info):\n",
    "\n",
    "    for ids, row in df.iterrows():\n",
    "        print(row[0], row.url)\n",
    "        text = row.text\n",
    "\n",
    "        cntr = 0\n",
    "\n",
    "        for word in shooting_info:\n",
    "            if word in text:\n",
    "                cntr += 1\n",
    "#                 check_event.append(word)\n",
    "                print(word)\n",
    "\n",
    "        for event in all_info:\n",
    "            if event in text:\n",
    "                print(event)\n",
    "#                 check_all.append(event)\n",
    "\n",
    "        if cntr == 0:\n",
    "            print('unrelated')\n",
    "        \n",
    "        print('------------------')\n"
   ]
  },
  {
   "cell_type": "markdown",
   "id": "5289a97c-8019-4571-a661-9782e2c7e427",
   "metadata": {},
   "source": [
    "# San Bernardino Shooting"
   ]
  },
  {
   "cell_type": "code",
   "execution_count": null,
   "id": "d01f86cb-8a05-448a-a4c6-53c65961ec9e",
   "metadata": {},
   "outputs": [],
   "source": [
    "path_SB_1 = path + 'v2-SanBernadino_Text-first-month.csv'\n",
    "path_SB_2 = path + 'v2-SanBernadino_Text-second-month.csv'\n",
    "path_SB_3 = path + 'v2-SanBernadino_Text-third-month.csv'\n",
    "\n",
    "SB_fm = pd.read_csv(path_SB_1, index_col=False)\n",
    "SB_sm = pd.read_csv(path_SB_2, index_col=False)\n",
    "SB_tm = pd.read_csv(path_SB_3, index_col=False)\n",
    "\n",
    "shooting_info = ['syed','rizwan','farook','tashfeen','malik','SUV',\"inland regional center\",\n",
    "                                     \"san bernardino\",\"redlands\",\"christmas party\",\"public health department\",\"bomb\",\n",
    "                                     '14 people','14 injured','14 lives','fourteen people','multiple shooters','gunmen',\n",
    "                                     '14 dead','14 victims','developmental disabilities','disabled','17 injured',\n",
    "                                     'san bernadino','public facility','sheriff deputy','muslim','islamic', 'san-bernadino', 'shooting', 'dead', 'death', 'victim', 'victims']"
   ]
  },
  {
   "cell_type": "markdown",
   "id": "b7b669f2-6c40-4e22-bb2c-13ee6ee1f826",
   "metadata": {},
   "source": [
    "## First Month"
   ]
  },
  {
   "cell_type": "code",
   "execution_count": null,
   "id": "04063b22-84d6-45d8-a964-f4c7548b7d93",
   "metadata": {},
   "outputs": [],
   "source": [
    "SB_fm, SB_fm_sample = addCol_takeSample(SB_fm)\n",
    "SB_fm_sample[['text', 'publish_date']]"
   ]
  },
  {
   "cell_type": "code",
   "execution_count": null,
   "id": "61d134cf-cefc-43a4-b8d2-b4d6df10491c",
   "metadata": {},
   "outputs": [],
   "source": [
    "# initial_check(SB_fm_sample, shooting_info , all_info)"
   ]
  },
  {
   "cell_type": "code",
   "execution_count": null,
   "id": "4b421fe9-7b4a-4027-92f4-a3d13d172017",
   "metadata": {},
   "outputs": [],
   "source": [
    "# v3_SB_first_month, verified_SB_first_month_sample = update_labels(SB_fm, SB_fm_sample)"
   ]
  },
  {
   "cell_type": "code",
   "execution_count": null,
   "id": "eb6187bf-002d-4d6e-bc64-084332c85565",
   "metadata": {},
   "outputs": [],
   "source": [
    "# To create a new csv from by adding two new columns and update their values\n",
    "# v3_SB_first_month.to_csv('v3_San_Bernardino_Text_first_month.csv', sep=',', encoding='utf-8', index=False) \n",
    "\n",
    "\n",
    "#To create a sampled csv from the validated data points.\n",
    "# verified_SB_first_month_sample.to_csv('v3_gs_San_Bernardino__first_month.csv', sep=',', encoding='utf-8', index=False)"
   ]
  }
 ],
 "metadata": {
  "kernelspec": {
   "display_name": "Python 3",
   "language": "python",
   "name": "python3"
  },
  "language_info": {
   "codemirror_mode": {
    "name": "ipython",
    "version": 3
   },
   "file_extension": ".py",
   "mimetype": "text/x-python",
   "name": "python",
   "nbconvert_exporter": "python",
   "pygments_lexer": "ipython3",
   "version": "3.8.8"
  }
 },
 "nbformat": 4,
 "nbformat_minor": 5
}
