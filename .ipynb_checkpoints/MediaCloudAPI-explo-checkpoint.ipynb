{
 "cells": [
  {
   "cell_type": "markdown",
   "metadata": {},
   "source": [
    "### Setup"
   ]
  },
  {
   "cell_type": "code",
   "execution_count": 1,
   "metadata": {},
   "outputs": [
    {
     "name": "stdout",
     "output_type": "stream",
     "text": [
      "Processing c:\\users\\khahn\\appdata\\local\\pip\\cache\\wheels\\82\\be\\a9\\db25790aa4bb5affb67f9450b1f8c52a1f498adf01637b7823\\mediacloud-3.12.3-py3-none-any.whl\n",
      "Collecting numpy==1.18.*\n",
      "  Using cached numpy-1.18.5-cp38-cp38-win_amd64.whl (12.8 MB)\n",
      "Requirement already satisfied: pandas==1.0.* in c:\\users\\khahn\\anaconda3\\lib\\site-packages (from -r requirements.txt (line 3)) (1.0.5)\n",
      "Processing c:\\users\\khahn\\appdata\\local\\pip\\cache\\wheels\\d5\\c1\\d7\\1409f68d9b4c0a3e648bf2926210e3a760322b3dccaff93e06\\bokeh-2.0.2-py3-none-any.whl\n",
      "Requirement already satisfied: matplotlib==3.2.* in c:\\users\\khahn\\anaconda3\\lib\\site-packages (from -r requirements.txt (line 5)) (3.2.2)\n",
      "Collecting python-dotenv==0.13.*\n",
      "  Using cached python_dotenv-0.13.0-py2.py3-none-any.whl (17 kB)\n",
      "Collecting gensim==3.5.*\n",
      "  Using cached gensim-3.5.0.tar.gz (22.9 MB)\n",
      "Collecting dateparser==0.7.*\n",
      "  Using cached dateparser-0.7.6-py2.py3-none-any.whl (362 kB)\n",
      "Requirement already satisfied: requests in c:\\users\\khahn\\anaconda3\\lib\\site-packages (from mediacloud==3.12.*->-r requirements.txt (line 1)) (2.25.1)\n",
      "Requirement already satisfied: pytz>=2017.2 in c:\\users\\khahn\\anaconda3\\lib\\site-packages (from pandas==1.0.*->-r requirements.txt (line 3)) (2020.1)\n",
      "Requirement already satisfied: python-dateutil>=2.6.1 in c:\\users\\khahn\\anaconda3\\lib\\site-packages (from pandas==1.0.*->-r requirements.txt (line 3)) (2.8.1)\n",
      "Requirement already satisfied: tornado>=5 in c:\\users\\khahn\\anaconda3\\lib\\site-packages (from bokeh==2.0.*->-r requirements.txt (line 4)) (6.0.4)\n",
      "Requirement already satisfied: typing-extensions>=3.7.4 in c:\\users\\khahn\\anaconda3\\lib\\site-packages (from bokeh==2.0.*->-r requirements.txt (line 4)) (3.7.4.2)\n",
      "Requirement already satisfied: pillow>=4.0 in c:\\users\\khahn\\anaconda3\\lib\\site-packages (from bokeh==2.0.*->-r requirements.txt (line 4)) (7.2.0)\n",
      "Requirement already satisfied: Jinja2>=2.7 in c:\\users\\khahn\\anaconda3\\lib\\site-packages (from bokeh==2.0.*->-r requirements.txt (line 4)) (2.11.2)\n",
      "Requirement already satisfied: PyYAML>=3.10 in c:\\users\\khahn\\anaconda3\\lib\\site-packages (from bokeh==2.0.*->-r requirements.txt (line 4)) (5.3.1)\n",
      "Requirement already satisfied: packaging>=16.8 in c:\\users\\khahn\\anaconda3\\lib\\site-packages (from bokeh==2.0.*->-r requirements.txt (line 4)) (20.4)\n",
      "Requirement already satisfied: kiwisolver>=1.0.1 in c:\\users\\khahn\\anaconda3\\lib\\site-packages (from matplotlib==3.2.*->-r requirements.txt (line 5)) (1.2.0)\n",
      "Requirement already satisfied: cycler>=0.10 in c:\\users\\khahn\\anaconda3\\lib\\site-packages (from matplotlib==3.2.*->-r requirements.txt (line 5)) (0.10.0)\n",
      "Requirement already satisfied: pyparsing!=2.0.4,!=2.1.2,!=2.1.6,>=2.0.1 in c:\\users\\khahn\\anaconda3\\lib\\site-packages (from matplotlib==3.2.*->-r requirements.txt (line 5)) (2.4.7)\n",
      "Requirement already satisfied: scipy>=0.18.1 in c:\\users\\khahn\\anaconda3\\lib\\site-packages (from gensim==3.5.*->-r requirements.txt (line 7)) (1.5.0)\n",
      "Requirement already satisfied: six>=1.5.0 in c:\\users\\khahn\\anaconda3\\lib\\site-packages (from gensim==3.5.*->-r requirements.txt (line 7)) (1.12.0)\n",
      "Collecting smart_open>=1.2.1\n",
      "  Using cached smart_open-5.1.0-py3-none-any.whl (57 kB)\n",
      "Requirement already satisfied: tzlocal in c:\\users\\khahn\\anaconda3\\lib\\site-packages (from dateparser==0.7.*->-r requirements.txt (line 8)) (1.5.1)\n",
      "Requirement already satisfied: regex!=2019.02.19 in c:\\users\\khahn\\anaconda3\\lib\\site-packages (from dateparser==0.7.*->-r requirements.txt (line 8)) (2020.6.8)\n",
      "Requirement already satisfied: idna<3,>=2.5 in c:\\users\\khahn\\anaconda3\\lib\\site-packages (from requests->mediacloud==3.12.*->-r requirements.txt (line 1)) (2.10)\n",
      "Requirement already satisfied: chardet<5,>=3.0.2 in c:\\users\\khahn\\anaconda3\\lib\\site-packages (from requests->mediacloud==3.12.*->-r requirements.txt (line 1)) (3.0.4)\n",
      "Requirement already satisfied: certifi>=2017.4.17 in c:\\users\\khahn\\anaconda3\\lib\\site-packages (from requests->mediacloud==3.12.*->-r requirements.txt (line 1)) (2020.12.5)\n",
      "Requirement already satisfied: urllib3<1.27,>=1.21.1 in c:\\users\\khahn\\anaconda3\\lib\\site-packages (from requests->mediacloud==3.12.*->-r requirements.txt (line 1)) (1.25.9)\n",
      "Requirement already satisfied: MarkupSafe>=0.23 in c:\\users\\khahn\\anaconda3\\lib\\site-packages (from Jinja2>=2.7->bokeh==2.0.*->-r requirements.txt (line 4)) (1.1.1)\n",
      "Building wheels for collected packages: gensim\n",
      "  Building wheel for gensim (setup.py): started\n",
      "  Building wheel for gensim (setup.py): finished with status 'done'\n",
      "  Created wheel for gensim: filename=gensim-3.5.0-cp38-cp38-win_amd64.whl size=23208860 sha256=47996ba88c2d49d5ede0873c762dd33cab806236070a39cf74ece08709c4a745\n",
      "  Stored in directory: c:\\users\\khahn\\appdata\\local\\pip\\cache\\wheels\\f5\\22\\2d\\bd6a60ceed1cbeb5e7eb7898e54acab40232515b66085176d5\n",
      "Successfully built gensim\n",
      "Installing collected packages: mediacloud, numpy, bokeh, python-dotenv, smart-open, gensim, dateparser\n",
      "  Attempting uninstall: numpy\n",
      "    Found existing installation: numpy 1.19.3\n",
      "    Uninstalling numpy-1.19.3:\n",
      "      Successfully uninstalled numpy-1.19.3\n",
      "  Attempting uninstall: bokeh\n",
      "    Found existing installation: bokeh 2.1.1\n",
      "    Uninstalling bokeh-2.1.1:\n",
      "      Successfully uninstalled bokeh-2.1.1\n",
      "  Attempting uninstall: python-dotenv\n",
      "    Found existing installation: python-dotenv 0.17.1\n",
      "    Uninstalling python-dotenv-0.17.1:\n",
      "      Successfully uninstalled python-dotenv-0.17.1\n",
      "Successfully installed bokeh-2.0.2 dateparser-0.7.6 gensim-3.5.0 mediacloud-3.12.3 numpy-1.18.5 python-dotenv-0.13.0 smart-open-5.1.0\n"
     ]
    },
    {
     "name": "stderr",
     "output_type": "stream",
     "text": [
      "ERROR: tensorflow 2.4.0 has requirement numpy~=1.19.2, but you'll have numpy 1.18.5 which is incompatible.\n",
      "ERROR: tensorflow 2.4.0 has requirement six~=1.15.0, but you'll have six 1.12.0 which is incompatible.\n"
     ]
    }
   ],
   "source": [
    "import sys\n",
    "# !{sys.executable} -m pip install -r requirements.txt\n",
    "# pip install python-dotenv"
   ]
  },
  {
   "cell_type": "code",
   "execution_count": 1,
   "metadata": {},
   "outputs": [
    {
     "data": {
      "text/plain": [
       "True"
      ]
     },
     "execution_count": 1,
     "metadata": {},
     "output_type": "execute_result"
    }
   ],
   "source": [
    "from dotenv import load_dotenv\n",
    "load_dotenv()  # load config from .env file"
   ]
  },
  {
   "cell_type": "code",
   "execution_count": 2,
   "metadata": {},
   "outputs": [
    {
     "data": {
      "text/plain": [
       "'3.12.3'"
      ]
     },
     "execution_count": 2,
     "metadata": {},
     "output_type": "execute_result"
    }
   ],
   "source": [
    "import os, mediacloud.api\n",
    "# Read your personal API key from that .env file \n",
    "my_mc_api_key = os.getenv('MC_API_KEY')\n",
    "# A convention we use is to name your api client `mc`\n",
    "mc = mediacloud.api.MediaCloud(my_mc_api_key)\n",
    "mediacloud.__version__"
   ]
  },
  {
   "cell_type": "code",
   "execution_count": 16,
   "metadata": {},
   "outputs": [],
   "source": [
    "import datetime\n",
    "import time"
   ]
  },
  {
   "cell_type": "code",
   "execution_count": 34,
   "metadata": {},
   "outputs": [
    {
     "ename": "MCException",
     "evalue": "('Error - got a HTTP status code of 502 with the message \"Bad Gateway\", body: {\"error\": \"Our SSL proxy returned:\\\\n\\\\n502 Bad Gateway\\\\n\\\\nPlease try again in a few minutes. If this issue persists, contact the tech team at system@mediacloud.org.\"}', 502)",
     "output_type": "error",
     "traceback": [
      "\u001b[1;31m---------------------------------------------------------------------------\u001b[0m",
      "\u001b[1;31mMCException\u001b[0m                               Traceback (most recent call last)",
      "\u001b[1;32m<ipython-input-34-4c2fa9ac0632>\u001b[0m in \u001b[0;36m<module>\u001b[1;34m\u001b[0m\n\u001b[0;32m      1\u001b[0m \u001b[0ma\u001b[0m \u001b[1;33m=\u001b[0m \u001b[0mtime\u001b[0m\u001b[1;33m.\u001b[0m\u001b[0mtime\u001b[0m\u001b[1;33m(\u001b[0m\u001b[1;33m)\u001b[0m\u001b[1;33m\u001b[0m\u001b[1;33m\u001b[0m\u001b[0m\n\u001b[0;32m      2\u001b[0m \u001b[1;31m# make sure your connection and API key work by asking for the high-level system statistics\u001b[0m\u001b[1;33m\u001b[0m\u001b[1;33m\u001b[0m\u001b[1;33m\u001b[0m\u001b[0m\n\u001b[1;32m----> 3\u001b[1;33m \u001b[0mmc\u001b[0m\u001b[1;33m.\u001b[0m\u001b[0mstats\u001b[0m\u001b[1;33m(\u001b[0m\u001b[1;33m)\u001b[0m\u001b[1;33m\u001b[0m\u001b[1;33m\u001b[0m\u001b[0m\n\u001b[0m\u001b[0;32m      4\u001b[0m \u001b[0mb\u001b[0m\u001b[1;33m=\u001b[0m\u001b[0mtime\u001b[0m\u001b[1;33m.\u001b[0m\u001b[0mtime\u001b[0m\u001b[1;33m(\u001b[0m\u001b[1;33m)\u001b[0m\u001b[1;33m\u001b[0m\u001b[1;33m\u001b[0m\u001b[0m\n\u001b[0;32m      5\u001b[0m \u001b[0mprint\u001b[0m\u001b[1;33m(\u001b[0m\u001b[0mb\u001b[0m\u001b[1;33m-\u001b[0m\u001b[0ma\u001b[0m\u001b[1;33m)\u001b[0m\u001b[1;33m\u001b[0m\u001b[1;33m\u001b[0m\u001b[0m\n",
      "\u001b[1;32m~\\anaconda3\\lib\\site-packages\\mediacloud\\api.py\u001b[0m in \u001b[0;36mstats\u001b[1;34m(self)\u001b[0m\n\u001b[0;32m    133\u001b[0m     \u001b[1;32mdef\u001b[0m \u001b[0mstats\u001b[0m\u001b[1;33m(\u001b[0m\u001b[0mself\u001b[0m\u001b[1;33m)\u001b[0m\u001b[1;33m:\u001b[0m\u001b[1;33m\u001b[0m\u001b[1;33m\u001b[0m\u001b[0m\n\u001b[0;32m    134\u001b[0m         \u001b[1;31m# High-level stats about the system\u001b[0m\u001b[1;33m\u001b[0m\u001b[1;33m\u001b[0m\u001b[1;33m\u001b[0m\u001b[0m\n\u001b[1;32m--> 135\u001b[1;33m         \u001b[1;32mreturn\u001b[0m \u001b[0mself\u001b[0m\u001b[1;33m.\u001b[0m\u001b[0m_queryForJson\u001b[0m\u001b[1;33m(\u001b[0m\u001b[0mself\u001b[0m\u001b[1;33m.\u001b[0m\u001b[0mV2_API_URL\u001b[0m\u001b[1;33m+\u001b[0m\u001b[1;34m'stats/list'\u001b[0m\u001b[1;33m)\u001b[0m\u001b[1;33m\u001b[0m\u001b[1;33m\u001b[0m\u001b[0m\n\u001b[0m\u001b[0;32m    136\u001b[0m \u001b[1;33m\u001b[0m\u001b[0m\n\u001b[0;32m    137\u001b[0m     \u001b[1;32mdef\u001b[0m \u001b[0mmedia\u001b[0m\u001b[1;33m(\u001b[0m\u001b[0mself\u001b[0m\u001b[1;33m,\u001b[0m \u001b[0mmedia_id\u001b[0m\u001b[1;33m)\u001b[0m\u001b[1;33m:\u001b[0m\u001b[1;33m\u001b[0m\u001b[1;33m\u001b[0m\u001b[0m\n",
      "\u001b[1;32m~\\anaconda3\\lib\\site-packages\\mediacloud\\api.py\u001b[0m in \u001b[0;36m_queryForJson\u001b[1;34m(self, url, params, http_method, json_data)\u001b[0m\n\u001b[0;32m    394\u001b[0m     \u001b[1;32mdef\u001b[0m \u001b[0m_queryForJson\u001b[0m\u001b[1;33m(\u001b[0m\u001b[0mself\u001b[0m\u001b[1;33m,\u001b[0m \u001b[0murl\u001b[0m\u001b[1;33m,\u001b[0m \u001b[0mparams\u001b[0m\u001b[1;33m=\u001b[0m\u001b[1;32mNone\u001b[0m\u001b[1;33m,\u001b[0m \u001b[0mhttp_method\u001b[0m\u001b[1;33m=\u001b[0m\u001b[1;34m'GET'\u001b[0m\u001b[1;33m,\u001b[0m \u001b[0mjson_data\u001b[0m\u001b[1;33m=\u001b[0m\u001b[1;32mNone\u001b[0m\u001b[1;33m)\u001b[0m\u001b[1;33m:\u001b[0m\u001b[1;33m\u001b[0m\u001b[1;33m\u001b[0m\u001b[0m\n\u001b[0;32m    395\u001b[0m         \u001b[1;31m# Helper that returns queries to the API as real objects\u001b[0m\u001b[1;33m\u001b[0m\u001b[1;33m\u001b[0m\u001b[1;33m\u001b[0m\u001b[0m\n\u001b[1;32m--> 396\u001b[1;33m         \u001b[0mresponse\u001b[0m \u001b[1;33m=\u001b[0m \u001b[0mself\u001b[0m\u001b[1;33m.\u001b[0m\u001b[0m_query\u001b[0m\u001b[1;33m(\u001b[0m\u001b[0murl\u001b[0m\u001b[1;33m,\u001b[0m \u001b[0mparams\u001b[0m\u001b[1;33m,\u001b[0m \u001b[0mhttp_method\u001b[0m\u001b[1;33m,\u001b[0m \u001b[0mjson_data\u001b[0m\u001b[1;33m)\u001b[0m\u001b[1;33m\u001b[0m\u001b[1;33m\u001b[0m\u001b[0m\n\u001b[0m\u001b[0;32m    397\u001b[0m         \u001b[1;31m# print response.content\u001b[0m\u001b[1;33m\u001b[0m\u001b[1;33m\u001b[0m\u001b[1;33m\u001b[0m\u001b[0m\n\u001b[0;32m    398\u001b[0m         \u001b[0mresponse_json\u001b[0m \u001b[1;33m=\u001b[0m \u001b[0mresponse\u001b[0m\u001b[1;33m.\u001b[0m\u001b[0mjson\u001b[0m\u001b[1;33m(\u001b[0m\u001b[1;33m)\u001b[0m\u001b[1;33m\u001b[0m\u001b[1;33m\u001b[0m\u001b[0m\n",
      "\u001b[1;32m~\\anaconda3\\lib\\site-packages\\mediacloud\\api.py\u001b[0m in \u001b[0;36m_query\u001b[1;34m(self, url, params, http_method, json_data)\u001b[0m\n\u001b[0;32m    484\u001b[0m             msg = u'Error - got a HTTP status code of {} with the message \"{}\", body: {}'.format(r.status_code,\n\u001b[0;32m    485\u001b[0m                                                                                                  r.reason, r.text)\n\u001b[1;32m--> 486\u001b[1;33m             \u001b[1;32mraise\u001b[0m \u001b[0mmediacloud\u001b[0m\u001b[1;33m.\u001b[0m\u001b[0merror\u001b[0m\u001b[1;33m.\u001b[0m\u001b[0mMCException\u001b[0m\u001b[1;33m(\u001b[0m\u001b[0mmsg\u001b[0m\u001b[1;33m,\u001b[0m \u001b[0mr\u001b[0m\u001b[1;33m.\u001b[0m\u001b[0mstatus_code\u001b[0m\u001b[1;33m)\u001b[0m\u001b[1;33m\u001b[0m\u001b[1;33m\u001b[0m\u001b[0m\n\u001b[0m\u001b[0;32m    487\u001b[0m         \u001b[1;32mreturn\u001b[0m \u001b[0mr\u001b[0m\u001b[1;33m\u001b[0m\u001b[1;33m\u001b[0m\u001b[0m\n\u001b[0;32m    488\u001b[0m \u001b[1;33m\u001b[0m\u001b[0m\n",
      "\u001b[1;31mMCException\u001b[0m: ('Error - got a HTTP status code of 502 with the message \"Bad Gateway\", body: {\"error\": \"Our SSL proxy returned:\\\\n\\\\n502 Bad Gateway\\\\n\\\\nPlease try again in a few minutes. If this issue persists, contact the tech team at system@mediacloud.org.\"}', 502)"
     ]
    }
   ],
   "source": [
    "a = time.time()\n",
    "# make sure your connection and API key work by asking for the high-level system statistics\n",
    "mc.stats()\n",
    "b=time.time()\n",
    "print(b-a)"
   ]
  },
  {
   "cell_type": "code",
   "execution_count": 18,
   "metadata": {},
   "outputs": [
    {
     "data": {
      "application/json": {
       "active_crawled_feeds": 169870,
       "active_crawled_media": 59363,
       "daily_downloads": 1171377,
       "daily_stories": 717985,
       "mediacloud_stats_id": 706,
       "stats_date": "2021-06-06",
       "total_downloads": 0,
       "total_sentences": 0,
       "total_stories": 1869118976
      },
      "text/plain": [
       "<IPython.core.display.JSON object>"
      ]
     },
     "execution_count": 18,
     "metadata": {
      "application/json": {
       "expanded": false,
       "root": "root"
      }
     },
     "output_type": "execute_result"
    }
   ],
   "source": [
    "# or print it out as a nice json tree - we'll use this later (only works in Jupyter Lab)\n",
    "from IPython.display import JSON\n",
    "JSON(mc.stats())"
   ]
  },
  {
   "cell_type": "markdown",
   "metadata": {},
   "source": [
    "### Exploring Media Cloud queries"
   ]
  },
  {
   "cell_type": "code",
   "execution_count": 25,
   "metadata": {},
   "outputs": [
    {
     "name": "stdout",
     "output_type": "stream",
     "text": [
      "1.000847339630127\n"
     ]
    }
   ],
   "source": [
    "a = time.time()\n",
    "# checks for mentions of 'las vegas shooting' in the US National media sources\n",
    "us_query = '\"las vegas shooting\" and tags_id_media:34412234'\n",
    "# date syntax is ugly, so we use datetime to make it more user friendly\n",
    "import datetime\n",
    "start_date = datetime.date(2017,10,1)\n",
    "end_date = datetime.date(2017,11,1)\n",
    "date_range = mc.dates_as_query_clause(start_date, end_date) # default is start & end inclusive\n",
    "mc.storyCount(us_query, date_range)\n",
    "b=time.time()\n",
    "print(b-a)"
   ]
  },
  {
   "cell_type": "code",
   "execution_count": 26,
   "metadata": {},
   "outputs": [
    {
     "data": {
      "text/plain": [
       "'1.19% of stories from national-level US media sources between October 1st 2017 and Jan1st 2018 mentioned \"las vegas shooting\"'"
      ]
     },
     "execution_count": 26,
     "metadata": {},
     "output_type": "execute_result"
    }
   ],
   "source": [
    "# normalize this attention \n",
    "relevant_stories = mc.storyCount(us_query, date_range)\n",
    "total_stories = mc.storyCount('tags_id_media:34412234', date_range)\n",
    "us_country_ratio = relevant_stories['count'] / total_stories['count']\n",
    "'{:.2%} of stories from national-level US media sources between October 1st 2017 and Jan1st 2018 mentioned \"las vegas shooting\"'.format(us_country_ratio)"
   ]
  },
  {
   "cell_type": "code",
   "execution_count": 27,
   "metadata": {},
   "outputs": [],
   "source": [
    "def all_matching_stories(mc_client, q, fq):\n",
    "    \"\"\"\n",
    "    Return all the stories matching a query within Media Cloud. Page through the results automatically.\n",
    "    :param mc_client: a `mediacloud.api.MediaCloud` object instantiated with your API key already\n",
    "    :param q: your boolean query\n",
    "    :param fq: your date range query\n",
    "    :return: a list of media cloud story items\n",
    "    \"\"\"\n",
    "    last_id = 0\n",
    "    more_stories = True\n",
    "    stories = []\n",
    "    while more_stories:\n",
    "        page = mc_client.storyList(q, fq, last_processed_stories_id=last_id, rows=500, sort='processed_stories_id')\n",
    "        print(\"  got one page with {} stories\".format(len(page)))\n",
    "        if len(page) == 0:\n",
    "            more_stories = False\n",
    "        else:\n",
    "            stories += page\n",
    "            last_id = page[-1]['processed_stories_id']\n",
    "    return stories"
   ]
  },
  {
   "cell_type": "code",
   "execution_count": 28,
   "metadata": {},
   "outputs": [
    {
     "name": "stdout",
     "output_type": "stream",
     "text": [
      "  got one page with 496 stories\n",
      "  got one page with 498 stories\n",
      "  got one page with 498 stories\n",
      "  got one page with 498 stories\n",
      "  got one page with 499 stories\n",
      "  got one page with 480 stories\n",
      "  got one page with 483 stories\n",
      "  got one page with 207 stories\n",
      "  got one page with 0 stories\n",
      "Takes 56.440823793411255 seconds to run\n"
     ]
    }
   ],
   "source": [
    "# let's fetch all the stories matching our query (this can take a few minutes)\n",
    "a= time.time()\n",
    "all_stories = all_matching_stories(mc, us_query, date_range)\n",
    "len(all_stories)\n",
    "b =time.time()\n",
    "print(f'Takes {b-a} seconds to run')"
   ]
  },
  {
   "cell_type": "code",
   "execution_count": 30,
   "metadata": {},
   "outputs": [],
   "source": [
    "# first flatten things a little bit to make writing a CSV easier\n",
    "import mediacloud.tags\n",
    "for s in all_stories:\n",
    "    # see the \"language\" notebook for more details on themes\n",
    "    theme_tag_names = ','.join([t['tag'] for t in s['story_tags'] if t['tag_sets_id'] == mediacloud.tags.TAG_SET_NYT_THEMES])\n",
    "    s['themes'] = theme_tag_names\n",
    "# now write the CSV\n",
    "import csv\n",
    "fieldnames = ['stories_id', 'publish_date', 'title', 'url', 'language', 'ap_syndicated', 'themes', 'media_id', 'media_name', 'media_url']\n",
    "with open('story-list.csv', 'w', newline='',encoding=\"utf-8\") as csvfile:\n",
    "    writer = csv.DictWriter(csvfile, fieldnames=fieldnames, extrasaction='ignore')\n",
    "    writer.writeheader()\n",
    "    for s in all_stories:\n",
    "        writer.writerow(s)"
   ]
  },
  {
   "cell_type": "code",
   "execution_count": 33,
   "metadata": {},
   "outputs": [
    {
     "name": "stdout",
     "output_type": "stream",
     "text": [
      "vegas_first_month\n"
     ]
    }
   ],
   "source": [
    "shooting_name = 'vegas'\n",
    "month= shooting_name+'_first_month'\n",
    "print(month)"
   ]
  },
  {
   "cell_type": "code",
   "execution_count": null,
   "metadata": {},
   "outputs": [],
   "source": []
  }
 ],
 "metadata": {
  "kernelspec": {
   "display_name": ".env",
   "language": "python",
   "name": ".env"
  },
  "language_info": {
   "codemirror_mode": {
    "name": "ipython",
    "version": 3
   },
   "file_extension": ".py",
   "mimetype": "text/x-python",
   "name": "python",
   "nbconvert_exporter": "python",
   "pygments_lexer": "ipython3",
   "version": "3.8.3"
  }
 },
 "nbformat": 4,
 "nbformat_minor": 4
}
