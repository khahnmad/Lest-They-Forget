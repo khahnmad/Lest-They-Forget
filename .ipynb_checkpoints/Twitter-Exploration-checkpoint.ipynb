{
 "cells": [
  {
   "cell_type": "markdown",
   "metadata": {},
   "source": [
    "### Twitter Extraction Explo"
   ]
  },
  {
   "cell_type": "code",
   "execution_count": 1,
   "metadata": {},
   "outputs": [],
   "source": [
    "# Get Tweets from http://www.tweetcongress.org/\n",
    "# NOTE: This does not work, but i have no idea why\n",
    "# tweets_base = 'http://www.tweetcongress.org/about'\n",
    "\n",
    "# soup = bs(urlopen(tweets_base), 'html.parser')\n",
    "# soup.find_all('title')\n",
    "# soup\n",
    "# # # # print(soup.find('body', {'class': 'tweets'}))\n",
    "# print(soup.title)\n",
    "# print(soup.get_text())"
   ]
  },
  {
   "cell_type": "code",
   "execution_count": 9,
   "metadata": {},
   "outputs": [],
   "source": [
    "# Got the following code from: https://medium.com/swlh/twitter-sentiment-analysis-and-visualization-using-naive-bayes-analyzer-ce4dfc11f38c\n",
    "import tweepy \n",
    "from textblob import TextBlob\n",
    "from textblob.sentiments import NaiveBayesAnalyzer\n",
    "import pandas as pd"
   ]
  },
  {
   "cell_type": "code",
   "execution_count": 3,
   "metadata": {},
   "outputs": [
    {
     "name": "stderr",
     "output_type": "stream",
     "text": [
      "[nltk_data] Downloading package movie_reviews to\n",
      "[nltk_data]     C:\\Users\\khahn\\AppData\\Roaming\\nltk_data...\n",
      "[nltk_data]   Package movie_reviews is already up-to-date!\n"
     ]
    },
    {
     "data": {
      "text/plain": [
       "True"
      ]
     },
     "execution_count": 3,
     "metadata": {},
     "output_type": "execute_result"
    }
   ],
   "source": [
    "import nltk\n",
    "nltk.download('movie_reviews')"
   ]
  },
  {
   "cell_type": "code",
   "execution_count": 4,
   "metadata": {},
   "outputs": [],
   "source": [
    "access_token = '1229869491816947712-06s8Bhl5g4BswU1ipRnuGwvACXmV8d'\n",
    "access_token_secret = '5UCMS45isR72HkvtWwGIavzDKEDAYkvQ7J5RLQ0Nuiz2t'\n",
    "\n",
    "API_key = 'mgdRXpqXmGSXyQaKoHUxILK0Q'\n",
    "API_secret_key = '72fqZsnNP9CKlKjTODAocSoULIeqGWvhSSCXWdG7BtgGC0mn4I'\n",
    "bearer_token = 'AAAAAAAAAAAAAAAAAAAAAE5jPgEAAAAA2bs6CGbScuS4nGwATVyeJpLpoCA%3DcIZ9RNDgx24bMZnuARpi1FXMWO3RccRNXZxN2dQDZ7rd55OfJN'"
   ]
  },
  {
   "cell_type": "code",
   "execution_count": 5,
   "metadata": {},
   "outputs": [],
   "source": [
    "auth = tweepy.OAuthHandler(API_key, API_secret_key)\n",
    "auth.set_access_token(access_token, access_token_secret)"
   ]
  },
  {
   "cell_type": "code",
   "execution_count": 6,
   "metadata": {},
   "outputs": [],
   "source": [
    "api = tweepy.API(auth)"
   ]
  },
  {
   "cell_type": "code",
   "execution_count": 7,
   "metadata": {},
   "outputs": [],
   "source": [
    "query = 'SenCortezMasto'\n",
    "max_tweets = 15\n",
    "\n",
    "public_tweets = tweepy.Cursor(api.search, q=query).items(max_tweets)\n",
    "tweet_sentiment, tweet_text = [],[]\n",
    "\n",
    "for tweet in public_tweets:\n",
    "#     print('Text:',tweet.text)\n",
    "    tweet_text.append(tweet.text)\n",
    "    analysis = TextBlob(tweet.text, analyzer=NaiveBayesAnalyzer())\n",
    "#     print('Sentiment:',analysis.sentiment)\n",
    "    tweet_sentiment.append(analysis.sentiment.classification)"
   ]
  },
  {
   "cell_type": "code",
   "execution_count": 10,
   "metadata": {},
   "outputs": [
    {
     "data": {
      "text/html": [
       "<div>\n",
       "<style scoped>\n",
       "    .dataframe tbody tr th:only-of-type {\n",
       "        vertical-align: middle;\n",
       "    }\n",
       "\n",
       "    .dataframe tbody tr th {\n",
       "        vertical-align: top;\n",
       "    }\n",
       "\n",
       "    .dataframe thead th {\n",
       "        text-align: right;\n",
       "    }\n",
       "</style>\n",
       "<table border=\"1\" class=\"dataframe\">\n",
       "  <thead>\n",
       "    <tr style=\"text-align: right;\">\n",
       "      <th></th>\n",
       "      <th>tweet</th>\n",
       "      <th>sentiment</th>\n",
       "    </tr>\n",
       "  </thead>\n",
       "  <tbody>\n",
       "    <tr>\n",
       "      <th>0</th>\n",
       "      <td>@marceelias @SenateDems @SenCortezMasto @SenSc...</td>\n",
       "      <td>pos</td>\n",
       "    </tr>\n",
       "    <tr>\n",
       "      <th>1</th>\n",
       "      <td>@SenCortezMasto @SecFudge HELP</td>\n",
       "      <td>pos</td>\n",
       "    </tr>\n",
       "    <tr>\n",
       "      <th>2</th>\n",
       "      <td>RT @SenCortezMasto: Nevadans need affordable h...</td>\n",
       "      <td>pos</td>\n",
       "    </tr>\n",
       "    <tr>\n",
       "      <th>3</th>\n",
       "      <td>@SenCortezMasto Today is 20 May 2021 -  presid...</td>\n",
       "      <td>pos</td>\n",
       "    </tr>\n",
       "    <tr>\n",
       "      <th>4</th>\n",
       "      <td>RT @SenCortezMasto: Nevadans need affordable h...</td>\n",
       "      <td>pos</td>\n",
       "    </tr>\n",
       "  </tbody>\n",
       "</table>\n",
       "</div>"
      ],
      "text/plain": [
       "                                               tweet sentiment\n",
       "0  @marceelias @SenateDems @SenCortezMasto @SenSc...       pos\n",
       "1                     @SenCortezMasto @SecFudge HELP       pos\n",
       "2  RT @SenCortezMasto: Nevadans need affordable h...       pos\n",
       "3  @SenCortezMasto Today is 20 May 2021 -  presid...       pos\n",
       "4  RT @SenCortezMasto: Nevadans need affordable h...       pos"
      ]
     },
     "execution_count": 10,
     "metadata": {},
     "output_type": "execute_result"
    }
   ],
   "source": [
    "data = {'tweet': tweet_text, 'sentiment':tweet_sentiment}\n",
    "data = pd.DataFrame(data)\n",
    "data.head()"
   ]
  },
  {
   "cell_type": "code",
   "execution_count": null,
   "metadata": {},
   "outputs": [],
   "source": []
  }
 ],
 "metadata": {
  "kernelspec": {
   "display_name": "Python 3",
   "language": "python",
   "name": "python3"
  },
  "language_info": {
   "codemirror_mode": {
    "name": "ipython",
    "version": 3
   },
   "file_extension": ".py",
   "mimetype": "text/x-python",
   "name": "python",
   "nbconvert_exporter": "python",
   "pygments_lexer": "ipython3",
   "version": "3.8.3"
  }
 },
 "nbformat": 4,
 "nbformat_minor": 4
}
