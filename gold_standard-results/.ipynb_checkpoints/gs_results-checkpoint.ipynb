{
 "cells": [
  {
   "cell_type": "code",
   "execution_count": 2,
   "id": "9d20e358-3f96-41e1-a017-1056d6b3a345",
   "metadata": {},
   "outputs": [],
   "source": [
    "import pandas as pd\n",
    "import numpy as np\n",
    "import random\n",
    "import copy\n",
    "import webbrowser\n",
    "\n",
    "random.seed(33)\n",
    "pd.set_option('display.max_rows', None) \n",
    "path='../newspaper-text/'\n",
    "\n",
    "all_info = ['Plano', \"spencer hight\", \"dallas cowboys\", 'meredith hight', \"dallas\", \"plano\", \"sunday\", \"caleb edwards\", \"deffner\", \"rushin\", 'texas', 'spencer','hight',\n",
    "                 'Pittsburgh', \"pittsburgh\",\"synagogue\",\"bowers\",\"tree of life\",\"squirrel hill\",\"jewish\",\"anti-semitism\",\"jews\",'bowers',\n",
    "                 'Vegas', 'paddock', \"mandalay bay hotel\", \"route 91 harvest\", \"las vegas\", \"aldean\", \"concert\", \"mesquite\", \"hotel\", \"lombardo\",\n",
    "                 'SanBernadino', 'syed','rizwan','farook','tashfeen','malik','SUV',\"inland regional center\",\"san bernardino\",\"redlands\",\"christmas party\",\"public health department\",\"bomb\", 'pakistani',\n",
    "                 'Houston', 'david', 'conley', ' ray', 'harris county' ,'ex-girlfriend' ,'houston', 'saturday', 'valerie jackson', 'window', 'black', 'arrested',\n",
    "                 'Odessa', 'saturday','midland','odessa','seth','aaron',' ator ','west texas','traffic stop','white van','movie theater','random','white',\n",
    "                 'Bogue', 'willie',' cory ','godbolt','arrested','lincoln county','bogue chitto','brookhaven','barbara mitchell', 'bogue', 'chitto',\n",
    "                 'DC', 'washington navy yard','aaron alexis','monday','contractor','12 people', 'aaron', 'alexis',\n",
    "                 'Boulder', 'king soopers','boulder','ahmad','aliwi','alissa', 'al-issa','arrested','9mm handgun','table mesa drive','eric talley','boulder police','monday','in custody', 'syrian',\n",
    "                 'VirginiaBeach', 'virginia beach','dewayne','craddock','employee','nettleton','.45-caliber','engineer','municipal'\n",
    "                ]\n"
   ]
  },
  {
   "cell_type": "code",
   "execution_count": 3,
   "id": "3299b721-3b65-4da5-9a4a-2bb9a4df15a3",
   "metadata": {},
   "outputs": [],
   "source": [
    "def addCol_takeSample(df):\n",
    "    '''\n",
    "    parameter: DataFrame\n",
    "    Returns: Two dataframes:\n",
    "                        - with two additional columns, verified_article: if not Nan, it belongs to the gold standard subset.\n",
    "                                                       Corresponds_to: if not Nan, the article corresponds to another shooting.\n",
    "                        - It takes 2% of the articles as sample to be be verified.\n",
    "    '''\n",
    "    df['verified_article'] = np.nan\n",
    "    df['corresponds_to'] = np.nan\n",
    "    \n",
    "    sample = df.sample(frac=0.02, random_state=33)\n",
    "    return df, sample\n",
    "\n",
    "\n",
    "def update_labels(df, df_sample):\n",
    "    '''\n",
    "    parameters: A dataframe, and its subset.\n",
    "    Returns: Updates the state of the 'verified_article' and 'corresponds_to' columns\n",
    "    '''\n",
    "    df_update = copy.deepcopy(df)\n",
    "    df_sample_update = copy.deepcopy(df_sample)\n",
    "    \n",
    "    for i, row in df_sample.iterrows():\n",
    "        \n",
    "        print(row.url)\n",
    "        webbrowser.open(row.url)\n",
    "        \n",
    "        print('open text here?')\n",
    "        op = input()\n",
    "        \n",
    "        if op == 'o':\n",
    "            print(row.text)\n",
    "        \n",
    "        reply = input()\n",
    "        \n",
    "        if reply == 'j': \n",
    "            print(f'article number {i} IS related to this shooting.' )\n",
    "            df_update.at[i, ['verified_article']] = 'related'\n",
    "            df_sample_update.at[i, ['verified_article']] = 'related'\n",
    "            \n",
    "            also_related = input()\n",
    "            if also_related == 'aj':\n",
    "                about = input()\n",
    "                print(f'article number {i} is about the shooting : {about}')\n",
    "                df_update.at[i, ['corresponds_to']] = f'{about}'\n",
    "                df_sample_update.at[i, ['corresponds_to']] = f'{about}'\n",
    "            \n",
    "                \n",
    "        if reply == 'm':\n",
    "            print(f'article number {i} IS NOT related to the shooting.')\n",
    "            \n",
    "            about = input()\n",
    "            print(f'article number {i} IS about the shooting : {about}')\n",
    "            df_update.at[i, ['verified_article']] = 'not-related'\n",
    "            df_sample_update.at[i, ['verified_article']] = 'not-related'\n",
    "            df_update.at[i, ['corresponds_to']] = f'{about}'\n",
    "            df_sample_update.at[i, ['corresponds_to']] = f'{about}'\n",
    "            \n",
    "        if reply == 'k':\n",
    "            print(f'article number {i} IS NOT related to the shooting, no other shooting mentioned')\n",
    "            df_update.at[i, ['verified_article']] = 'not-related'\n",
    "            df_sample_update.at[i, ['verified_article']] = 'not-related'\n",
    "            \n",
    "    return df_update, df_sample_update"
   ]
  },
  {
   "cell_type": "code",
   "execution_count": 4,
   "id": "1a822786-c105-46be-8210-146cf46c8def",
   "metadata": {},
   "outputs": [],
   "source": [
    "def initial_check(df, shooting_name, all_info):\n",
    "\n",
    "    for ids, row in df.iterrows():\n",
    "        print(row[0], row.url)\n",
    "        text = row.text\n",
    "\n",
    "        cntr = 0\n",
    "\n",
    "        for word in shooting_info:\n",
    "            if word in text:\n",
    "                cntr += 1\n",
    "#                 check_event.append(word)\n",
    "                print(word)\n",
    "\n",
    "        for event in all_info:\n",
    "            if event in text:\n",
    "                print(event)\n",
    "#                 check_all.append(event)\n",
    "\n",
    "        if cntr == 0:\n",
    "            print('unrelated')\n",
    "        \n",
    "        print('------------------')\n",
    "\n",
    "#     return check_all, check_event\n"
   ]
  },
  {
   "cell_type": "markdown",
   "id": "5289a97c-8019-4571-a661-9782e2c7e427",
   "metadata": {},
   "source": [
    "# Las Vegas Shooting"
   ]
  },
  {
   "cell_type": "code",
   "execution_count": null,
   "id": "d01f86cb-8a05-448a-a4c6-53c65961ec9e",
   "metadata": {},
   "outputs": [],
   "source": [
    "path_vegas_1 = path + 'v2-Plano_Text-first-month.csv'\n",
    "path_vegas_2 = path + 'v2-Plano_Text-second-month.csv'\n",
    "path_vegas_3 = path + 'v2-Plano_Text-third-month.csv'\n",
    "\n",
    "vegas_fm = pd.read_csv(path_vegas_1, index_col=False)\n",
    "vegas_sm = pd.read_csv(path_vegas_2, index_col=False)\n",
    "vegas_tm = pd.read_csv(path_vegas_3, index_col=False)\n",
    "\n",
    "shooting_info = ['Vegas', \"paddock\", \"mandalay bay hotel\", \"route 91 harvest\", \"las vegas\", \"aldean\", \"concert\", \"mesquite\", \"hotel\", \"lombardo\"]"
   ]
  },
  {
   "cell_type": "markdown",
   "id": "b7b669f2-6c40-4e22-bb2c-13ee6ee1f826",
   "metadata": {},
   "source": [
    "## First Month"
   ]
  },
  {
   "cell_type": "code",
   "execution_count": null,
   "id": "04063b22-84d6-45d8-a964-f4c7548b7d93",
   "metadata": {},
   "outputs": [],
   "source": [
    "vegas_fm, vegas_fm_sample = addCol_takeSample(vegas_fm)\n",
    "vegas_fm_sample[['text', 'publish_date']]"
   ]
  },
  {
   "cell_type": "code",
   "execution_count": null,
   "id": "61d134cf-cefc-43a4-b8d2-b4d6df10491c",
   "metadata": {},
   "outputs": [],
   "source": [
    "# initial_check(vegas_fm_sample, shooting_info , all_info)"
   ]
  },
  {
   "cell_type": "code",
   "execution_count": null,
   "id": "4b421fe9-7b4a-4027-92f4-a3d13d172017",
   "metadata": {},
   "outputs": [],
   "source": [
    "# v3_vegas_first_month, verified_vegas_first_month_sample = update_labels(vegas_fm, vegas_fm_sample)"
   ]
  },
  {
   "cell_type": "code",
   "execution_count": null,
   "id": "eb6187bf-002d-4d6e-bc64-084332c85565",
   "metadata": {},
   "outputs": [],
   "source": [
    "# v3_vegas_first_month.to_csv('v3-Las-Vegas_Text_first_month.csv', sep=',', encoding='utf-8', index=False)\n",
    "# verified_vegas_first_month_sample.to_csv('v3-gs_Las-Vegas_first_month.csv', sep=',', encoding='utf-8', index=False)"
   ]
  },
  {
   "cell_type": "markdown",
   "id": "fc38e3d9-201b-4328-be17-23a1ed2b0e67",
   "metadata": {},
   "source": [
    "## Second Month"
   ]
  },
  {
   "cell_type": "code",
   "execution_count": null,
   "id": "f99c3d45-d86d-4ffa-bc9d-3cfadfe79e16",
   "metadata": {},
   "outputs": [],
   "source": [
    "vegas_sm, vegas_sm_sample = addCol_takeSample(vegas_sm)\n",
    "# vegas_sm_sample[['text', 'publish_date']]"
   ]
  },
  {
   "cell_type": "code",
   "execution_count": null,
   "id": "7ff61a78-4fe5-4d3a-8f0b-87276cdb3f14",
   "metadata": {},
   "outputs": [],
   "source": [
    "# initial_check(vegas_sm_sample, shooting_info, all_info )"
   ]
  },
  {
   "cell_type": "code",
   "execution_count": null,
   "id": "8db3f8db-0983-47b1-93db-b0ed8538c7ea",
   "metadata": {},
   "outputs": [],
   "source": [
    "# v3_vegas_second_month, verified_vegas_second_moth_sample = update_labels(vegas_sm, vegas_sm_sample)"
   ]
  },
  {
   "cell_type": "code",
   "execution_count": null,
   "id": "15f7c4ee-8ff9-4e4f-baf7-a5be8c7a8a34",
   "metadata": {},
   "outputs": [],
   "source": [
    "# v3_vegas_second_month.to_csv('v3-Las-Vegas_Text_second_month.csv', sep=',', encoding='utf-8', index=False)\n",
    "# verified_vegas_second_moth_sample.to_csv('v3-gs_Las-Vegas_second_month.csv', sep=',', encoding='utf-8', index=False)"
   ]
  },
  {
   "cell_type": "markdown",
   "id": "c0d1df88-6d0b-4cdd-8b5e-35cbd3b2415f",
   "metadata": {},
   "source": [
    "## Third Month"
   ]
  },
  {
   "cell_type": "code",
   "execution_count": null,
   "id": "cd16aeab-25cb-4c09-a2e8-54d89e5cc510",
   "metadata": {},
   "outputs": [],
   "source": [
    "vegas_tm, vegas_tm_sample = addCol_takeSample(vegas_tm)\n",
    "vegas_tm_sample[['text', 'publish_date']]"
   ]
  },
  {
   "cell_type": "code",
   "execution_count": null,
   "id": "8923ab3d-da7d-4607-9a01-347cd4b5c1b9",
   "metadata": {},
   "outputs": [],
   "source": [
    "# v3_vegas_third_month, verified_vegas_third_moth_sample = update_labels(vegas_tm, vegas_tm_sample)"
   ]
  },
  {
   "cell_type": "code",
   "execution_count": null,
   "id": "c79b6818-ffc9-48b7-9d8b-d094225d97e1",
   "metadata": {},
   "outputs": [],
   "source": [
    "# initial_check(vegas_tm_sample, shooting_info, all_info )"
   ]
  },
  {
   "cell_type": "code",
   "execution_count": null,
   "id": "b4affd4f-e527-464d-9359-5b96ccdf819c",
   "metadata": {},
   "outputs": [],
   "source": [
    "# v3_vegas_third_month.to_csv('v3-Las-Vegas_Text_third_month.csv', sep=',', encoding='utf-8', index=False)\n",
    "# verified_vegas_third_moth_sample.to_csv('v3-gs_Las-Vegas_third_month.csv', sep=',', encoding='utf-8', index=False)"
   ]
  },
  {
   "cell_type": "markdown",
   "id": "4c74743a-b176-499f-a6f5-29cb00cf36d6",
   "metadata": {},
   "source": [
    "# Virginia Beach Shooting"
   ]
  },
  {
   "cell_type": "code",
   "execution_count": 5,
   "id": "9bb92692-5fa4-4892-bfa6-20a9a149556f",
   "metadata": {},
   "outputs": [],
   "source": [
    "path_virginia_1 = path + 'v2-VirginiaBeach_Text-first-month.csv'\n",
    "path_virginia_2 = path + 'v2-VirginiaBeach_Text-second-month.csv'\n",
    "path_virginia_3 = path + 'v2-VirginiaBeach_Text-third-month.csv'\n",
    "\n",
    "virginia_fm = pd.read_csv(path_virginia_1, index_col=False)\n",
    "virginia_sm = pd.read_csv(path_virginia_2, index_col=False)\n",
    "virginia_tm = pd.read_csv(path_virginia_3, index_col=False)\n",
    "\n",
    "shooting_info = ['VirginiaBeach', 'virginia beach','dewayne','craddock','employee','nettleton','.45-caliber','engineer','municipal']"
   ]
  },
  {
   "cell_type": "markdown",
   "id": "192f19df-7209-438f-8602-9f3d19322f98",
   "metadata": {},
   "source": [
    "## First Month"
   ]
  },
  {
   "cell_type": "code",
   "execution_count": null,
   "id": "20f18d0e-e796-4844-98c2-3c905f4f012a",
   "metadata": {},
   "outputs": [],
   "source": [
    "virginia_fm, virginia_fm_sample = addCol_takeSample(virginia_fm)\n",
    "virginia_fm_sample[['text', 'publish_date']]"
   ]
  },
  {
   "cell_type": "code",
   "execution_count": null,
   "id": "a3663854-c008-4d79-a02e-345486ebd32d",
   "metadata": {},
   "outputs": [],
   "source": [
    "# initial_check(virginia_fm_sample, shooting_info , all_info)"
   ]
  },
  {
   "cell_type": "code",
   "execution_count": null,
   "id": "221a3816-74cb-42d9-861f-5285eee9ae8b",
   "metadata": {},
   "outputs": [],
   "source": [
    "# v3_virginia_first_month, verified_virginia_first_month_sample = update_labels(virginia_fm, virginia_fm_sample)"
   ]
  },
  {
   "cell_type": "code",
   "execution_count": null,
   "id": "fe3c8d76-4c64-4f6f-b4b4-43e58a9a07d9",
   "metadata": {},
   "outputs": [],
   "source": [
    "# v3_virginia_first_month.to_csv('v3-Virginia-Beach_Text_first_month.csv', sep=',', encoding='utf-8', index=False)\n",
    "# verified_virginia_first_month_sample.to_csv('v3-gs_Virginia-Beach_first_month.csv', sep=',', encoding='utf-8', index=False)"
   ]
  },
  {
   "cell_type": "markdown",
   "id": "b9439de9-7c22-4014-b7ed-6a383d605e0b",
   "metadata": {},
   "source": [
    "## Second Month"
   ]
  },
  {
   "cell_type": "code",
   "execution_count": null,
   "id": "d9b2a94e-734f-4e0e-b9c9-8cad72f7cb2a",
   "metadata": {},
   "outputs": [],
   "source": [
    "virginia_sm, virginia_sm_sample = addCol_takeSample(virginia_sm)\n",
    "virginia_sm_sample[['text', 'publish_date']]"
   ]
  },
  {
   "cell_type": "code",
   "execution_count": null,
   "id": "8e6b9ed0-12b7-46b9-868a-71f8b6e9be7c",
   "metadata": {},
   "outputs": [],
   "source": [
    "# initial_check(virginia_sm_sample, shooting_info, all_info )"
   ]
  },
  {
   "cell_type": "code",
   "execution_count": null,
   "id": "e7edad4c-1c7c-4296-8fbd-b2fcfdc94173",
   "metadata": {},
   "outputs": [],
   "source": [
    "# v3_virginia_second_month, verified_virginia_second_moth_sample = update_labels(virginia_sm, virginia_sm_sample)"
   ]
  },
  {
   "cell_type": "code",
   "execution_count": null,
   "id": "c7255df1-b1a4-457d-b261-33c65a57c3ff",
   "metadata": {},
   "outputs": [],
   "source": [
    "# v3_virginia_second_month.to_csv('v3-Virginia-Beach_Text_second_month.csv', sep=',', encoding='utf-8', index=False)\n",
    "# verified_virginia_second_moth_sample.to_csv('v3-gs_Virginia-Beach_second_month.csv', sep=',', encoding='utf-8', index=False)"
   ]
  },
  {
   "cell_type": "markdown",
   "id": "b96bc871-a983-4ec9-9e71-dc579eeb4418",
   "metadata": {},
   "source": [
    "## Third Month"
   ]
  },
  {
   "cell_type": "code",
   "execution_count": 6,
   "id": "aeee3ec9-7a92-4a2d-af84-cb934278dffb",
   "metadata": {},
   "outputs": [
    {
     "data": {
      "text/html": [
       "<div>\n",
       "<style scoped>\n",
       "    .dataframe tbody tr th:only-of-type {\n",
       "        vertical-align: middle;\n",
       "    }\n",
       "\n",
       "    .dataframe tbody tr th {\n",
       "        vertical-align: top;\n",
       "    }\n",
       "\n",
       "    .dataframe thead th {\n",
       "        text-align: right;\n",
       "    }\n",
       "</style>\n",
       "<table border=\"1\" class=\"dataframe\">\n",
       "  <thead>\n",
       "    <tr style=\"text-align: right;\">\n",
       "      <th></th>\n",
       "      <th>text</th>\n",
       "      <th>publish_date</th>\n",
       "    </tr>\n",
       "  </thead>\n",
       "  <tbody>\n",
       "    <tr>\n",
       "      <th>2698</th>\n",
       "      <td>use cookies tracking technologies improve brow...</td>\n",
       "      <td>2019-08-04 17:50:00</td>\n",
       "    </tr>\n",
       "    <tr>\n",
       "      <th>647</th>\n",
       "      <td>trending las vegas presidential candidates kam...</td>\n",
       "      <td>2019-08-05 20:30:17</td>\n",
       "    </tr>\n",
       "    <tr>\n",
       "      <th>1028</th>\n",
       "      <td>u.s. president donald trump wednesday visited ...</td>\n",
       "      <td>2019-08-07 12:18:00</td>\n",
       "    </tr>\n",
       "    <tr>\n",
       "      <th>929</th>\n",
       "      <td>festival gilroy california walmart el paso tex...</td>\n",
       "      <td>2019-08-06 21:32:23</td>\n",
       "    </tr>\n",
       "    <tr>\n",
       "      <th>1764</th>\n",
       "      <td>leading-edge research firm focused digital tra...</td>\n",
       "      <td>2019-08-15 10:57:35</td>\n",
       "    </tr>\n",
       "    <tr>\n",
       "      <th>2150</th>\n",
       "      <td>watch cbsn live updated august 26 2019 3:22 pm...</td>\n",
       "      <td>2019-08-26 05:36:37</td>\n",
       "    </tr>\n",
       "    <tr>\n",
       "      <th>1142</th>\n",
       "      <td>trending el paso texas aiming play traditional...</td>\n",
       "      <td>2019-08-07 20:10:54</td>\n",
       "    </tr>\n",
       "    <tr>\n",
       "      <th>1552</th>\n",
       "      <td>des moines democratic presidential candidate m...</td>\n",
       "      <td>2019-08-12 04:00:01</td>\n",
       "    </tr>\n",
       "    <tr>\n",
       "      <th>2856</th>\n",
       "      <td>andrew yang latest qualify next round democrat...</td>\n",
       "      <td>2019-08-08 18:21:24</td>\n",
       "    </tr>\n",
       "    <tr>\n",
       "      <th>2191</th>\n",
       "      <td>devan cole cnn updated 2052 gmt 0452 hkt augus...</td>\n",
       "      <td>2019-08-29 16:52:16</td>\n",
       "    </tr>\n",
       "    <tr>\n",
       "      <th>653</th>\n",
       "      <td>msnbc joe scarborough skewered donors presiden...</td>\n",
       "      <td>2019-08-05 17:15:50</td>\n",
       "    </tr>\n",
       "    <tr>\n",
       "      <th>2344</th>\n",
       "      <td>chant 2 cents 2 cents 2 cents started back cro...</td>\n",
       "      <td>2019-08-12 00:00:00</td>\n",
       "    </tr>\n",
       "    <tr>\n",
       "      <th>2575</th>\n",
       "      <td>el paso texas ap young gunman opened fire el p...</td>\n",
       "      <td>2019-08-03 00:00:00</td>\n",
       "    </tr>\n",
       "    <tr>\n",
       "      <th>2631</th>\n",
       "      <td>monday cloud yet cloud previous mass shooting ...</td>\n",
       "      <td>2019-08-05 07:00:14</td>\n",
       "    </tr>\n",
       "    <tr>\n",
       "      <th>1751</th>\n",
       "      <td>billboard pro follow billboard billboard 2021 ...</td>\n",
       "      <td>2019-08-15 08:30:10</td>\n",
       "    </tr>\n",
       "    <tr>\n",
       "      <th>2598</th>\n",
       "      <td>watch cbsn live grace segers updated august 9 ...</td>\n",
       "      <td>2019-08-05 00:00:00</td>\n",
       "    </tr>\n",
       "    <tr>\n",
       "      <th>104</th>\n",
       "      <td>caroline kenny daniella diaz joe ruiz cnn upda...</td>\n",
       "      <td>2019-08-03 23:48:42</td>\n",
       "    </tr>\n",
       "    <tr>\n",
       "      <th>956</th>\n",
       "      <td>material may published broadcast rewritten red...</td>\n",
       "      <td>2019-08-07 07:14:16</td>\n",
       "    </tr>\n",
       "    <tr>\n",
       "      <th>2458</th>\n",
       "      <td>woman dated man carried mass shooting ohio say...</td>\n",
       "      <td>2019-08-09 14:31:12</td>\n",
       "    </tr>\n",
       "    <tr>\n",
       "      <th>899</th>\n",
       "      <td>corrections clarifications previous version st...</td>\n",
       "      <td>2019-08-06 20:19:58</td>\n",
       "    </tr>\n",
       "    <tr>\n",
       "      <th>163</th>\n",
       "      <td>npr sites use cookies similar tracking storage...</td>\n",
       "      <td>2019-08-04 08:38:00</td>\n",
       "    </tr>\n",
       "    <tr>\n",
       "      <th>636</th>\n",
       "      <td>move deeply decent sensical technology company...</td>\n",
       "      <td>2019-08-05 19:00:00</td>\n",
       "    </tr>\n",
       "    <tr>\n",
       "      <th>2217</th>\n",
       "      <td>watch cbsn live updated august 5 2019 4:52 pm ...</td>\n",
       "      <td>2019-08-05 20:52:00</td>\n",
       "    </tr>\n",
       "    <tr>\n",
       "      <th>237</th>\n",
       "      <td>leading-edge research firm focused digital tra...</td>\n",
       "      <td>2019-08-04 14:32:00</td>\n",
       "    </tr>\n",
       "    <tr>\n",
       "      <th>856</th>\n",
       "      <td>vittorio zunino celotto/getty images filmmaker...</td>\n",
       "      <td>2019-08-06 16:34:49</td>\n",
       "    </tr>\n",
       "    <tr>\n",
       "      <th>165</th>\n",
       "      <td>npr sites use cookies similar tracking storage...</td>\n",
       "      <td>2019-08-04 08:38:00</td>\n",
       "    </tr>\n",
       "    <tr>\n",
       "      <th>2264</th>\n",
       "      <td>sen. rick scott florida used term white nation...</td>\n",
       "      <td>2019-08-05 19:16:24</td>\n",
       "    </tr>\n",
       "    <tr>\n",
       "      <th>2338</th>\n",
       "      <td>discover thomson reuters reuters staff 6 min r...</td>\n",
       "      <td>2019-08-05 22:59:55</td>\n",
       "    </tr>\n",
       "    <tr>\n",
       "      <th>961</th>\n",
       "      <td>patrick kovarik/afp/gettyimages 1 president tr...</td>\n",
       "      <td>2019-08-07 07:54:00</td>\n",
       "    </tr>\n",
       "    <tr>\n",
       "      <th>1585</th>\n",
       "      <td>leading-edge research firm focused digital tra...</td>\n",
       "      <td>2019-08-12 13:52:18</td>\n",
       "    </tr>\n",
       "    <tr>\n",
       "      <th>1789</th>\n",
       "      <td>cincinnati – one victim mass shooting dayton o...</td>\n",
       "      <td>2019-08-15 16:20:24</td>\n",
       "    </tr>\n",
       "    <tr>\n",
       "      <th>1692</th>\n",
       "      <td>past couple weeks global pattern authoritarian...</td>\n",
       "      <td>2019-08-13 09:39:35</td>\n",
       "    </tr>\n",
       "    <tr>\n",
       "      <th>2477</th>\n",
       "      <td>troubled racial backdrop officials commemorate...</td>\n",
       "      <td>2019-08-22 01:33:58</td>\n",
       "    </tr>\n",
       "    <tr>\n",
       "      <th>1837</th>\n",
       "      <td>aug. 16 2019 5:58 dhrumil mehta filed pollapal...</td>\n",
       "      <td>2019-08-16 05:58:52</td>\n",
       "    </tr>\n",
       "    <tr>\n",
       "      <th>1790</th>\n",
       "      <td>logged forgot password create new account most...</td>\n",
       "      <td>2019-08-15 16:17:28</td>\n",
       "    </tr>\n",
       "    <tr>\n",
       "      <th>1949</th>\n",
       "      <td>last modified wed 8 jan 2020 16.11 gmt extreme...</td>\n",
       "      <td>2019-08-20 01:00:42</td>\n",
       "    </tr>\n",
       "    <tr>\n",
       "      <th>2862</th>\n",
       "      <td>piece originally appeared globalist usually he...</td>\n",
       "      <td>2019-08-12 07:00:14</td>\n",
       "    </tr>\n",
       "    <tr>\n",
       "      <th>1890</th>\n",
       "      <td>madeline holcombe cnn updated 0947 gmt 1747 hk...</td>\n",
       "      <td>2019-08-18 05:47:31</td>\n",
       "    </tr>\n",
       "    <tr>\n",
       "      <th>2049</th>\n",
       "      <td>trending uc davis medical school week released...</td>\n",
       "      <td>2019-08-22 10:00:47</td>\n",
       "    </tr>\n",
       "    <tr>\n",
       "      <th>1395</th>\n",
       "      <td>sign subscribe see offers decades wayne lapier...</td>\n",
       "      <td>2019-08-09 13:44:24</td>\n",
       "    </tr>\n",
       "    <tr>\n",
       "      <th>1228</th>\n",
       "      <td>harmeet kaur cnn updated 1638 gmt 0038 hkt aug...</td>\n",
       "      <td>2019-08-08 12:38:28</td>\n",
       "    </tr>\n",
       "    <tr>\n",
       "      <th>2604</th>\n",
       "      <td>material may published broadcast rewritten red...</td>\n",
       "      <td>2019-08-15 00:00:00</td>\n",
       "    </tr>\n",
       "    <tr>\n",
       "      <th>992</th>\n",
       "      <td>el paso texas – would normally routine mission...</td>\n",
       "      <td>2019-08-07 10:32:37</td>\n",
       "    </tr>\n",
       "    <tr>\n",
       "      <th>805</th>\n",
       "      <td>leading-edge research firm focused digital tra...</td>\n",
       "      <td>2019-08-06 14:21:12</td>\n",
       "    </tr>\n",
       "    <tr>\n",
       "      <th>1076</th>\n",
       "      <td>watch cbsn live kate gibson updated august 7 2...</td>\n",
       "      <td>2019-08-07 16:24:51</td>\n",
       "    </tr>\n",
       "    <tr>\n",
       "      <th>425</th>\n",
       "      <td>mexico considering taking legal action u.s. do...</td>\n",
       "      <td>2019-08-05 09:26:00</td>\n",
       "    </tr>\n",
       "    <tr>\n",
       "      <th>2318</th>\n",
       "      <td>mourners gather vigil scene mass shooting sund...</td>\n",
       "      <td>2019-08-05 00:00:00</td>\n",
       "    </tr>\n",
       "    <tr>\n",
       "      <th>2301</th>\n",
       "      <td>material may published broadcast rewritten red...</td>\n",
       "      <td>2019-08-15 00:00:00</td>\n",
       "    </tr>\n",
       "    <tr>\n",
       "      <th>1705</th>\n",
       "      <td>doug criss cnn updated 0954 gmt 1754 hkt augus...</td>\n",
       "      <td>2019-08-14 05:54:01</td>\n",
       "    </tr>\n",
       "    <tr>\n",
       "      <th>520</th>\n",
       "      <td>leading-edge research firm focused digital tra...</td>\n",
       "      <td>2019-08-05 11:46:26</td>\n",
       "    </tr>\n",
       "    <tr>\n",
       "      <th>516</th>\n",
       "      <td>featured shows msnbc tv shows follow msnbc bra...</td>\n",
       "      <td>2019-08-05 12:55:41</td>\n",
       "    </tr>\n",
       "    <tr>\n",
       "      <th>310</th>\n",
       "      <td>donie o'sullivan cnn business updated 2000 gmt...</td>\n",
       "      <td>2019-08-04 20:54:57</td>\n",
       "    </tr>\n",
       "    <tr>\n",
       "      <th>2843</th>\n",
       "      <td>president donald trump monday delivered speech...</td>\n",
       "      <td>2019-08-05 12:33:09</td>\n",
       "    </tr>\n",
       "    <tr>\n",
       "      <th>1428</th>\n",
       "      <td>trending sacramento cliché goes guns kill peop...</td>\n",
       "      <td>2019-08-09 21:38:16</td>\n",
       "    </tr>\n",
       "    <tr>\n",
       "      <th>2235</th>\n",
       "      <td>texas gov greg abbott answers questions town h...</td>\n",
       "      <td>2019-08-22 05:00:00</td>\n",
       "    </tr>\n",
       "    <tr>\n",
       "      <th>1820</th>\n",
       "      <td>cincinnati -- gunman dayton ohio killed nine p...</td>\n",
       "      <td>2019-08-16 03:26:54</td>\n",
       "    </tr>\n",
       "    <tr>\n",
       "      <th>82</th>\n",
       "      <td>least 18 people killed 23 people injured accor...</td>\n",
       "      <td>2019-08-03 19:00:44</td>\n",
       "    </tr>\n",
       "    <tr>\n",
       "      <th>2176</th>\n",
       "      <td>featured shows msnbc tv shows follow msnbc bra...</td>\n",
       "      <td>2019-08-27 14:13:18</td>\n",
       "    </tr>\n",
       "  </tbody>\n",
       "</table>\n",
       "</div>"
      ],
      "text/plain": [
       "                                                   text         publish_date\n",
       "2698  use cookies tracking technologies improve brow...  2019-08-04 17:50:00\n",
       "647   trending las vegas presidential candidates kam...  2019-08-05 20:30:17\n",
       "1028  u.s. president donald trump wednesday visited ...  2019-08-07 12:18:00\n",
       "929   festival gilroy california walmart el paso tex...  2019-08-06 21:32:23\n",
       "1764  leading-edge research firm focused digital tra...  2019-08-15 10:57:35\n",
       "2150  watch cbsn live updated august 26 2019 3:22 pm...  2019-08-26 05:36:37\n",
       "1142  trending el paso texas aiming play traditional...  2019-08-07 20:10:54\n",
       "1552  des moines democratic presidential candidate m...  2019-08-12 04:00:01\n",
       "2856  andrew yang latest qualify next round democrat...  2019-08-08 18:21:24\n",
       "2191  devan cole cnn updated 2052 gmt 0452 hkt augus...  2019-08-29 16:52:16\n",
       "653   msnbc joe scarborough skewered donors presiden...  2019-08-05 17:15:50\n",
       "2344  chant 2 cents 2 cents 2 cents started back cro...  2019-08-12 00:00:00\n",
       "2575  el paso texas ap young gunman opened fire el p...  2019-08-03 00:00:00\n",
       "2631  monday cloud yet cloud previous mass shooting ...  2019-08-05 07:00:14\n",
       "1751  billboard pro follow billboard billboard 2021 ...  2019-08-15 08:30:10\n",
       "2598  watch cbsn live grace segers updated august 9 ...  2019-08-05 00:00:00\n",
       "104   caroline kenny daniella diaz joe ruiz cnn upda...  2019-08-03 23:48:42\n",
       "956   material may published broadcast rewritten red...  2019-08-07 07:14:16\n",
       "2458  woman dated man carried mass shooting ohio say...  2019-08-09 14:31:12\n",
       "899   corrections clarifications previous version st...  2019-08-06 20:19:58\n",
       "163   npr sites use cookies similar tracking storage...  2019-08-04 08:38:00\n",
       "636   move deeply decent sensical technology company...  2019-08-05 19:00:00\n",
       "2217  watch cbsn live updated august 5 2019 4:52 pm ...  2019-08-05 20:52:00\n",
       "237   leading-edge research firm focused digital tra...  2019-08-04 14:32:00\n",
       "856   vittorio zunino celotto/getty images filmmaker...  2019-08-06 16:34:49\n",
       "165   npr sites use cookies similar tracking storage...  2019-08-04 08:38:00\n",
       "2264  sen. rick scott florida used term white nation...  2019-08-05 19:16:24\n",
       "2338  discover thomson reuters reuters staff 6 min r...  2019-08-05 22:59:55\n",
       "961   patrick kovarik/afp/gettyimages 1 president tr...  2019-08-07 07:54:00\n",
       "1585  leading-edge research firm focused digital tra...  2019-08-12 13:52:18\n",
       "1789  cincinnati – one victim mass shooting dayton o...  2019-08-15 16:20:24\n",
       "1692  past couple weeks global pattern authoritarian...  2019-08-13 09:39:35\n",
       "2477  troubled racial backdrop officials commemorate...  2019-08-22 01:33:58\n",
       "1837  aug. 16 2019 5:58 dhrumil mehta filed pollapal...  2019-08-16 05:58:52\n",
       "1790  logged forgot password create new account most...  2019-08-15 16:17:28\n",
       "1949  last modified wed 8 jan 2020 16.11 gmt extreme...  2019-08-20 01:00:42\n",
       "2862  piece originally appeared globalist usually he...  2019-08-12 07:00:14\n",
       "1890  madeline holcombe cnn updated 0947 gmt 1747 hk...  2019-08-18 05:47:31\n",
       "2049  trending uc davis medical school week released...  2019-08-22 10:00:47\n",
       "1395  sign subscribe see offers decades wayne lapier...  2019-08-09 13:44:24\n",
       "1228  harmeet kaur cnn updated 1638 gmt 0038 hkt aug...  2019-08-08 12:38:28\n",
       "2604  material may published broadcast rewritten red...  2019-08-15 00:00:00\n",
       "992   el paso texas – would normally routine mission...  2019-08-07 10:32:37\n",
       "805   leading-edge research firm focused digital tra...  2019-08-06 14:21:12\n",
       "1076  watch cbsn live kate gibson updated august 7 2...  2019-08-07 16:24:51\n",
       "425   mexico considering taking legal action u.s. do...  2019-08-05 09:26:00\n",
       "2318  mourners gather vigil scene mass shooting sund...  2019-08-05 00:00:00\n",
       "2301  material may published broadcast rewritten red...  2019-08-15 00:00:00\n",
       "1705  doug criss cnn updated 0954 gmt 1754 hkt augus...  2019-08-14 05:54:01\n",
       "520   leading-edge research firm focused digital tra...  2019-08-05 11:46:26\n",
       "516   featured shows msnbc tv shows follow msnbc bra...  2019-08-05 12:55:41\n",
       "310   donie o'sullivan cnn business updated 2000 gmt...  2019-08-04 20:54:57\n",
       "2843  president donald trump monday delivered speech...  2019-08-05 12:33:09\n",
       "1428  trending sacramento cliché goes guns kill peop...  2019-08-09 21:38:16\n",
       "2235  texas gov greg abbott answers questions town h...  2019-08-22 05:00:00\n",
       "1820  cincinnati -- gunman dayton ohio killed nine p...  2019-08-16 03:26:54\n",
       "82    least 18 people killed 23 people injured accor...  2019-08-03 19:00:44\n",
       "2176  featured shows msnbc tv shows follow msnbc bra...  2019-08-27 14:13:18"
      ]
     },
     "execution_count": 6,
     "metadata": {},
     "output_type": "execute_result"
    }
   ],
   "source": [
    "virginia_tm, virginia_tm_sample = addCol_takeSample(virginia_tm)\n",
    "virginia_tm_sample[['text', 'publish_date']]"
   ]
  },
  {
   "cell_type": "code",
   "execution_count": 9,
   "id": "d438a649-c135-4870-9b43-3f8a7cc6a757",
   "metadata": {},
   "outputs": [
    {
     "name": "stdout",
     "output_type": "stream",
     "text": [
      "https://www.vox.com/recode/2019/8/4/20753951/el-paso-dayton-shooting-8chan-twitter-facebook\n",
      "open text here?\n"
     ]
    },
    {
     "name": "stdin",
     "output_type": "stream",
     "text": [
      " n\n",
      " k\n"
     ]
    },
    {
     "name": "stdout",
     "output_type": "stream",
     "text": [
      "article number 2698 IS NOT related to the shooting, no other shooting mentioned\n",
      "https://www.eastbaytimes.com/2019/08/05/presidential-election-las-vegas-church-lgbtq-rights/\n",
      "open text here?\n"
     ]
    },
    {
     "name": "stdin",
     "output_type": "stream",
     "text": [
      " n\n",
      " k\n"
     ]
    },
    {
     "name": "stdout",
     "output_type": "stream",
     "text": [
      "article number 647 IS NOT related to the shooting, no other shooting mentioned\n",
      "https://www.cnbc.com/2019/08/07/trump-visits-dayton-ohio-after-mass-shooting-that-shocked-country.html\n",
      "open text here?\n"
     ]
    },
    {
     "name": "stdin",
     "output_type": "stream",
     "text": [
      " n\n",
      " k\n"
     ]
    },
    {
     "name": "stdout",
     "output_type": "stream",
     "text": [
      "article number 1028 IS NOT related to the shooting, no other shooting mentioned\n",
      "http://rssfeeds.azcentral.com/~/605318272/0/phoenix/local~aposThis-Anglo-man-came-here-to-kill-Hispanicsapos-Will-race-motivate-more-violence/\n",
      "open text here?\n"
     ]
    },
    {
     "name": "stdin",
     "output_type": "stream",
     "text": [
      " n\n",
      " m\n"
     ]
    },
    {
     "name": "stdout",
     "output_type": "stream",
     "text": [
      "article number 929 IS NOT related to the shooting.\n"
     ]
    },
    {
     "name": "stdin",
     "output_type": "stream",
     "text": [
      " 946496\n"
     ]
    },
    {
     "name": "stdout",
     "output_type": "stream",
     "text": [
      "article number 929 IS about the shooting : 946496\n",
      "https://www.businessinsider.com/differing-reports-philadelphia-standoff-ended-2019-8\n",
      "open text here?\n"
     ]
    },
    {
     "name": "stdin",
     "output_type": "stream",
     "text": [
      " o\n"
     ]
    },
    {
     "name": "stdout",
     "output_type": "stream",
     "text": [
      "leading-edge research firm focused digital transformation good subscriber account active since free subscriber-exclusive audiobook rules rules netflix culture reinvention get libro.fm using button attorney suspected gunman shot six philadelphia police officers hour-long standoff credited four-way phone call district attorney larry krasner police commissioner richard ross jr. helping client surrender police commissioner however said standoff ended use tear gas suspected gunman identified attorney maurice hill surrendered midnight seven hours standoff began police served drug warrant three-story row home philadelphia tioga-nicetown section usa today reported four-way conversation mr. hill police commissioner richard ross philadelphia district attorney larry krasner trying figure way injuries anyone injuries certainly want client injured taken custody hill attorney shaka johnson told abc 7 ny johnson hill attorney several years said know client part standoff hill called four hours ordeal johnson told abc 7 ny hill baby born two days standoff well teenage son said hostage negotiator wanted help hill come house asked come said need come johnson recalled hill saying johnson said got house thursday night grabbed megaphone speak client let know scene hill surrendered midnight read nearly 8-hour standoff ends philadelphia suspect custody several police officers wounded commissioner ross thanked johnson help situation claimed tear gas ended ordeal deploy tear gas get come outside ross told reporters six officers shot hospitalized non-serious injuries later released philadelphia police told usa today two officers trapped inside rowhome hill five hours shooting broke three additional people found inside home according associated press one resident tioga-nicetown told cbs philadelphia shooting happened near children daycare 'm army discharged veteran thought dmz zone triggering ptsd types things needs resolved senseless seriously senseless said hill 36 history gun arrests dating back 18 years philadelphia inquirer reported incident prompted philadelphia major jim kennedy call gun control officers deserve protected deserve shot guy hours unlimited supply weapons unlimited supply bullets disgusting something told reporters follow insider facebook\n"
     ]
    },
    {
     "name": "stdin",
     "output_type": "stream",
     "text": [
      " k\n"
     ]
    },
    {
     "name": "stdout",
     "output_type": "stream",
     "text": [
      "article number 1764 IS NOT related to the shooting, no other shooting mentioned\n",
      "https://www.cbsnews.com/news/dayton-mass-shooting-dave-chappelle-hosted-gem-city-shine-benefit-honoring-dayton-victims-draws-20000/\n",
      "open text here?\n"
     ]
    },
    {
     "name": "stdin",
     "output_type": "stream",
     "text": [
      " n\n",
      " k\n"
     ]
    },
    {
     "name": "stdout",
     "output_type": "stream",
     "text": [
      "article number 2150 IS NOT related to the shooting, no other shooting mentioned\n",
      "https://www.denverpost.com/2019/08/07/trump-el-paso-dayton-shootings-protests/\n",
      "open text here?\n"
     ]
    },
    {
     "name": "stdin",
     "output_type": "stream",
     "text": [
      " o\n"
     ]
    },
    {
     "name": "stdout",
     "output_type": "stream",
     "text": [
      "trending el paso texas aiming play traditional role healer national tragedy president donald trump paid visits wednesday cities reeling mass shootings left 31 dead dozens wounded divisive words preceded large protests greeted biting political attacks soon followed president first lady melania trump flew el paso late day visiting dayton ohio hospital many victims sunday attack city treated day president kept view reporters traveling white house said couple met hospital staff first responders spent time wounded survivors families trump told said press secretary stephanie grisham everybody received warmly everybody excited see him. trump said reception moments spoke media 911 call center el paso outside dayton miami valley hospital least 200 protesters gathered blaming trump incendiary rhetoric inflaming political racial tensions country demanding action gun control said trump welcome city trump supporters well el paso former rep. beto rourke spoke several hundred people separate gathering rourke potential democratic 2020 presidential rival blistered trump racist instigator also told audience open way people home town treat could example ot united states america. emotions still raw cities aftermath weekend shootings critics contend trump words contributed combustible climate spawned death violence vitriol continued wednesday trump motorcade passed el paso protesters holding racist go home signs trump spent part flight ohio texas airing grievances twitter berating democratic lawmakers rourke press remarkable split-screen appearance tv viewers white house images handshakes selfies juxtaposed angry tweets trump white house forcefully disputed idea bears responsibility nation divisions continued wednesday critics political people trump said left white house noting apparent political leanings shooter dayton killings also defended rhetoric issues including immigration claiming instead brings people together. 85 u.s. adults believe tone nature political debate become negative majority saying trump changed things worse according recent pew research center polling three quarters 78 say elected officials use heated aggressive language talk certain people groups make violence people likely dayton raw anger pain display protesters chanted ban guns something trump visit holding sign said welcome lynnell graham said thinks trump response shootings insincere comes fake said dorothee bouquet stood bright sun 5-year-old daughter 2-year-old son tucked stroller told going protest tell grownups make better rules. el paso protests awaited raul melendez whose father-in-law david johnson killed saturday shooting said appropriate thing trump could meet relatives victims shows actually cares talks individual families said melendez credits johnson helping 9-year-old daughter survive attack pushing counter melendez army veteran son mexican immigrants said holds shooter responsible attack person intent hurt people already said one words would triggered that. local democratic lawmakers expressed concern visit said trump nonetheless hit right notes wednesday comforting right things melania right things job comfort people said sen. sherrod brown nonetheless said concerned president divides rhetoric plays race rhetoric. think victims first responders grateful president united states came dayton added mayor nan whaley said glad trump stopped site shooting lot time talk divisive last thing need dayton said grisham responding twitter aboard air force one sad genuinely sad see lawmakers immediately hold dishonest press conference name partisan politics. despite protests cities white house insisted trump received positive receptions one aide tweeted trump rock star dayton hospital white house allow reporters photographers watch talked wounded victims medical staff law enforcement officers quickly published photos social media released video visit discord el paso rep. veronica escobar democratic congresswoman represents city declined meet trump refuse prop said interview cnn visits sites mass shootings become regular pilgrimage recent president trump sometimes struggled project empathy moments national tragedy stirred unusual backlash though able summon soothing words connect one-on-one victims often quickly lapses divisive tweets statements recently painting immigrants invaders suggesting four democratic congresswoman color go back home countries even though u.s. citizens deriding majority-black baltimore rat-infested hell-hole presidential motorcade rolled 911 center el paso passed sign aimed trump said racist go home. elsewhere city rourke told several hundred people hometown bore brunt hatred shooting could also hold answer strife way welcome one another see differences disqualifying dangerous source strength foundation success needs example united states america rourke said eve trip trump lashed rourke tweeted trump helped create hatred made saturday tragedy possible come el paso. rourke respect victims law enforcement – quiet trump snapped back flight one scene tragedy second trump said turned another 2020 rival former vice president joe biden excoriated speech slammed incapable offering moral leadership defined presidency generations fueling literal carnage america trump declared speech sooo boring warned lamestream media die ratings clicks biden wins associated press writer john seewer contributed report colvin reported washington sign newsletters alerts\n"
     ]
    },
    {
     "name": "stdin",
     "output_type": "stream",
     "text": [
      " k\n"
     ]
    },
    {
     "name": "stdout",
     "output_type": "stream",
     "text": [
      "article number 1142 IS NOT related to the shooting, no other shooting mentioned\n",
      "http://rssfeeds.azcentral.com/~/605512228/0/phoenix/nation~For-Democrats-hammering-on-gun-control-comes-with-upside-Energized-angry-activists/\n",
      "open text here?\n"
     ]
    },
    {
     "name": "stdin",
     "output_type": "stream",
     "text": [
      " n\n",
      " k\n"
     ]
    },
    {
     "name": "stdout",
     "output_type": "stream",
     "text": [
      "article number 1552 IS NOT related to the shooting, no other shooting mentioned\n",
      "http://feedproxy.google.com/~r/TheAtlantic/~3/LDxj-bkEi-g/\n",
      "open text here?\n"
     ]
    },
    {
     "name": "stdin",
     "output_type": "stream",
     "text": [
      " n\n",
      " k\n"
     ]
    },
    {
     "name": "stdout",
     "output_type": "stream",
     "text": [
      "article number 2856 IS NOT related to the shooting, no other shooting mentioned\n",
      "http://rss.cnn.com/~r/rss/cnn_latest/~3/NT4Bqc6Z2B0/index.html\n",
      "open text here?\n"
     ]
    },
    {
     "name": "stdin",
     "output_type": "stream",
     "text": [
      " n\n",
      " k\n"
     ]
    },
    {
     "name": "stdout",
     "output_type": "stream",
     "text": [
      "article number 2191 IS NOT related to the shooting, no other shooting mentioned\n",
      "https://www.salon.com/2019/08/05/msnbcs-joe-scarborough-calls-out-trump-donors-for-funding-a-white-supremacist-campaign/\n",
      "open text here?\n"
     ]
    },
    {
     "name": "stdin",
     "output_type": "stream",
     "text": [
      " n\n",
      " k\n"
     ]
    },
    {
     "name": "stdout",
     "output_type": "stream",
     "text": [
      "article number 653 IS NOT related to the shooting, no other shooting mentioned\n",
      "https://www.chicagotribune.com/nation-world/ct-nw-democrats-iowa-elizabeth-warren-20190812-rbqxtp7a5bcxriuofx2d75ey6a-story.html\n",
      "open text here?\n"
     ]
    },
    {
     "name": "stdin",
     "output_type": "stream",
     "text": [
      " n\n",
      " k\n"
     ]
    },
    {
     "name": "stdout",
     "output_type": "stream",
     "text": [
      "article number 2344 IS NOT related to the shooting, no other shooting mentioned\n",
      "https://www.bostonglobe.com/news/nation/2019/08/03/active-shooter-near-paso-shopping-mall-police-say/q68E0bZZ6QGTyVGgD6sM8M/story.html\n",
      "open text here?\n"
     ]
    },
    {
     "name": "stdin",
     "output_type": "stream",
     "text": [
      " o\n"
     ]
    },
    {
     "name": "stdout",
     "output_type": "stream",
     "text": [
      "el paso texas ap young gunman opened fire el paso texas shopping area packed many 3,000 people busy back-to-school season saturday leaving 20 dead two dozen injured gov greg abbott called incident texas border city one deadly days history texas. police said authorities investigating hate crime suspect arrested without incident outside walmart near cielo vista mall said el paso police chief greg allen two law enforcement officials spoke associated press condition anonymity identified suspect 21-year-old patrick crusius el paso police release name news conference confirmed gunman allen near dallas advertisement many victims shot walmart police said scene horrific one said allen adding many 26 people hurt life-threatening injuries chief said police found post online possibly written suspect right manifesto individual indicates degree nexus potential hate crime allen said shooting came less week gunman opened fire california food festival santino william legan 19 killed three people injured 13 others last sunday popular gilroy garlic festival died self-inflicted gunshot wound el paso 680,000 residents west texas sits across border ciudad juarez mexico residents quickly volunteered give blood injured shooting police military members helping people look missing loved ones chaos right said austin johnson army medic nearby fort bliss volunteered help shopping center later school serving reunification center advertisement adriana quezada 39 said women clothing section walmart two children heard gunfire thought hits like roof construction said shots 19-year-old daughter 16-year-old son threw ground ran store emergency exit hurt quezada said said saw four men dressed black moving together firing guns indiscriminately police later said believed suspect armed rifle shooter ryan mielke spokesman university medical center el paso said 13 injured brought hospital injuries including one died two injured children transferred el paso children hospital said provide additional details victims eleven victims treated del sol medical center hospital spokesman victor guerrero said victims ages ranged 35 82 said president donald trump tweeted god candidate forum saturday las vegas presidential candidate former texas congressman beto o'rourke el paso appeared bit shaken news shooting hometown reported democrat said shooting shatters illusion progress inevitable tackling gun violence advertisement said heard early reports shooter might military-style weapon saying need keep expletive battlefield bring communities. el paso mayor dee margo said knew shooter town said news conference governor police chief el paso nearly 10-hour drive allen hours shooting authorities blocked streets near home allen associated suspect officers appeared speak briefly woman answered door gray stone house later entered residence el paso become focal point immigration debate drawing trump february argue walling southern border would make u.s. safer city residents o'rourke led thousands protest march past barrier barbed wire-topped fencing towering metal slats o'rourke stressed border walls made hometown safer city murder rate less half national average 2005 year start border fence wall project started el paso rated one three safest major u.s. cities going back 1997 heidi beirich director southern poverty law center intelligence project also said el paso shooting suspect group radar screen prior shooting advertisement nothing files beirich wrote email shooting 21st mass killing united states 2019 fifth public mass shooting saturday 96 people died mass killings 2019 26 public mass shootings ap/usatoday/northeastern university mass murder database tracks u.s. homicides since 2006 involving four people killed including offender short period time regardless weapon location victim-offender relationship motive database shows median age public mass shooter 28 significantly lower median age person commits mass shooting family since 2006 11 mass shootings including saturday committed men 21 younger digital access home delivery gift subscriptions log manage account customer service help faqs globe newsroom advertise newsletters view epaper order back issues news education search archives privacy policy terms service terms purchase work boston globe media\n"
     ]
    },
    {
     "name": "stdin",
     "output_type": "stream",
     "text": [
      " k\n"
     ]
    },
    {
     "name": "stdout",
     "output_type": "stream",
     "text": [
      "article number 2575 IS NOT related to the shooting, no other shooting mentioned\n",
      "http://www.dailykos.com/stories/1876750\n",
      "open text here?\n"
     ]
    },
    {
     "name": "stdin",
     "output_type": "stream",
     "text": [
      " n\n",
      " k\n"
     ]
    },
    {
     "name": "stdout",
     "output_type": "stream",
     "text": [
      "article number 2631 IS NOT related to the shooting, no other shooting mentioned\n",
      "https://www.billboard.com/articles/columns/latin/8527472/elpasofirme-event-residente-cuco-la-santa-cecilia-rebeca-lane\n",
      "open text here?\n"
     ]
    },
    {
     "name": "stdin",
     "output_type": "stream",
     "text": [
      " n\n",
      " k\n"
     ]
    },
    {
     "name": "stdout",
     "output_type": "stream",
     "text": [
      "article number 1751 IS NOT related to the shooting, no other shooting mentioned\n",
      "https://www.cbsnews.com/news/video-shows-trump-joking-about-crowd-sizes-while-visiting-shooting-victims/?ftag=CNM-00-10aab7e&linkId=71789783\n",
      "open text here?\n"
     ]
    },
    {
     "name": "stdin",
     "output_type": "stream",
     "text": [
      " n\n",
      " k\n"
     ]
    },
    {
     "name": "stdout",
     "output_type": "stream",
     "text": [
      "article number 2598 IS NOT related to the shooting, no other shooting mentioned\n",
      "http://rss.cnn.com/~r/rss/cnn_latest/~3/ganMzUZTrMs/index.html\n",
      "open text here?\n"
     ]
    },
    {
     "name": "stdin",
     "output_type": "stream",
     "text": [
      " n\n",
      " k\n"
     ]
    },
    {
     "name": "stdout",
     "output_type": "stream",
     "text": [
      "article number 104 IS NOT related to the shooting, no other shooting mentioned\n",
      "https://www.foxnews.com/us/ohio-shooting-victim-called-father-of-kids-before-she-died-babe-i-just-got-shot-in-my-head\n",
      "open text here?\n"
     ]
    },
    {
     "name": "stdin",
     "output_type": "stream",
     "text": [
      " n\n",
      " k\n"
     ]
    },
    {
     "name": "stdout",
     "output_type": "stream",
     "text": [
      "article number 956 IS NOT related to the shooting, no other shooting mentioned\n",
      "https://abcnews.go.com/US/wireStory/shooters-girlfriend-dilemma-intervene-64886093\n",
      "open text here?\n"
     ]
    },
    {
     "name": "stdin",
     "output_type": "stream",
     "text": [
      " n\n",
      " m\n"
     ]
    },
    {
     "name": "stdout",
     "output_type": "stream",
     "text": [
      "article number 2458 IS NOT related to the shooting.\n"
     ]
    },
    {
     "name": "stdin",
     "output_type": "stream",
     "text": [
      " 1241819\n"
     ]
    },
    {
     "name": "stdout",
     "output_type": "stream",
     "text": [
      "article number 2458 IS about the shooting : 1241819\n",
      "http://rssfeeds.azcentral.com/~/605332178/0/phoenix/nation~aposThis-is-a-target-listapos-Joaquin-Castro-facing-backlash-for-tweeting-the-names-of-Texas-Trump-donors/\n",
      "open text here?\n"
     ]
    },
    {
     "name": "stdin",
     "output_type": "stream",
     "text": [
      " n\n",
      " k\n"
     ]
    },
    {
     "name": "stdout",
     "output_type": "stream",
     "text": [
      "article number 899 IS NOT related to the shooting, no other shooting mentioned\n",
      "https://www.npr.org/2019/08/04/748002170/9-killed-in-ohio-shooting?utm_medium=RSS&utm_campaign=national\n",
      "open text here?\n"
     ]
    },
    {
     "name": "stdin",
     "output_type": "stream",
     "text": [
      " n\n",
      " k\n"
     ]
    },
    {
     "name": "stdout",
     "output_type": "stream",
     "text": [
      "article number 163 IS NOT related to the shooting, no other shooting mentioned\n",
      "https://www.theroot.com/8chan-breeding-ground-for-white-supremacist-shooters-g-1836977430\n",
      "open text here?\n"
     ]
    },
    {
     "name": "stdin",
     "output_type": "stream",
     "text": [
      " n\n",
      " k\n"
     ]
    },
    {
     "name": "stdout",
     "output_type": "stream",
     "text": [
      "article number 636 IS NOT related to the shooting, no other shooting mentioned\n",
      "https://www.cbsnews.com/news/el-paso-shooting-victim-death-toll-rises-22-today-death-penalty-for-domestic-terrorism-in-walmart-shooting-2019-08-05/\n",
      "open text here?\n"
     ]
    },
    {
     "name": "stdin",
     "output_type": "stream",
     "text": [
      " n\n",
      " k\n"
     ]
    },
    {
     "name": "stdout",
     "output_type": "stream",
     "text": [
      "article number 2217 IS NOT related to the shooting, no other shooting mentioned\n",
      "https://www.businessinsider.com/8chan-founder-extremist-online-sites-responsible-for-another-shooting-2019-4\n",
      "open text here?\n"
     ]
    },
    {
     "name": "stdin",
     "output_type": "stream",
     "text": [
      " n\n",
      " k\n"
     ]
    },
    {
     "name": "stdout",
     "output_type": "stream",
     "text": [
      "article number 237 IS NOT related to the shooting, no other shooting mentioned\n",
      "https://dailycaller.com/2019/08/06/michael-moore-dayton-shooter/\n",
      "open text here?\n"
     ]
    },
    {
     "name": "stdin",
     "output_type": "stream",
     "text": [
      " n\n",
      " k\n"
     ]
    },
    {
     "name": "stdout",
     "output_type": "stream",
     "text": [
      "article number 856 IS NOT related to the shooting, no other shooting mentioned\n",
      "https://www.npr.org/2019/08/04/748002219/rep-veronica-escobar-on-el-paso-shooting?utm_medium=RSS&utm_campaign=national\n",
      "open text here?\n"
     ]
    },
    {
     "name": "stdin",
     "output_type": "stream",
     "text": [
      " n\n",
      " k\n"
     ]
    },
    {
     "name": "stdout",
     "output_type": "stream",
     "text": [
      "article number 165 IS NOT related to the shooting, no other shooting mentioned\n",
      "https://www.politico.com/states/florida/story/2019/08/05/tipping-point-in-shift-florida-republicans-blame-shootings-on-white-nationalism-1129971\n",
      "open text here?\n"
     ]
    },
    {
     "name": "stdin",
     "output_type": "stream",
     "text": [
      " n\n",
      " k\n"
     ]
    },
    {
     "name": "stdout",
     "output_type": "stream",
     "text": [
      "article number 2264 IS NOT related to the shooting, no other shooting mentioned\n",
      "https://www.reuters.com/article/us-usa-shooting-ohio/dayton-shooter-had-troubled-past-threatening-fellow-students-with-hit-list-idUSKCN1UV0WU\n",
      "open text here?\n"
     ]
    },
    {
     "name": "stdin",
     "output_type": "stream",
     "text": [
      " n\n",
      " k\n"
     ]
    },
    {
     "name": "stdout",
     "output_type": "stream",
     "text": [
      "article number 2338 IS NOT related to the shooting, no other shooting mentioned\n",
      "https://theweek.com/10things/853019/10-things-need-know-today-august-7-2019\n",
      "open text here?\n"
     ]
    },
    {
     "name": "stdin",
     "output_type": "stream",
     "text": [
      " n\n",
      " k\n"
     ]
    },
    {
     "name": "stdout",
     "output_type": "stream",
     "text": [
      "article number 961 IS NOT related to the shooting, no other shooting mentioned\n",
      "https://www.businessinsider.com/universal-not-release-the-hunt-sparks-hollywood-debate-2019-8\n",
      "open text here?\n"
     ]
    },
    {
     "name": "stdin",
     "output_type": "stream",
     "text": [
      " n\n",
      " k\n"
     ]
    },
    {
     "name": "stdout",
     "output_type": "stream",
     "text": [
      "article number 1585 IS NOT related to the shooting, no other shooting mentioned\n",
      "http://rssfeeds.azcentral.com/~/605653212/0/phoenix/nation~victims-in-Dayton-hit-by-police-bullets-shooter-had-drugs-in-system/\n",
      "open text here?\n"
     ]
    },
    {
     "name": "stdin",
     "output_type": "stream",
     "text": [
      " n\n",
      " k\n"
     ]
    },
    {
     "name": "stdout",
     "output_type": "stream",
     "text": [
      "article number 1789 IS NOT related to the shooting, no other shooting mentioned\n",
      "https://truthout.org/articles/from-hong-kong-to-kashmir-to-the-us-authoritarianism-is-rising/\n",
      "open text here?\n"
     ]
    },
    {
     "name": "stdin",
     "output_type": "stream",
     "text": [
      " n\n",
      " k\n"
     ]
    },
    {
     "name": "stdout",
     "output_type": "stream",
     "text": [
      "article number 1692 IS NOT related to the shooting, no other shooting mentioned\n",
      "https://abcnews.go.com/US/wireStory/virginia-mark-pivotal-moment-africans-arrived-65114472\n",
      "open text here?\n"
     ]
    },
    {
     "name": "stdin",
     "output_type": "stream",
     "text": [
      " n\n",
      " k\n"
     ]
    },
    {
     "name": "stdout",
     "output_type": "stream",
     "text": [
      "article number 2477 IS NOT related to the shooting, no other shooting mentioned\n",
      "https://fivethirtyeight.com/features/americans-are-more-worried-about-white-nationalism-after-el-paso/\n",
      "open text here?\n"
     ]
    },
    {
     "name": "stdin",
     "output_type": "stream",
     "text": [
      " n\n",
      " k\n"
     ]
    },
    {
     "name": "stdout",
     "output_type": "stream",
     "text": [
      "article number 1837 IS NOT related to the shooting, no other shooting mentioned\n",
      "https://reason.com/2019/08/15/why-governments-should-not-bar-entry-based-on-political-views/\n",
      "open text here?\n"
     ]
    },
    {
     "name": "stdin",
     "output_type": "stream",
     "text": [
      " n\n",
      " k\n"
     ]
    },
    {
     "name": "stdout",
     "output_type": "stream",
     "text": [
      "article number 1790 IS NOT related to the shooting, no other shooting mentioned\n",
      "https://www.theguardian.com/us-news/2019/aug/20/cult-of-columbine-how-the-high-school-shooting-motivated-a-murder-plot\n",
      "open text here?\n"
     ]
    },
    {
     "name": "stdin",
     "output_type": "stream",
     "text": [
      " د\n",
      " k\n"
     ]
    },
    {
     "name": "stdout",
     "output_type": "stream",
     "text": [
      "article number 1949 IS NOT related to the shooting, no other shooting mentioned\n",
      "https://www.salon.com/2019/08/12/trump-a-racist-president_partner/\n",
      "open text here?\n"
     ]
    },
    {
     "name": "stdin",
     "output_type": "stream",
     "text": [
      " n\n",
      " k\n"
     ]
    },
    {
     "name": "stdout",
     "output_type": "stream",
     "text": [
      "article number 2862 IS NOT related to the shooting, no other shooting mentioned\n",
      "http://rss.cnn.com/~r/rss/cnn_topstories/~3/OrGdF_i0EaA/index.html\n",
      "open text here?\n"
     ]
    },
    {
     "name": "stdin",
     "output_type": "stream",
     "text": [
      " n\n",
      " k\n"
     ]
    },
    {
     "name": "stdout",
     "output_type": "stream",
     "text": [
      "article number 1890 IS NOT related to the shooting, no other shooting mentioned\n",
      "https://www.ocregister.com/2019/08/22/do-red-flag-laws-actually-save-lives/\n",
      "open text here?\n"
     ]
    },
    {
     "name": "stdin",
     "output_type": "stream",
     "text": [
      " o\n"
     ]
    },
    {
     "name": "stdout",
     "output_type": "stream",
     "text": [
      "trending uc davis medical school week released report state new red flag law aimed seizing guns dangerous persons saying data suggest urgent individualized intervention play role efforts prevent mass shooting. lead author law passed 2014 effectuated 2016 immediately proclaimed success uc davis study shows importance tool get guns hands dangerous people late sen. nancy skinner democrat berkeley said statement california red flag law signed then-gov jerry brown four months disturbed man killed six uc santa barbara students wounded 13 others family gunman elliot rodger complained authorities strange behavior shootings nothing done prevent skinner senate bill 1014 allows family members law enforcement authorities seek court orders seize weapons thought contemplating suicide violence toward others uc davis team pored documents 159 seizure orders identified 21 cases deemed represent potential mass killings averted weapons confiscated none 21 subjects committed violent crime leading researchers suggest seizure saved lives caveat impossible know whether violence would occurred orders issued authors make claim causal relationship. states adopted versions red flag laws entered perpetual nationwide debate whether firearms restrictions would prevent sort mass killings tragically occurred regularity late movement toward national red flag law suggested expanding authority initiate seizure orders everyone first blush confiscating weapons suspected harboring homicidal suicidal intentions makes sense three troublesome aspects first even though red flag seizures civil proceedings criminal ones unless subject fails comply tantamount societal terms convicting someone crime without criminal law safeguards imposing onus subject bear rest life related articles california public schools need choices flexibility justice thomas rightly questions federal marijuana authority santa ana trash contract shows need choice rediscovering promise american founding socialism versus capitalism debate needs minority voices california law says anyone seeking seizure order burden proving clear convincing evidence substantial likelihood person poses significant danger personal injury himself/herself others judge makes decision jury burden proof less would criminal case potentially breaching constitutional rights bear arms due process charges decided juries done carefully broadening list allowed initiate cases could empower hostile neighbors estranged spouses gunophobic busybodies harass gun owners forcing hire lawyers defend uncommon protective orders sought nasty divorce cases legal tactic crime someone file seizure petition false information intent harass good luck making case finally really know perhaps never know whether red flag seizures actually prevent suicides murders uc davis report cautious claim causal relationship weighed carefully laws expanded calmatters public interest journalism venture committed explaining california state capitol works matters stories dan walters go calmatters.org/commentary get latest news delivered daily invite use commenting platform engage insightful conversations issues community although pre-screen comments reserve right times remove information materials unlawful threatening abusive libelous defamatory obscene vulgar pornographic profane indecent otherwise objectionable us disclose information necessary satisfy law regulation government request might permanently block user abuses conditions see comments find offensive please use flag inappropriate feature hovering right side post pulling arrow appears contact editors emailing moderator scng.com\n"
     ]
    },
    {
     "name": "stdin",
     "output_type": "stream",
     "text": [
      " k\n"
     ]
    },
    {
     "name": "stdout",
     "output_type": "stream",
     "text": [
      "article number 2049 IS NOT related to the shooting, no other shooting mentioned\n",
      "https://www.centralmaine.com/2019/08/09/scandal-ridden-nra-head-lapierre-digs-in-against-gun-control/\n",
      "open text here?\n"
     ]
    },
    {
     "name": "stdin",
     "output_type": "stream",
     "text": [
      " n\n",
      " k\n"
     ]
    },
    {
     "name": "stdout",
     "output_type": "stream",
     "text": [
      "article number 1395 IS NOT related to the shooting, no other shooting mentioned\n",
      "http://rss.cnn.com/~r/rss/cnn_latest/~3/SxFL5SO6xjM/index.html\n",
      "open text here?\n"
     ]
    },
    {
     "name": "stdin",
     "output_type": "stream",
     "text": [
      " n\n",
      " j\n"
     ]
    },
    {
     "name": "stdout",
     "output_type": "stream",
     "text": [
      "article number 1228 IS related to this shooting.\n"
     ]
    },
    {
     "name": "stdin",
     "output_type": "stream",
     "text": [
      " n\n"
     ]
    },
    {
     "name": "stdout",
     "output_type": "stream",
     "text": [
      "https://www.foxnews.com/politics/joe-biden-vp-parkland-florida-shooting-campaign-gaffe?utm_source=feedburner&utm_medium=feed&utm_campaign=Feed%3A%20foxnews%2Fpolitics%20%28Internal%20-%20Politics%20-%20Text%29\n",
      "open text here?\n"
     ]
    },
    {
     "name": "stdin",
     "output_type": "stream",
     "text": [
      " n\n",
      " k\n"
     ]
    },
    {
     "name": "stdout",
     "output_type": "stream",
     "text": [
      "article number 2604 IS NOT related to the shooting, no other shooting mentioned\n",
      "http://rssfeeds.indystar.com/~/605351560/0/indystar/todaystopstories~Protests-noshowsand-a-Baby-Trump-blimp-greet-the-president-in-two-griefstricken-cities/\n",
      "open text here?\n"
     ]
    },
    {
     "name": "stdin",
     "output_type": "stream",
     "text": [
      " n\n",
      " k\n"
     ]
    },
    {
     "name": "stdout",
     "output_type": "stream",
     "text": [
      "article number 992 IS NOT related to the shooting, no other shooting mentioned\n",
      "https://www.businessinsider.com/fast-food-industry-attempts-to-address-shootings-threat-training-2019-8\n",
      "open text here?\n"
     ]
    },
    {
     "name": "stdin",
     "output_type": "stream",
     "text": [
      " n\n",
      " k\n"
     ]
    },
    {
     "name": "stdout",
     "output_type": "stream",
     "text": [
      "article number 805 IS NOT related to the shooting, no other shooting mentioned\n",
      "http://www.cbsnews.com/news/some-walmart-employees-call-for-retailer-to-end-gun-sales-after-el-paso-mississippi-shootings/\n",
      "open text here?\n"
     ]
    },
    {
     "name": "stdin",
     "output_type": "stream",
     "text": [
      " n\n",
      " k\n"
     ]
    },
    {
     "name": "stdout",
     "output_type": "stream",
     "text": [
      "article number 1076 IS NOT related to the shooting, no other shooting mentioned\n",
      "http://feedproxy.google.com/~r/newsy-allvideos/~3/9Jk0tndawTs/\n",
      "open text here?\n"
     ]
    },
    {
     "name": "stdin",
     "output_type": "stream",
     "text": [
      " n\n",
      " k\n"
     ]
    },
    {
     "name": "stdout",
     "output_type": "stream",
     "text": [
      "article number 425 IS NOT related to the shooting, no other shooting mentioned\n",
      "https://www.cleveland.com/nation/2019/08/investigation-continues-as-ohio-shooters-motive-for-dayton-attack-remains-a-mystery.html\n",
      "open text here?\n"
     ]
    },
    {
     "name": "stdin",
     "output_type": "stream",
     "text": [
      " n\n",
      " k\n"
     ]
    },
    {
     "name": "stdout",
     "output_type": "stream",
     "text": [
      "article number 2318 IS NOT related to the shooting, no other shooting mentioned\n",
      "https://www.foxnews.com/entertainment/neil-degarasse-tyson-slammed-for-tweet-about-mass-shooting-data\n",
      "open text here?\n"
     ]
    },
    {
     "name": "stdin",
     "output_type": "stream",
     "text": [
      " n\n",
      " k\n"
     ]
    },
    {
     "name": "stdout",
     "output_type": "stream",
     "text": [
      "article number 2301 IS NOT related to the shooting, no other shooting mentioned\n",
      "http://rss.cnn.com/~r/rss/cnn_latest/~3/NfwyWuT6KHw/index.html\n",
      "open text here?\n"
     ]
    },
    {
     "name": "stdin",
     "output_type": "stream",
     "text": [
      " n\n",
      " k\n"
     ]
    },
    {
     "name": "stdout",
     "output_type": "stream",
     "text": [
      "article number 1705 IS NOT related to the shooting, no other shooting mentioned\n",
      "https://www.businessinsider.com/el-paso-is-the-largest-spanish-speaking-city-in-america-2019-8\n",
      "open text here?\n"
     ]
    },
    {
     "name": "stdin",
     "output_type": "stream",
     "text": [
      " n\n",
      " k\n"
     ]
    },
    {
     "name": "stdout",
     "output_type": "stream",
     "text": [
      "article number 520 IS NOT related to the shooting, no other shooting mentioned\n",
      "http://www.msnbc.com/andrea-mitchell-reports/watch/el-paso-hospital-confirms-increased-death-toll-from-mass-shooting-65339973785\n",
      "open text here?\n"
     ]
    },
    {
     "name": "stdin",
     "output_type": "stream",
     "text": [
      " n\n",
      " k\n"
     ]
    },
    {
     "name": "stdout",
     "output_type": "stream",
     "text": [
      "article number 516 IS NOT related to the shooting, no other shooting mentioned\n",
      "http://rss.cnn.com/~r/rss/cnn_latest/~3/mgh5Xv56XmE/index.html\n",
      "open text here?\n"
     ]
    },
    {
     "name": "stdin",
     "output_type": "stream",
     "text": [
      " n\n",
      " k\n"
     ]
    },
    {
     "name": "stdout",
     "output_type": "stream",
     "text": [
      "article number 310 IS NOT related to the shooting, no other shooting mentioned\n",
      "https://www.rawstory.com/2019/08/trumps-mass-shooting-speech-featured-an-idea-promoted-by-fox-friends-just-hours-earlier/\n",
      "open text here?\n"
     ]
    },
    {
     "name": "stdin",
     "output_type": "stream",
     "text": [
      " n\n",
      " k\n"
     ]
    },
    {
     "name": "stdout",
     "output_type": "stream",
     "text": [
      "article number 2843 IS NOT related to the shooting, no other shooting mentioned\n",
      "https://www.dailynews.com/2019/08/09/yes-america-we-face-a-white-nationalist-threat/\n",
      "open text here?\n"
     ]
    },
    {
     "name": "stdin",
     "output_type": "stream",
     "text": [
      " n\n",
      " m\n"
     ]
    },
    {
     "name": "stdout",
     "output_type": "stream",
     "text": [
      "article number 1428 IS NOT related to the shooting.\n"
     ]
    },
    {
     "name": "stdin",
     "output_type": "stream",
     "text": [
      " 1241819 & 456893\n"
     ]
    },
    {
     "name": "stdout",
     "output_type": "stream",
     "text": [
      "article number 1428 IS about the shooting : 1241819 & 456893\n",
      "https://www.houstonchronicle.com/news/local/article/Governor-s-fundraising-letter-asks-supporters-14371847.php\n",
      "open text here?\n"
     ]
    },
    {
     "name": "stdin",
     "output_type": "stream",
     "text": [
      " n\n",
      " k\n"
     ]
    },
    {
     "name": "stdout",
     "output_type": "stream",
     "text": [
      "article number 2235 IS NOT related to the shooting, no other shooting mentioned\n",
      "http://www.arkansasonline.com/news/2019/aug/16/coroner-ohio-gunman-had-drugs-in-his-sy/\n",
      "open text here?\n"
     ]
    },
    {
     "name": "stdin",
     "output_type": "stream",
     "text": [
      " o\n"
     ]
    },
    {
     "name": "stdout",
     "output_type": "stream",
     "text": [
      "cincinnati -- gunman dayton ohio killed nine people cocaine antidepressant alcohol system mass shooting cut barrage least two dozen police bullets penetrated gaps body armor coroner said thursday montgomery county coroner dr. kent harshbarger said authorities found pipe device bag cocaine 24-year-old connor betts harshbarger also reported preliminary autopsy findings betts 50 entry exit wounds incident involved intense firefight rarely seen combat active-shooter incident dayton police chief richard biehl said officers confronted moving shooter wearing body armor actively executing victims ar-15-type weapon high-capacity magazines coroner said police gunfire hit two people one died harshbarger said gunman police fired lethal round police investigators review medical records 17 wounded determine struck officers bullets biehl said betts opened fire popular entertainment district dayton police shot neared crowded bar one victims betts 22-year-old sister megan although known whether targeted spent hour together bar area shooting family hold private memorial services children meanwhile ethan kollie longtime friend betts told investigators bought body armor 100-round magazine key part gun betts used remain jail judge ordered thursday held without bond trial authorities said indication kollie knew betts planning mass shooting charged lying federal firearms form buying pistol used shooting attorneys wanted released house arrest electronic monitoring conditions saying kollie history violence role shooting prosecutors opposed request stay family friend section 08/16/2019 print headline coroner ohio gunman drugs system copyright 2021 arkansas democrat-gazette inc. rights reserved document may reprinted without express written permission arkansas democrat-gazette inc. material associated press copyright 2021 associated press may published broadcast rewritten redistributed associated press text photo graphic audio and/or video material shall published broadcast rewritten broadcast publication redistributed directly indirectly medium neither ap materials portion thereof may stored computer except personal noncommercial use ap held liable delays inaccuracies errors omissions therefrom transmission delivery part thereof damages arising foregoing rights reserved\n"
     ]
    },
    {
     "name": "stdin",
     "output_type": "stream",
     "text": [
      " k\n"
     ]
    },
    {
     "name": "stdout",
     "output_type": "stream",
     "text": [
      "article number 1820 IS NOT related to the shooting, no other shooting mentioned\n",
      "https://people.com/crime/el-paso-shooting-celebs-politicians-react/\n",
      "open text here?\n"
     ]
    },
    {
     "name": "stdin",
     "output_type": "stream",
     "text": [
      " n\n",
      " k\n"
     ]
    },
    {
     "name": "stdout",
     "output_type": "stream",
     "text": [
      "article number 82 IS NOT related to the shooting, no other shooting mentioned\n",
      "http://www.msnbc.com/andrea-mitchell-reports/watch/dayton-mayor-nan-whaley-on-president-trump-he-s-all-talk-and-no-action-67566149526\n",
      "open text here?\n"
     ]
    },
    {
     "name": "stdin",
     "output_type": "stream",
     "text": [
      " o\n"
     ]
    },
    {
     "name": "stdout",
     "output_type": "stream",
     "text": [
      "featured shows msnbc tv shows follow msnbc brands shows dayton dealing violence today three weeks mass shooting killed nine people mayor nan whaley joins andrea mitchell discuss latest reforming u.s. gun laws.aug 27 2019 2021 nbc universal\n"
     ]
    },
    {
     "name": "stdin",
     "output_type": "stream",
     "text": [
      " k\n"
     ]
    },
    {
     "name": "stdout",
     "output_type": "stream",
     "text": [
      "article number 2176 IS NOT related to the shooting, no other shooting mentioned\n"
     ]
    }
   ],
   "source": [
    "v3_virginia_third_month, verified_virginia_third_moth_sample = update_labels(virginia_tm, virginia_tm_sample)"
   ]
  },
  {
   "cell_type": "code",
   "execution_count": 8,
   "id": "3b8e869a-4a2f-435a-906f-56556e6fb7e8",
   "metadata": {},
   "outputs": [],
   "source": [
    "# initial_check(virginia_tm_sample, shooting_info, all_info )"
   ]
  },
  {
   "cell_type": "code",
   "execution_count": 12,
   "id": "8550cb31-f002-410e-8cd3-47302ec2b392",
   "metadata": {},
   "outputs": [],
   "source": [
    "v3_virginia_third_month.to_csv('v3-Las-Vegas_Text_third_month.csv', sep=',', encoding='utf-8', index=False)\n",
    "verified_virginia_third_moth_sample.to_csv('v3-gs_Las-Vegas_third_month.csv', sep=',', encoding='utf-8', index=False)\n"
   ]
  },
  {
   "cell_type": "markdown",
   "id": "4856848b-4dae-4b02-b28d-6e16f4390026",
   "metadata": {},
   "source": [
    "# Plano Shooting"
   ]
  },
  {
   "cell_type": "code",
   "execution_count": null,
   "id": "5a900263-de93-47d7-8749-ba695b44d6ec",
   "metadata": {},
   "outputs": [],
   "source": [
    "path_plano_1 = path + 'v2-Plano_Text-first-month.csv'\n",
    "path_plano_2 = path + 'v2-Plano_Text-second-month.csv'\n",
    "path_plano_3 = path + 'v2-Plano_Text-third-month.csv'\n",
    "\n",
    "plano_fm = pd.read_csv(path_Bogue_1, index_col=False)\n",
    "plano_sm = pd.read_csv(path_Bogue_2, index_col=False)\n",
    "plano_tm = pd.read_csv(path_Bogue_3, index_col=False)"
   ]
  },
  {
   "cell_type": "markdown",
   "id": "adf273de-2a2f-41a8-86ba-ebaafa00f770",
   "metadata": {},
   "source": [
    "## First Month"
   ]
  },
  {
   "cell_type": "code",
   "execution_count": null,
   "id": "b8190ec6-c406-4d3d-8d5b-e0a09e05a8bb",
   "metadata": {},
   "outputs": [],
   "source": [
    "shooting_info = ['plano', 'hight', 'spencer', 'texas']\n",
    "initial_check(plano_fm_sample, shooting_info, all_info )"
   ]
  },
  {
   "cell_type": "code",
   "execution_count": null,
   "id": "ab297b94-da87-4f8c-88d7-56b862f6b29b",
   "metadata": {},
   "outputs": [],
   "source": [
    "plano_fm, plano_fm_sample = addCol_takeSample(plano_fm)\n",
    "# plano_fm_sample[['text', 'publish_date']]"
   ]
  },
  {
   "cell_type": "code",
   "execution_count": null,
   "id": "cdc129cb-8f1c-421e-83a4-c1d5a5698cdc",
   "metadata": {},
   "outputs": [],
   "source": [
    "v3_plano_first_month, verified_plano_first_month_sample = update_labels(plano_fm, plano_fm_sample)"
   ]
  },
  {
   "cell_type": "code",
   "execution_count": null,
   "id": "8d4d2154-f927-4d95-b9c2-ffd18e830ced",
   "metadata": {},
   "outputs": [],
   "source": [
    "v3_plano_first_month.to_csv('v3_Plano_Text_first_month.csv', sep=',', encoding='utf-8', index=False)\n",
    "verified_plano_first_month_sample.to_csv('v3_gs_Plano_first_month.csv', sep=',', encoding='utf-8', index=False)"
   ]
  },
  {
   "cell_type": "markdown",
   "id": "0da46876-ae8b-4726-9456-f8fc46edb5da",
   "metadata": {},
   "source": [
    "## Second Month"
   ]
  },
  {
   "cell_type": "code",
   "execution_count": null,
   "id": "cea083c5-1e25-4e5c-9a55-af7ff30efde3",
   "metadata": {},
   "outputs": [],
   "source": [
    "plano_sm, plano_sm_sample = addCol_takeSample(plano_sm)\n",
    "plano_sm_sample[['text', 'publish_date']]"
   ]
  },
  {
   "cell_type": "code",
   "execution_count": null,
   "id": "7ebdd0df-627c-444e-9e38-8ddccfa7cfa8",
   "metadata": {},
   "outputs": [],
   "source": [
    "v3_plano_second_month, verified_plano_second_moth_sample = update_labels(plano_sm, plano_sm_sample)"
   ]
  },
  {
   "cell_type": "code",
   "execution_count": null,
   "id": "6db8e0f0-cd48-4496-895c-4a602ea99989",
   "metadata": {},
   "outputs": [],
   "source": [
    "v3_plano_second_month.to_csv('v3_Plano_Text_second_month.csv', sep=',', encoding='utf-8', index=False)\n",
    "verified_plano_second_moth_sample.to_csv('v3_gs_Plano_second_month.csv', sep=',', encoding='utf-8', index=False)"
   ]
  },
  {
   "cell_type": "markdown",
   "id": "a7413c3a-03ef-4af3-9d1c-56e96b9ffd31",
   "metadata": {},
   "source": [
    "## Third Month"
   ]
  },
  {
   "cell_type": "code",
   "execution_count": null,
   "id": "7e9a37e6-14ae-428d-911e-80a436452dd1",
   "metadata": {},
   "outputs": [],
   "source": [
    "plano_tm, plano_tm_sample = addCol_takeSample(plano_tm)\n",
    "plano_tm_sample[['text', 'publish_date']]"
   ]
  },
  {
   "cell_type": "code",
   "execution_count": null,
   "id": "26d6fffd-c24c-4493-bc4b-4a26ac0f4b00",
   "metadata": {},
   "outputs": [],
   "source": [
    "v3_plano_third_month, verified_plano_third_moth_sample = update_labels(plano_tm, _tm_sample)"
   ]
  },
  {
   "cell_type": "code",
   "execution_count": null,
   "id": "ff68709d-125b-465f-8154-8ac44127af4a",
   "metadata": {},
   "outputs": [],
   "source": [
    "v3_plano_third_month.to_csv('v3_Plano_Text_third_month.csv', sep=',', encoding='utf-8', index=False)\n",
    "verified_plano_third_moth_sample.to_csv('v3_gs_Plano_third_month.csv', sep=',', encoding='utf-8', index=False)"
   ]
  },
  {
   "cell_type": "markdown",
   "id": "54daa7dd-362d-4cbc-8d5c-953029a8a3a2",
   "metadata": {},
   "source": [
    "# Bogue Shooting"
   ]
  },
  {
   "cell_type": "code",
   "execution_count": null,
   "id": "ab732f87-7b7e-4c9c-b6a1-deb98dccf2bc",
   "metadata": {},
   "outputs": [],
   "source": [
    "path_Bogue_1 = path + 'v2-Bogue_Text-first-month.csv'\n",
    "path_Bogue_2 = path + 'v2-Bogue_Text-second-month.csv'\n",
    "path_Bogue_3 = path + 'v2-Bogue_Text-third-month.csv'"
   ]
  },
  {
   "cell_type": "code",
   "execution_count": null,
   "id": "219bd1dd-2888-4b01-ba92-35517ebfe9fd",
   "metadata": {},
   "outputs": [],
   "source": [
    "bogue_fm = pd.read_csv(path_Bogue_1, index_col=False)\n",
    "bogue_sm = pd.read_csv(path_Bogue_2, index_col=False)\n",
    "bogue_tm = pd.read_csv(path_Bogue_3, index_col=False)"
   ]
  },
  {
   "cell_type": "markdown",
   "id": "5be7d8e2-769a-4e1a-b3f4-4a7e062b508b",
   "metadata": {},
   "source": [
    "## First Month"
   ]
  },
  {
   "cell_type": "code",
   "execution_count": null,
   "id": "9113cada-c030-4cc6-96ee-146306cb4d61",
   "metadata": {},
   "outputs": [],
   "source": [
    "bogue_fm, bogue_fm_sample = addCol_takeSample(bogue_fm)\n",
    "bogue_fm_sample[['text', 'publish_date']]"
   ]
  },
  {
   "cell_type": "code",
   "execution_count": null,
   "id": "fed62058-9a59-43c4-b3e4-b13de5903ec6",
   "metadata": {},
   "outputs": [],
   "source": [
    "# v3_Bogue_first_month, verified_Bogue_first_moth_sample = update_labels(bogue_fm, bogue_fm_sample)"
   ]
  },
  {
   "cell_type": "code",
   "execution_count": null,
   "id": "7a41b271-352d-4b3b-b99d-1b17e1ca89e7",
   "metadata": {},
   "outputs": [],
   "source": [
    "# v3_Bogue_first_month.to_csv('v3_Bogue_Text_first_month.csv', sep=',', encoding='utf-8', index=False)"
   ]
  },
  {
   "cell_type": "markdown",
   "id": "be350ff0-8b49-4374-9503-53ff24a184ce",
   "metadata": {},
   "source": [
    "## Second Month"
   ]
  },
  {
   "cell_type": "code",
   "execution_count": null,
   "id": "e66669b0-e95a-4b86-bddc-56e14d0d564f",
   "metadata": {},
   "outputs": [],
   "source": [
    "bogue_sm, bogue_sm_sample = addCol_takeSample(bogue_sm)\n",
    "bogue_sm_sample[['text', 'publish_date']]"
   ]
  },
  {
   "cell_type": "code",
   "execution_count": null,
   "id": "94ee781c-101a-41ef-a6d6-c3c163546595",
   "metadata": {},
   "outputs": [],
   "source": [
    "# v3_Bogue_second_month, verified_Bogue_second_moth_sample = update_labels(bogue_sm, bogue_sm_sample)"
   ]
  },
  {
   "cell_type": "code",
   "execution_count": null,
   "id": "79075755-54bd-4e05-bde8-6f1c57bfb3e8",
   "metadata": {},
   "outputs": [],
   "source": [
    "# v3_Bogue_second_month.to_csv('v3_Bogue_Text_second_month.csv', sep=',', encoding='utf-8', index=False)"
   ]
  },
  {
   "cell_type": "markdown",
   "id": "5e37b98e-dfda-410a-80a3-8bbe4dbaba1d",
   "metadata": {},
   "source": [
    "## Third Month"
   ]
  },
  {
   "cell_type": "code",
   "execution_count": null,
   "id": "09f224cc-9350-4612-b21c-0e9d300735ae",
   "metadata": {},
   "outputs": [],
   "source": [
    "bogue_tm, bogue_tm_sample = addCol_takeSample(bogue_tm)\n",
    "bogue_tm_sample[['text', 'publish_date']]"
   ]
  },
  {
   "cell_type": "code",
   "execution_count": null,
   "id": "767c3589-e3e1-45dc-b900-0af6dc67e8cb",
   "metadata": {},
   "outputs": [],
   "source": [
    "# v3_Bogue_third_month, verified_Bogue_thirdt_moth_sample = update_labels(bogue_tm, bogue_tm_sample)"
   ]
  },
  {
   "cell_type": "code",
   "execution_count": null,
   "id": "98a8a3d3-b2da-4e5f-9b3b-16d615c817aa",
   "metadata": {},
   "outputs": [],
   "source": [
    "# v3_Bogue_third_month.to_csv('v3_Bogue_Text_third_month.csv', sep=',', encoding='utf-8', index=False)"
   ]
  },
  {
   "cell_type": "markdown",
   "id": "8d0459b1-95b1-4218-8178-7f766be649de",
   "metadata": {},
   "source": [
    "# Boulder Shooting"
   ]
  },
  {
   "cell_type": "code",
   "execution_count": null,
   "id": "308c37ee-35c7-49c9-a117-7eae347abec0",
   "metadata": {},
   "outputs": [],
   "source": [
    "path_Boulder_1 = path + 'v2-Boulder_Text-first-month.csv'\n",
    "path_Boulder_2 = path + 'v2-Boulder_Text-second-month.csv'\n",
    "path_Boulder_3 = path + 'v2-Boulder_Text-third-month.csv'\n",
    "\n",
    "boulder_fm = pd.read_csv(path_Boulder_1, index_col=False)\n",
    "boulder_sm = pd.read_csv(path_Boulder_2, index_col=False)\n",
    "boulder_tm = pd.read_csv(path_Boulder_3, index_col=False)"
   ]
  },
  {
   "cell_type": "markdown",
   "id": "8cc0041c-80b4-444d-938a-79f6f00c4462",
   "metadata": {},
   "source": [
    "## First Month"
   ]
  },
  {
   "cell_type": "code",
   "execution_count": null,
   "id": "92c2a05c-e09d-4edf-b739-52650b121e03",
   "metadata": {},
   "outputs": [],
   "source": [
    "boulder_fm, boulder_fm_sample = addCol_takeSample(boulder_fm)\n",
    "boulder_fm_sample[['text', 'publish_date']]"
   ]
  },
  {
   "cell_type": "code",
   "execution_count": null,
   "id": "98a6f222-3b0d-437d-a275-78537a22d2f6",
   "metadata": {},
   "outputs": [],
   "source": [
    "# v3_Boulder_first_month, verified_Boulder_first_moth_sample = update_labels(boulder_fm, boulder_fm_sample)"
   ]
  },
  {
   "cell_type": "code",
   "execution_count": null,
   "id": "891387e3-c900-4258-8c1e-e83b465238ab",
   "metadata": {},
   "outputs": [],
   "source": [
    "# v3_Boulder_first_month.to_csv('v3_Boulder_Text_first_month.csv', sep=',', encoding='utf-8', index=False)"
   ]
  },
  {
   "cell_type": "markdown",
   "id": "dc440287-6327-463c-bd2b-4fcdc09c56ce",
   "metadata": {},
   "source": [
    "## Second Month"
   ]
  },
  {
   "cell_type": "code",
   "execution_count": null,
   "id": "1b28ea94-5792-4df6-a465-bde0c9b078b0",
   "metadata": {},
   "outputs": [],
   "source": [
    "boulder_sm, boulder_sm_sample = addCol_takeSample(boulder_sm)\n",
    "boulder_sm_sample[['text', 'publish_date']]"
   ]
  },
  {
   "cell_type": "code",
   "execution_count": null,
   "id": "da340c74-da60-43e4-9748-065496a602f5",
   "metadata": {},
   "outputs": [],
   "source": [
    "# v3_Boulder_second_month, verified_Boulder_second_moth_sample = update_labels(boulder_sm, boulder_sm_sample)"
   ]
  },
  {
   "cell_type": "code",
   "execution_count": null,
   "id": "b02c6b34-b6d4-44b4-9c72-6b79b992dc15",
   "metadata": {},
   "outputs": [],
   "source": [
    "# v3_Boulder_second_month.to_csv('v3_Boulder_Text_second_month.csv', sep=',', encoding='utf-8', index=False)\n",
    "# verified_Boulder_second_moth_sample.to_csv('v3_gs_Boulder_second_month.csv', sep=',', encoding='utf-8', index=False)"
   ]
  },
  {
   "cell_type": "markdown",
   "id": "74054a62-1478-409b-a707-5945ab8b9939",
   "metadata": {},
   "source": [
    "## Third Month"
   ]
  },
  {
   "cell_type": "code",
   "execution_count": null,
   "id": "2466257c-79ba-4f1d-8e9a-eacf8f6e9a5c",
   "metadata": {},
   "outputs": [],
   "source": [
    "boulder_tm, boulder_tm_sample = addCol_takeSample(boulder_tm)\n",
    "boulder_tm_sample[['text', 'publish_date']]"
   ]
  },
  {
   "cell_type": "code",
   "execution_count": null,
   "id": "b07f7de8-d61a-49c9-8ca0-3ce86f0523b5",
   "metadata": {},
   "outputs": [],
   "source": [
    "# v3_Boulder_third_month, verified_Boulder_third_moth_sample = update_labels(boulder_tm, boulder_tm_sample)"
   ]
  },
  {
   "cell_type": "code",
   "execution_count": null,
   "id": "6aa98d40-d618-4d70-ba9b-db0bfa127cf3",
   "metadata": {},
   "outputs": [],
   "source": [
    "# v3_Boulder_third_month.to_csv('v3_Boulder_Text_third_month.csv', sep=',', encoding='utf-8', index=False)\n",
    "# verified_Boulder_third_moth_sample.to_csv('v3_gs_Boulder_third_month.csv', sep=',', encoding='utf-8', index=False)"
   ]
  },
  {
   "cell_type": "markdown",
   "id": "f7d6b84d-231f-4f7a-bb50-daacf4d12f97",
   "metadata": {},
   "source": [
    "# DC Shooting"
   ]
  },
  {
   "cell_type": "code",
   "execution_count": null,
   "id": "424b1a36-8551-45d0-9519-2b63d672d9df",
   "metadata": {},
   "outputs": [],
   "source": [
    "path_DC_1 = path + 'v2-DC_Text-first-month.csv'\n",
    "path_DC_2 = path + 'v2-DC_Text-second-month.csv'\n",
    "path_DC_3 = path + 'v2-DC_Text-third-month.csv'\n",
    "\n",
    "DC_fm = pd.read_csv(path_DC_1, index_col=False)\n",
    "DC_sm = pd.read_csv(path_DC_2, index_col=False)\n",
    "DC_tm = pd.read_csv(path_DC_3, index_col=False)"
   ]
  },
  {
   "cell_type": "markdown",
   "id": "50e016c5-64de-4bdb-ad1a-269f7971a86c",
   "metadata": {},
   "source": [
    "## First Month"
   ]
  },
  {
   "cell_type": "code",
   "execution_count": null,
   "id": "f460fef0-8a5a-4ba9-967f-e01ada7c5bfb",
   "metadata": {},
   "outputs": [],
   "source": [
    "DC_fm, DC_fm_sample = addCol_takeSample(DC_fm)\n",
    "DC_fm_sample[['text', 'publish_date']]"
   ]
  },
  {
   "cell_type": "code",
   "execution_count": null,
   "id": "64f8415b-1c16-4c40-84bd-f01d42a98a56",
   "metadata": {},
   "outputs": [],
   "source": [
    "# v3_DC_first_month, verified_DC_first_moth_sample = update_labels(DC_fm, DC_fm_sample)"
   ]
  },
  {
   "cell_type": "code",
   "execution_count": null,
   "id": "f23d61c7-e8c6-4224-bca0-ef01635772b6",
   "metadata": {},
   "outputs": [],
   "source": [
    "# v3_DC_first_month.to_csv('v3_DC_Text_first_month.csv', sep=',', encoding='utf-8', index=False)\n",
    "# verified_DC_first_moth_sample.to_csv('v3_gs_DC_first_month.csv', sep=',', encoding='utf-8', index=False)"
   ]
  },
  {
   "cell_type": "markdown",
   "id": "672ea934-f49b-4dd9-8c2f-a6c442268784",
   "metadata": {},
   "source": [
    "## Second Month"
   ]
  },
  {
   "cell_type": "code",
   "execution_count": null,
   "id": "7ca7e63e-ad3e-436f-90ed-3bc05dbd9c7f",
   "metadata": {},
   "outputs": [],
   "source": [
    "DC_sm, DC_sm_sample = addCol_takeSample(DC_sm)\n",
    "DC_sm_sample[['text', 'publish_date']]"
   ]
  },
  {
   "cell_type": "code",
   "execution_count": null,
   "id": "cdc78881-ee8f-495f-ab4a-1fc581d083b8",
   "metadata": {},
   "outputs": [],
   "source": [
    "# v3_DC_second_month, verified_DC_second_moth_sample = update_labels(DC_sm, DC_sm_sample)"
   ]
  },
  {
   "cell_type": "code",
   "execution_count": null,
   "id": "60bdf88c-df68-4006-ac77-c04d9cd44e3d",
   "metadata": {},
   "outputs": [],
   "source": [
    "# v3_DC_second_month.to_csv('v3_DC_Text_second_month.csv', sep=',', encoding='utf-8', index=False)\n",
    "# verified_DC_second_moth_sample.to_csv('v3_gs_DC_second_month.csv', sep=',', encoding='utf-8', index=False)"
   ]
  },
  {
   "cell_type": "markdown",
   "id": "aef08e08-0b21-4fa2-9215-4fa209fa75c3",
   "metadata": {},
   "source": [
    "## Third Month"
   ]
  },
  {
   "cell_type": "code",
   "execution_count": null,
   "id": "1cde1228-9c0e-45bb-97cd-4585cf139b99",
   "metadata": {},
   "outputs": [],
   "source": [
    "DC_tm, DC_tm_sample = addCol_takeSample(DC_tm)\n",
    "DC_tm_sample[['text', 'publish_date']]"
   ]
  },
  {
   "cell_type": "code",
   "execution_count": null,
   "id": "4b85e333-e041-460f-8f18-a96fd21c23ad",
   "metadata": {},
   "outputs": [],
   "source": [
    "# v3_DC_third_month, verified_DC_third_moth_sample = update_labels(DC_tm, DC_tm_sample)"
   ]
  },
  {
   "cell_type": "code",
   "execution_count": null,
   "id": "7cdd6556-f1b1-43f9-84ed-e45d98e41054",
   "metadata": {},
   "outputs": [],
   "source": [
    "# v3_DC_third_month.to_csv('v3_DC_Text_third_month.csv', sep=',', encoding='utf-8', index=False)\n",
    "# verified_DC_third_moth_sample.to_csv('v3_gs_DC_third_month.csv', sep=',', encoding='utf-8', index=False)"
   ]
  },
  {
   "cell_type": "markdown",
   "id": "8f8e447c-a39a-4bdb-bf40-1dfac7ff4e81",
   "metadata": {},
   "source": [
    "# Houston Shooting"
   ]
  },
  {
   "cell_type": "code",
   "execution_count": null,
   "id": "8bb1932b-f36f-4ee8-8a1a-98b13435f6ee",
   "metadata": {},
   "outputs": [],
   "source": [
    "path_houston_1 = path + 'v2-Houston_Text-first-month.csv'\n",
    "path_houston_2 = path + 'v2-Houston_Text-second-month.csv'\n",
    "path_houston_3 = path + 'v2-Houston_Text-third-month.csv'\n",
    "\n",
    "houston_fm = pd.read_csv(path_houston_1, index_col=False)\n",
    "houston_sm = pd.read_csv(path_houston_2, index_col=False)\n",
    "houston_tm = pd.read_csv(path_houston_3, index_col=False)"
   ]
  },
  {
   "cell_type": "markdown",
   "id": "bbbb048f-f101-4f6c-9f75-2b9c4b8cb7d5",
   "metadata": {},
   "source": [
    "## First Month"
   ]
  },
  {
   "cell_type": "code",
   "execution_count": null,
   "id": "41fb1130-1b92-4035-ab50-a63dbbe3eeb3",
   "metadata": {},
   "outputs": [],
   "source": [
    "houston_fm, houston_fm_sample = addCol_takeSample(houston_fm)\n",
    "houston_fm_sample[['text', 'publish_date']]"
   ]
  },
  {
   "cell_type": "code",
   "execution_count": null,
   "id": "e9f77d48-0c1c-48bb-99da-89282f3d6f31",
   "metadata": {},
   "outputs": [],
   "source": [
    "# v3_houston_first_month, verified_houston_first_moth_sample = update_labels(houston_fm, houston_fm_sample)\n"
   ]
  },
  {
   "cell_type": "code",
   "execution_count": null,
   "id": "24e16caa-9dba-47e3-bd1c-e9cbb2928ecd",
   "metadata": {},
   "outputs": [],
   "source": [
    "# v3_houston_first_month.to_csv('v3_Houston_Text_first_month.csv', sep=',', encoding='utf-8', index=False)\n",
    "# verified_houston_first_moth_sample.to_csv('v3_gs_Houston_first_month.csv', sep=',', encoding='utf-8', index=False)"
   ]
  },
  {
   "cell_type": "markdown",
   "id": "4882fef4-3db4-4dd8-9b14-6ab436cf981b",
   "metadata": {},
   "source": [
    "## Second Month"
   ]
  },
  {
   "cell_type": "code",
   "execution_count": null,
   "id": "eb1c334f-7402-4f87-bc8c-49504d0f43a4",
   "metadata": {},
   "outputs": [],
   "source": [
    "houston_sm, houston_sm_sample = addCol_takeSample(houston_sm)\n",
    "houston_sm_sample[['text', 'publish_date']]"
   ]
  },
  {
   "cell_type": "code",
   "execution_count": null,
   "id": "1aea9498-ee94-4eea-a536-1c9c5cf92e49",
   "metadata": {},
   "outputs": [],
   "source": [
    "# v3_houston_second_month, verified_houston_second_moth_sample = update_labels(houston_sm, houston_sm_sample)"
   ]
  },
  {
   "cell_type": "code",
   "execution_count": null,
   "id": "6bbfba2d-16e8-4130-a50d-53bbd996de65",
   "metadata": {},
   "outputs": [],
   "source": [
    "# v3_houston_second_month.to_csv('v3_Houston_Text_second_month.csv', sep=',', encoding='utf-8', index=False)\n",
    "# verified_houston_second_moth_sample.to_csv('v3_gs_Houston_second_month.csv', sep=',', encoding='utf-8', index=False)"
   ]
  },
  {
   "cell_type": "markdown",
   "id": "85c265b1-c122-4a60-a86e-674c59974617",
   "metadata": {},
   "source": [
    "## Third Month"
   ]
  },
  {
   "cell_type": "code",
   "execution_count": null,
   "id": "d5c3c069-a563-43e4-8e52-90ce63d0d745",
   "metadata": {},
   "outputs": [],
   "source": [
    "houston_tm, houston_tm_sample = addCol_takeSample(houston_tm)\n",
    "houston_tm_sample[['text', 'publish_date']]"
   ]
  },
  {
   "cell_type": "code",
   "execution_count": null,
   "id": "0a091938-7b88-4f9a-a6d6-1f43199bc96a",
   "metadata": {},
   "outputs": [],
   "source": [
    "# v3_houston_third_month, verified_houston_third_moth_sample = update_labels(houston_tm, houston_tm_sample)"
   ]
  },
  {
   "cell_type": "code",
   "execution_count": null,
   "id": "c40afe6c-6367-4745-be27-eed44b3df64a",
   "metadata": {},
   "outputs": [],
   "source": [
    "# v3_houston_third_month.to_csv('v3_Houston_Text_third_month.csv', sep=',', encoding='utf-8', index=False)\n",
    "# verified_houston_third_moth_sample.to_csv('v3_gs_Houston_third_month.csv', sep=',', encoding='utf-8', index=False)"
   ]
  },
  {
   "cell_type": "markdown",
   "id": "68e89860-31ad-42e4-9553-752a0126dfdc",
   "metadata": {},
   "source": [
    "# Odessa shooting"
   ]
  },
  {
   "cell_type": "code",
   "execution_count": null,
   "id": "91e1bfe9-1374-4521-9e77-5bf66afd255e",
   "metadata": {},
   "outputs": [],
   "source": [
    "path_odessa_1 = path + 'v2-Odessa_Text-first-month.csv'\n",
    "path_odessa_2 = path + 'v2-Odessa_Text-second-month.csv'\n",
    "path_odessa_3 = path + 'v2-Odessa_Text-third-month.csv'\n",
    "\n",
    "odessa_fm = pd.read_csv(path_odessa_1, index_col=False)\n",
    "odessa_sm = pd.read_csv(path_odessa_2, index_col=False)\n",
    "odessa_tm = pd.read_csv(path_odessa_3, index_col=False)"
   ]
  },
  {
   "cell_type": "markdown",
   "id": "ac0f01bb-168b-4003-a79e-875e8cffe88d",
   "metadata": {},
   "source": [
    "## First Month"
   ]
  },
  {
   "cell_type": "code",
   "execution_count": null,
   "id": "c1de0cfd-f283-48fc-9a37-bb06d5b7496c",
   "metadata": {},
   "outputs": [],
   "source": [
    "odessa_fm, odessa_fm_sample = addCol_takeSample(odessa_fm)\n",
    "odessa_fm_sample[['text', 'publish_date']]"
   ]
  },
  {
   "cell_type": "code",
   "execution_count": null,
   "id": "cef97135-d218-4588-aadd-4f2a45d1fff7",
   "metadata": {},
   "outputs": [],
   "source": [
    "# v3_odessa_first_month, verified_odessa_first_moth_sample = update_labels(odessa_fm, odessa_fm_sample)"
   ]
  },
  {
   "cell_type": "code",
   "execution_count": null,
   "id": "71127e6b-da0e-4907-9624-b3a11b9b2194",
   "metadata": {},
   "outputs": [],
   "source": [
    "# v3_odessa_first_month.to_csv('v3_Odessa_Text_first_month.csv', sep=',', encoding='utf-8', index=False)\n",
    "# verified_odessa_first_moth_sample.to_csv('v3_gs_Odessa_first_month.csv', sep=',', encoding='utf-8', index=False)"
   ]
  },
  {
   "cell_type": "markdown",
   "id": "434b8f6a-1076-4bc9-bc23-2872f7a5c253",
   "metadata": {},
   "source": [
    "## Second Month"
   ]
  },
  {
   "cell_type": "code",
   "execution_count": null,
   "id": "57462323-bd14-427e-91ab-8189dbc0a379",
   "metadata": {},
   "outputs": [],
   "source": [
    "odessa_sm, odessa_sm_sample = addCol_takeSample(odessa_sm)\n",
    "odessa_sm_sample[['text', 'publish_date']]"
   ]
  },
  {
   "cell_type": "code",
   "execution_count": null,
   "id": "512479dd-389b-45ab-8e86-4665c0e2a4e7",
   "metadata": {},
   "outputs": [],
   "source": [
    "# v3_odessa_second_month, verified_odessa_second_moth_sample = update_labels(odessa_sm, odessa_sm_sample)"
   ]
  },
  {
   "cell_type": "code",
   "execution_count": null,
   "id": "2c5ee74c-7d85-46d4-8859-e66aa7e6ca67",
   "metadata": {},
   "outputs": [],
   "source": [
    "# v3_odessa_second_month.to_csv('v3_Odessa_Text_second_month.csv', sep=',', encoding='utf-8', index=False)\n",
    "# verified_odessa_second_moth_sample.to_csv('v3_gs_Odessa_second_month.csv', sep=',', encoding='utf-8', index=False)"
   ]
  },
  {
   "cell_type": "markdown",
   "id": "80a8022d-cd45-4431-a65c-4c55e1c840c4",
   "metadata": {},
   "source": [
    "## Third Month"
   ]
  },
  {
   "cell_type": "code",
   "execution_count": null,
   "id": "a06f8d6d-461a-4775-b9e3-3ed88244c29f",
   "metadata": {},
   "outputs": [],
   "source": [
    "odessa_tm, odessa_tm_sample = addCol_takeSample(odessa_tm)\n",
    "odessa_tm_sample[['text', 'publish_date']]"
   ]
  },
  {
   "cell_type": "code",
   "execution_count": null,
   "id": "e1087654-e9ee-4489-a13c-15bc43ba4de2",
   "metadata": {},
   "outputs": [],
   "source": [
    "# v3_odessa_third_month, verified_odessa_third_moth_sample = update_labels(odessa_tm, odessa_tm_sample)"
   ]
  },
  {
   "cell_type": "code",
   "execution_count": null,
   "id": "9c0120ee-5eff-4bcb-ada7-a0092fa8fcd8",
   "metadata": {},
   "outputs": [],
   "source": [
    "# v3_odessa_third_month.to_csv('v3_Odessa_Text_third_month.csv', sep=',', encoding='utf-8', index=False)\n",
    "# verified_odessa_third_moth_sample.to_csv('v3_gs_Odessa_third_month.csv', sep=',', encoding='utf-8', index=False)"
   ]
  },
  {
   "cell_type": "markdown",
   "id": "7dfcaec5-ca64-4152-b5e2-4ff773b41fda",
   "metadata": {},
   "source": [
    "# Pittsburgh Shooting"
   ]
  },
  {
   "cell_type": "code",
   "execution_count": null,
   "id": "7c1cc6fd-5cf9-46f1-9148-a8b410a4c694",
   "metadata": {},
   "outputs": [],
   "source": [
    "path_pittsburgh_1 = path + 'v2-Pittsburgh_Text-first-month.csv'\n",
    "path_pittsburgh_2 = path + 'v2-Pittsburgh_Text-second-month.csv'\n",
    "path_pittsburgh_3 = path + 'v2-Pittsburgh_Text-third-month.csv'\n",
    "\n",
    "pittsburgh_fm = pd.read_csv(path_pittsburgh_1, index_col=False)\n",
    "pittsburgh_sm = pd.read_csv(path_pittsburgh_2, index_col=False)\n",
    "pittsburgh_tm = pd.read_csv(path_pittsburgh_3, index_col=False)"
   ]
  },
  {
   "cell_type": "markdown",
   "id": "92bed440-ee11-4067-bf1d-ef1cc114ad5a",
   "metadata": {},
   "source": [
    "## First Month"
   ]
  },
  {
   "cell_type": "code",
   "execution_count": null,
   "id": "90465db3-e2ee-4b02-91fc-f4ff7a8673e3",
   "metadata": {},
   "outputs": [],
   "source": [
    "pittsburgh_fm, pittsburgh_fm_sample = addCol_takeSample(pittsburgh_fm)\n",
    "pittsburgh_fm_sample[['text', 'publish_date']]"
   ]
  },
  {
   "cell_type": "code",
   "execution_count": null,
   "id": "a8dff802-1b80-47b4-98b5-f4c1ce02a486",
   "metadata": {},
   "outputs": [],
   "source": [
    "# v3_pittsburgh_first_month, verified_pittsburgh_first_moth_sample = update_labels(pittsburgh_fm, pittsburgh_fm_sample)"
   ]
  },
  {
   "cell_type": "code",
   "execution_count": null,
   "id": "4246ee3a-e6bd-49b7-8329-79f4cd3f222b",
   "metadata": {},
   "outputs": [],
   "source": [
    "# v3_pittsburgh_first_month.to_csv('v3_Pittsburgh_Text_first_month.csv', sep=',', encoding='utf-8', index=False)\n",
    "# verified_pittsburgh_first_moth_sample.to_csv('v3_gs_Pittsburgh_first_month.csv', sep=',', encoding='utf-8', index=False)"
   ]
  },
  {
   "cell_type": "markdown",
   "id": "d8d711ae-ef77-4f0a-a519-94aa873c7f11",
   "metadata": {},
   "source": [
    "## Second Month"
   ]
  },
  {
   "cell_type": "code",
   "execution_count": null,
   "id": "0e98fae0-d3c6-4bbd-b415-ad3e57c638ba",
   "metadata": {},
   "outputs": [],
   "source": [
    "pittsburgh_sm, pittsburgh_sm_sample = addCol_takeSample(pittsburgh_sm)\n",
    "pittsburgh_sm_sample[['text', 'publish_date']]"
   ]
  },
  {
   "cell_type": "code",
   "execution_count": null,
   "id": "844761e1-c648-49b3-9078-752b2f650af8",
   "metadata": {},
   "outputs": [],
   "source": [
    "# v3_pittsburgh_second_month, verified_pittsburgh_second_moth_sample = update_labels(pittsburgh_sm, pittsburgh_sm_sample)"
   ]
  },
  {
   "cell_type": "code",
   "execution_count": null,
   "id": "87f947e7-920f-4679-9920-85d12e6b3779",
   "metadata": {},
   "outputs": [],
   "source": [
    "# v3_pittsburgh_second_month.to_csv('v3_Pittsburgh_Text_second_month.csv', sep=',', encoding='utf-8', index=False)\n",
    "# verified_pittsburgh_second_moth_sample.to_csv('v3_gs_Pittsburgh_second_month.csv', sep=',', encoding='utf-8', index=False)"
   ]
  },
  {
   "cell_type": "markdown",
   "id": "959605be-56ab-4ccf-b3f3-b0f78c821929",
   "metadata": {},
   "source": [
    "## Third Month"
   ]
  },
  {
   "cell_type": "code",
   "execution_count": null,
   "id": "f1177d8a-4973-491a-9019-7c26cbfa0350",
   "metadata": {},
   "outputs": [],
   "source": [
    "pittsburgh_tm, pittsburgh_tm_sample = addCol_takeSample(pittsburgh_tm)\n",
    "pittsburgh_tm_sample[['text', 'publish_date']]"
   ]
  },
  {
   "cell_type": "code",
   "execution_count": null,
   "id": "7d8c133b-1643-4c9c-bca3-2cffc1216962",
   "metadata": {},
   "outputs": [],
   "source": [
    "# v3_pittsburgh_third_month, verified_pittsburgh_third_moth_sample = update_labels(pittsburgh_tm, pittsburgh_tm_sample)"
   ]
  },
  {
   "cell_type": "code",
   "execution_count": null,
   "id": "b126bddc-9f1d-4d70-a2ba-b36a89d81204",
   "metadata": {},
   "outputs": [],
   "source": [
    "# v3_pittsburgh_third_month.to_csv('v3_Pittsburgh_Text_third_month.csv', sep=',', encoding='utf-8', index=False)\n",
    "# verified_pittsburgh_third_moth_sample.to_csv('v3_gs_Pittsburgh_third_month.csv', sep=',', encoding='utf-8', index=False)"
   ]
  }
 ],
 "metadata": {
  "kernelspec": {
   "display_name": "Python 3",
   "language": "python",
   "name": "python3"
  },
  "language_info": {
   "codemirror_mode": {
    "name": "ipython",
    "version": 3
   },
   "file_extension": ".py",
   "mimetype": "text/x-python",
   "name": "python",
   "nbconvert_exporter": "python",
   "pygments_lexer": "ipython3",
   "version": "3.8.8"
  }
 },
 "nbformat": 4,
 "nbformat_minor": 5
}
