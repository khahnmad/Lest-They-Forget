{
 "cells": [
  {
   "cell_type": "code",
   "execution_count": null,
   "id": "9d20e358-3f96-41e1-a017-1056d6b3a345",
   "metadata": {},
   "outputs": [],
   "source": [
    "import pandas as pd\n",
    "import numpy as np\n",
    "import random\n",
    "import copy\n",
    "import webbrowser\n",
    "\n",
    "random.seed(33)\n",
    "pd.set_option('display.max_rows', None) \n",
    "path='../newspaper-text/'\n",
    "\n",
    "all_info = ['Plano', \"spencer hight\", \"dallas cowboys\", 'meredith hight', \"dallas\", \"plano\", \"sunday\", \"caleb edwards\", \"deffner\", \"rushin\", 'texas', 'spencer','hight',\n",
    "                 'Pittsburgh', \"pittsburgh\",\"synagogue\",\"bowers\",\"tree of life\",\"squirrel hill\",\"jewish\",\"anti-semitism\",\"jews\",'bowers',\n",
    "                 'Vegas', 'paddock', \"mandalay bay hotel\", \"route 91 harvest\", \"las vegas\", \"aldean\", \"concert\", \"mesquite\", \"hotel\", \"lombardo\",\n",
    "                 'SanBernadino', 'syed','rizwan','farook','tashfeen','malik','SUV',\"inland regional center\",\"san bernardino\",\"redlands\",\"christmas party\",\"public health department\",\"bomb\", 'pakistani',\n",
    "                 'Houston', 'david', 'conley', ' ray', 'harris county' ,'ex-girlfriend' ,'houston', 'saturday', 'valerie jackson', 'window', 'black', 'arrested',\n",
    "                 'Odessa', 'saturday','midland','odessa','seth','aaron',' ator ','west texas','traffic stop','white van','movie theater','random','white',\n",
    "                 'Bogue', 'willie',' cory ','godbolt','arrested','lincoln county','bogue chitto','brookhaven','barbara mitchell', 'bogue', 'chitto',\n",
    "                 'DC', 'washington navy yard','aaron alexis','monday','contractor','12 people', 'aaron', 'alexis',\n",
    "                 'Boulder', 'king soopers','boulder','ahmad','aliwi','alissa', 'al-issa','arrested','9mm handgun','table mesa drive','eric talley','boulder police','monday','in custody', 'syrian',\n",
    "                 'VirginiaBeach', 'virginia beach','dewayne','craddock','employee','nettleton','.45-caliber','engineer','municipal'\n",
    "                ]\n"
   ]
  },
  {
   "cell_type": "code",
   "execution_count": null,
   "id": "3299b721-3b65-4da5-9a4a-2bb9a4df15a3",
   "metadata": {},
   "outputs": [],
   "source": [
    "def addCol_takeSample(df):\n",
    "    '''\n",
    "    parameter: DataFrame\n",
    "    Returns: Two dataframes:\n",
    "                        - with two additional columns, verified_article: if not Nan, it belongs to the gold standard subset.\n",
    "                                                       Corresponds_to: if not Nan, the article corresponds to another shooting.\n",
    "                        - It takes 2% of the articles as sample to be be verified.\n",
    "    '''\n",
    "    df['verified_article'] = np.nan\n",
    "    df['corresponds_to'] = np.nan\n",
    "    \n",
    "    sample = df.sample(frac=0.02, random_state=33)\n",
    "    return df, sample\n",
    "\n",
    "\n",
    "def update_labels(df, df_sample):\n",
    "    '''\n",
    "    parameters: A dataframe, and its subset.\n",
    "    Returns: Updates the state of the 'verified_article' and 'corresponds_to' columns\n",
    "    '''\n",
    "    df_update = copy.deepcopy(df)\n",
    "    df_sample_update = copy.deepcopy(df_sample)\n",
    "    \n",
    "    for i, row in df_sample.iterrows():\n",
    "        \n",
    "        print(row.url)\n",
    "        webbrowser.open(row.url)\n",
    "        \n",
    "        print('open text here?')\n",
    "        op = input()\n",
    "        \n",
    "        if op == 'o':\n",
    "            print(row.text)\n",
    "        \n",
    "        reply = input()\n",
    "        \n",
    "        if reply == 'j': \n",
    "            print(f'article number {i} IS related to this shooting.' )\n",
    "            df_update.at[i, ['verified_article']] = 'related'\n",
    "            df_sample_update.at[i, ['verified_article']] = 'related'\n",
    "            \n",
    "            also_related = input()\n",
    "            if also_related == 'aj':\n",
    "                about = input()\n",
    "                print(f'article number {i} is about the shooting : {about}')\n",
    "                df_update.at[i, ['corresponds_to']] = f'{about}'\n",
    "                df_sample_update.at[i, ['corresponds_to']] = f'{about}'\n",
    "            \n",
    "                \n",
    "        if reply == 'm':\n",
    "            print(f'article number {i} IS NOT related to the shooting.')\n",
    "            \n",
    "            about = input()\n",
    "            print(f'article number {i} IS about the shooting : {about}')\n",
    "            df_update.at[i, ['verified_article']] = 'not-related'\n",
    "            df_sample_update.at[i, ['verified_article']] = 'not-related'\n",
    "            df_update.at[i, ['corresponds_to']] = f'{about}'\n",
    "            df_sample_update.at[i, ['corresponds_to']] = f'{about}'\n",
    "            \n",
    "        if reply == 'k':\n",
    "            print(f'article number {i} IS NOT related to the shooting, no other shooting mentioned')\n",
    "            df_update.at[i, ['verified_article']] = 'not-related'\n",
    "            df_sample_update.at[i, ['verified_article']] = 'not-related'\n",
    "            \n",
    "    return df_update, df_sample_update"
   ]
  },
  {
   "cell_type": "code",
   "execution_count": null,
   "id": "1a822786-c105-46be-8210-146cf46c8def",
   "metadata": {},
   "outputs": [],
   "source": [
    "def initial_check(df, shooting_name, all_info):\n",
    "\n",
    "    for ids, row in df.iterrows():\n",
    "        print(row[0], row.url)\n",
    "        text = row.text\n",
    "\n",
    "        cntr = 0\n",
    "\n",
    "        for word in shooting_info:\n",
    "            if word in text:\n",
    "                cntr += 1\n",
    "#                 check_event.append(word)\n",
    "                print(word)\n",
    "\n",
    "        for event in all_info:\n",
    "            if event in text:\n",
    "                print(event)\n",
    "#                 check_all.append(event)\n",
    "\n",
    "        if cntr == 0:\n",
    "            print('unrelated')\n",
    "        \n",
    "        print('------------------')\n",
    "\n",
    "#     return check_all, check_event\n"
   ]
  },
  {
   "cell_type": "markdown",
   "id": "5289a97c-8019-4571-a661-9782e2c7e427",
   "metadata": {},
   "source": [
    "# Las Vegas Shooting"
   ]
  },
  {
   "cell_type": "code",
   "execution_count": null,
   "id": "d01f86cb-8a05-448a-a4c6-53c65961ec9e",
   "metadata": {},
   "outputs": [],
   "source": [
    "path_vegas_1 = path + 'v2-Plano_Text-first-month.csv'\n",
    "path_vegas_2 = path + 'v2-Plano_Text-second-month.csv'\n",
    "path_vegas_3 = path + 'v2-Plano_Text-third-month.csv'\n",
    "\n",
    "vegas_fm = pd.read_csv(path_vegas_1, index_col=False)\n",
    "vegas_sm = pd.read_csv(path_vegas_2, index_col=False)\n",
    "vegas_tm = pd.read_csv(path_vegas_3, index_col=False)\n",
    "\n",
    "shooting_info = ['Vegas', \"paddock\", \"mandalay bay hotel\", \"route 91 harvest\", \"las vegas\", \"aldean\", \"concert\", \"mesquite\", \"hotel\", \"lombardo\"]"
   ]
  },
  {
   "cell_type": "markdown",
   "id": "b7b669f2-6c40-4e22-bb2c-13ee6ee1f826",
   "metadata": {},
   "source": [
    "## First Month"
   ]
  },
  {
   "cell_type": "code",
   "execution_count": null,
   "id": "04063b22-84d6-45d8-a964-f4c7548b7d93",
   "metadata": {},
   "outputs": [],
   "source": [
    "vegas_fm, vegas_fm_sample = addCol_takeSample(vegas_fm)\n",
    "vegas_fm_sample[['text', 'publish_date']]"
   ]
  },
  {
   "cell_type": "code",
   "execution_count": null,
   "id": "61d134cf-cefc-43a4-b8d2-b4d6df10491c",
   "metadata": {},
   "outputs": [],
   "source": [
    "# initial_check(vegas_fm_sample, shooting_info , all_info)"
   ]
  },
  {
   "cell_type": "code",
   "execution_count": null,
   "id": "4b421fe9-7b4a-4027-92f4-a3d13d172017",
   "metadata": {},
   "outputs": [],
   "source": [
    "# v3_vegas_first_month, verified_vegas_first_month_sample = update_labels(vegas_fm, vegas_fm_sample)"
   ]
  },
  {
   "cell_type": "code",
   "execution_count": null,
   "id": "eb6187bf-002d-4d6e-bc64-084332c85565",
   "metadata": {},
   "outputs": [],
   "source": [
    "# v3_vegas_first_month.to_csv('v3-Las-Vegas_Text_first_month.csv', sep=',', encoding='utf-8', index=False)\n",
    "# verified_vegas_first_month_sample.to_csv('v3-gs_Las-Vegas_first_month.csv', sep=',', encoding='utf-8', index=False)"
   ]
  },
  {
   "cell_type": "markdown",
   "id": "fc38e3d9-201b-4328-be17-23a1ed2b0e67",
   "metadata": {},
   "source": [
    "## Second Month"
   ]
  },
  {
   "cell_type": "code",
   "execution_count": null,
   "id": "f99c3d45-d86d-4ffa-bc9d-3cfadfe79e16",
   "metadata": {},
   "outputs": [],
   "source": [
    "vegas_sm, vegas_sm_sample = addCol_takeSample(vegas_sm)\n",
    "# vegas_sm_sample[['text', 'publish_date']]"
   ]
  },
  {
   "cell_type": "code",
   "execution_count": null,
   "id": "7ff61a78-4fe5-4d3a-8f0b-87276cdb3f14",
   "metadata": {},
   "outputs": [],
   "source": [
    "# initial_check(vegas_sm_sample, shooting_info, all_info )"
   ]
  },
  {
   "cell_type": "code",
   "execution_count": null,
   "id": "8db3f8db-0983-47b1-93db-b0ed8538c7ea",
   "metadata": {},
   "outputs": [],
   "source": [
    "# v3_vegas_second_month, verified_vegas_second_moth_sample = update_labels(vegas_sm, vegas_sm_sample)"
   ]
  },
  {
   "cell_type": "code",
   "execution_count": null,
   "id": "15f7c4ee-8ff9-4e4f-baf7-a5be8c7a8a34",
   "metadata": {},
   "outputs": [],
   "source": [
    "# v3_vegas_second_month.to_csv('v3-Las-Vegas_Text_second_month.csv', sep=',', encoding='utf-8', index=False)\n",
    "# verified_vegas_second_moth_sample.to_csv('v3-gs_Las-Vegas_second_month.csv', sep=',', encoding='utf-8', index=False)"
   ]
  },
  {
   "cell_type": "markdown",
   "id": "c0d1df88-6d0b-4cdd-8b5e-35cbd3b2415f",
   "metadata": {},
   "source": [
    "## Third Month"
   ]
  },
  {
   "cell_type": "code",
   "execution_count": null,
   "id": "cd16aeab-25cb-4c09-a2e8-54d89e5cc510",
   "metadata": {},
   "outputs": [],
   "source": [
    "vegas_tm, vegas_tm_sample = addCol_takeSample(vegas_tm)\n",
    "vegas_tm_sample[['text', 'publish_date']]"
   ]
  },
  {
   "cell_type": "code",
   "execution_count": null,
   "id": "8923ab3d-da7d-4607-9a01-347cd4b5c1b9",
   "metadata": {},
   "outputs": [],
   "source": [
    "# v3_vegas_third_month, verified_vegas_third_moth_sample = update_labels(vegas_tm, vegas_tm_sample)"
   ]
  },
  {
   "cell_type": "code",
   "execution_count": null,
   "id": "c79b6818-ffc9-48b7-9d8b-d094225d97e1",
   "metadata": {},
   "outputs": [],
   "source": [
    "# initial_check(vegas_tm_sample, shooting_info, all_info )"
   ]
  },
  {
   "cell_type": "code",
   "execution_count": null,
   "id": "b4affd4f-e527-464d-9359-5b96ccdf819c",
   "metadata": {},
   "outputs": [],
   "source": [
    "# v3_vegas_third_month.to_csv('v3-Las-Vegas_Text_third_month.csv', sep=',', encoding='utf-8', index=False)\n",
    "# verified_vegas_third_moth_sample.to_csv('v3-gs_Las-Vegas_third_month.csv', sep=',', encoding='utf-8', index=False)"
   ]
  },
  {
   "cell_type": "markdown",
   "id": "4c74743a-b176-499f-a6f5-29cb00cf36d6",
   "metadata": {},
   "source": [
    "# Virginia Beach Shooting"
   ]
  },
  {
   "cell_type": "code",
   "execution_count": null,
   "id": "9bb92692-5fa4-4892-bfa6-20a9a149556f",
   "metadata": {},
   "outputs": [],
   "source": [
    "path_virginia_1 = path + 'v2-VirginiaBeach_Text-first-month.csv'\n",
    "path_virginia_2 = path + 'v2-VirginiaBeach_Text-second-month.csv'\n",
    "path_virginia_3 = path + 'v2-VirginiaBeach_Text-third-month.csv'\n",
    "\n",
    "virginia_fm = pd.read_csv(path_virginia_1, index_col=False)\n",
    "virginia_sm = pd.read_csv(path_virginia_2, index_col=False)\n",
    "virginia_tm = pd.read_csv(path_virginia_3, index_col=False)\n",
    "\n",
    "shooting_info = ['VirginiaBeach', 'virginia beach','dewayne','craddock','employee','nettleton','.45-caliber','engineer','municipal']"
   ]
  },
  {
   "cell_type": "markdown",
   "id": "192f19df-7209-438f-8602-9f3d19322f98",
   "metadata": {},
   "source": [
    "## First Month"
   ]
  },
  {
   "cell_type": "code",
   "execution_count": null,
   "id": "20f18d0e-e796-4844-98c2-3c905f4f012a",
   "metadata": {},
   "outputs": [],
   "source": [
    "virginia_fm, virginia_fm_sample = addCol_takeSample(virginia_fm)\n",
    "virginia_fm_sample[['text', 'publish_date']]"
   ]
  },
  {
   "cell_type": "code",
   "execution_count": null,
   "id": "a3663854-c008-4d79-a02e-345486ebd32d",
   "metadata": {},
   "outputs": [],
   "source": [
    "# initial_check(virginia_fm_sample, shooting_info , all_info)"
   ]
  },
  {
   "cell_type": "code",
   "execution_count": null,
   "id": "221a3816-74cb-42d9-861f-5285eee9ae8b",
   "metadata": {},
   "outputs": [],
   "source": [
    "# v3_virginia_first_month, verified_virginia_first_month_sample = update_labels(virginia_fm, virginia_fm_sample)"
   ]
  },
  {
   "cell_type": "code",
   "execution_count": null,
   "id": "fe3c8d76-4c64-4f6f-b4b4-43e58a9a07d9",
   "metadata": {},
   "outputs": [],
   "source": [
    "# v3_virginia_first_month.to_csv('v3-Virginia-Beach_Text_first_month.csv', sep=',', encoding='utf-8', index=False)\n",
    "# verified_virginia_first_month_sample.to_csv('v3-gs_Virginia-Beach_first_month.csv', sep=',', encoding='utf-8', index=False)"
   ]
  },
  {
   "cell_type": "markdown",
   "id": "b9439de9-7c22-4014-b7ed-6a383d605e0b",
   "metadata": {},
   "source": [
    "## Second Month"
   ]
  },
  {
   "cell_type": "code",
   "execution_count": null,
   "id": "d9b2a94e-734f-4e0e-b9c9-8cad72f7cb2a",
   "metadata": {},
   "outputs": [],
   "source": [
    "virginia_sm, virginia_sm_sample = addCol_takeSample(virginia_sm)\n",
    "virginia_sm_sample[['text', 'publish_date']]"
   ]
  },
  {
   "cell_type": "code",
   "execution_count": null,
   "id": "8e6b9ed0-12b7-46b9-868a-71f8b6e9be7c",
   "metadata": {},
   "outputs": [],
   "source": [
    "# initial_check(virginia_sm_sample, shooting_info, all_info )"
   ]
  },
  {
   "cell_type": "code",
   "execution_count": null,
   "id": "e7edad4c-1c7c-4296-8fbd-b2fcfdc94173",
   "metadata": {},
   "outputs": [],
   "source": [
    "# v3_virginia_second_month, verified_virginia_second_moth_sample = update_labels(virginia_sm, virginia_sm_sample)"
   ]
  },
  {
   "cell_type": "code",
   "execution_count": null,
   "id": "c7255df1-b1a4-457d-b261-33c65a57c3ff",
   "metadata": {},
   "outputs": [],
   "source": [
    "# v3_virginia_second_month.to_csv('v3-Virginia-Beach_Text_second_month.csv', sep=',', encoding='utf-8', index=False)\n",
    "# verified_virginia_second_moth_sample.to_csv('v3-gs_Virginia-Beach_second_month.csv', sep=',', encoding='utf-8', index=False)"
   ]
  },
  {
   "cell_type": "markdown",
   "id": "b96bc871-a983-4ec9-9e71-dc579eeb4418",
   "metadata": {},
   "source": [
    "## Third Month"
   ]
  },
  {
   "cell_type": "code",
   "execution_count": null,
   "id": "aeee3ec9-7a92-4a2d-af84-cb934278dffb",
   "metadata": {},
   "outputs": [],
   "source": [
    "virginia_tm, virginia_tm_sample = addCol_takeSample(virginia_tm)\n",
    "virginia_tm_sample[['text', 'publish_date']]"
   ]
  },
  {
   "cell_type": "code",
   "execution_count": null,
   "id": "d438a649-c135-4870-9b43-3f8a7cc6a757",
   "metadata": {},
   "outputs": [],
   "source": [
    "v3_virginia_third_month, verified_virginia_third_moth_sample = update_labels(virginia_tm, virginia_tm_sample)"
   ]
  },
  {
   "cell_type": "code",
   "execution_count": null,
   "id": "3b8e869a-4a2f-435a-906f-56556e6fb7e8",
   "metadata": {},
   "outputs": [],
   "source": [
    "# initial_check(virginia_tm_sample, shooting_info, all_info )"
   ]
  },
  {
   "cell_type": "code",
   "execution_count": null,
   "id": "8550cb31-f002-410e-8cd3-47302ec2b392",
   "metadata": {},
   "outputs": [],
   "source": [
    "v3_virginia_third_month.to_csv('v3-Las-Vegas_Text_third_month.csv', sep=',', encoding='utf-8', index=False)\n",
    "verified_virginia_third_moth_sample.to_csv('v3-gs_Las-Vegas_third_month.csv', sep=',', encoding='utf-8', index=False)"
   ]
  },
  {
   "cell_type": "markdown",
   "id": "4856848b-4dae-4b02-b28d-6e16f4390026",
   "metadata": {},
   "source": [
    "# Plano Shooting"
   ]
  },
  {
   "cell_type": "code",
   "execution_count": null,
   "id": "5a900263-de93-47d7-8749-ba695b44d6ec",
   "metadata": {},
   "outputs": [],
   "source": [
    "path_plano_1 = path + 'v2-Plano_Text-first-month.csv'\n",
    "path_plano_2 = path + 'v2-Plano_Text-second-month.csv'\n",
    "path_plano_3 = path + 'v2-Plano_Text-third-month.csv'\n",
    "\n",
    "plano_fm = pd.read_csv(path_Bogue_1, index_col=False)\n",
    "plano_sm = pd.read_csv(path_Bogue_2, index_col=False)\n",
    "plano_tm = pd.read_csv(path_Bogue_3, index_col=False)"
   ]
  },
  {
   "cell_type": "markdown",
   "id": "adf273de-2a2f-41a8-86ba-ebaafa00f770",
   "metadata": {},
   "source": [
    "## First Month"
   ]
  },
  {
   "cell_type": "code",
   "execution_count": null,
   "id": "b8190ec6-c406-4d3d-8d5b-e0a09e05a8bb",
   "metadata": {},
   "outputs": [],
   "source": [
    "shooting_info = ['plano', 'hight', 'spencer', 'texas']\n",
    "initial_check(plano_fm_sample, shooting_info, all_info )"
   ]
  },
  {
   "cell_type": "code",
   "execution_count": null,
   "id": "ab297b94-da87-4f8c-88d7-56b862f6b29b",
   "metadata": {},
   "outputs": [],
   "source": [
    "plano_fm, plano_fm_sample = addCol_takeSample(plano_fm)\n",
    "# plano_fm_sample[['text', 'publish_date']]"
   ]
  },
  {
   "cell_type": "code",
   "execution_count": null,
   "id": "cdc129cb-8f1c-421e-83a4-c1d5a5698cdc",
   "metadata": {},
   "outputs": [],
   "source": [
    "v3_plano_first_month, verified_plano_first_month_sample = update_labels(plano_fm, plano_fm_sample)"
   ]
  },
  {
   "cell_type": "code",
   "execution_count": null,
   "id": "8d4d2154-f927-4d95-b9c2-ffd18e830ced",
   "metadata": {},
   "outputs": [],
   "source": [
    "v3_plano_first_month.to_csv('v3_Plano_Text_first_month.csv', sep=',', encoding='utf-8', index=False)\n",
    "verified_plano_first_month_sample.to_csv('v3_gs_Plano_first_month.csv', sep=',', encoding='utf-8', index=False)"
   ]
  },
  {
   "cell_type": "markdown",
   "id": "0da46876-ae8b-4726-9456-f8fc46edb5da",
   "metadata": {},
   "source": [
    "## Second Month"
   ]
  },
  {
   "cell_type": "code",
   "execution_count": null,
   "id": "cea083c5-1e25-4e5c-9a55-af7ff30efde3",
   "metadata": {},
   "outputs": [],
   "source": [
    "plano_sm, plano_sm_sample = addCol_takeSample(plano_sm)\n",
    "plano_sm_sample[['text', 'publish_date']]"
   ]
  },
  {
   "cell_type": "code",
   "execution_count": null,
   "id": "7ebdd0df-627c-444e-9e38-8ddccfa7cfa8",
   "metadata": {},
   "outputs": [],
   "source": [
    "v3_plano_second_month, verified_plano_second_moth_sample = update_labels(plano_sm, plano_sm_sample)"
   ]
  },
  {
   "cell_type": "code",
   "execution_count": null,
   "id": "6db8e0f0-cd48-4496-895c-4a602ea99989",
   "metadata": {},
   "outputs": [],
   "source": [
    "v3_plano_second_month.to_csv('v3_Plano_Text_second_month.csv', sep=',', encoding='utf-8', index=False)\n",
    "verified_plano_second_moth_sample.to_csv('v3_gs_Plano_second_month.csv', sep=',', encoding='utf-8', index=False)"
   ]
  },
  {
   "cell_type": "markdown",
   "id": "a7413c3a-03ef-4af3-9d1c-56e96b9ffd31",
   "metadata": {},
   "source": [
    "## Third Month"
   ]
  },
  {
   "cell_type": "code",
   "execution_count": null,
   "id": "7e9a37e6-14ae-428d-911e-80a436452dd1",
   "metadata": {},
   "outputs": [],
   "source": [
    "plano_tm, plano_tm_sample = addCol_takeSample(plano_tm)\n",
    "plano_tm_sample[['text', 'publish_date']]"
   ]
  },
  {
   "cell_type": "code",
   "execution_count": null,
   "id": "26d6fffd-c24c-4493-bc4b-4a26ac0f4b00",
   "metadata": {},
   "outputs": [],
   "source": [
    "v3_plano_third_month, verified_plano_third_moth_sample = update_labels(plano_tm, _tm_sample)"
   ]
  },
  {
   "cell_type": "code",
   "execution_count": null,
   "id": "ff68709d-125b-465f-8154-8ac44127af4a",
   "metadata": {},
   "outputs": [],
   "source": [
    "v3_plano_third_month.to_csv('v3_Plano_Text_third_month.csv', sep=',', encoding='utf-8', index=False)\n",
    "verified_plano_third_moth_sample.to_csv('v3_gs_Plano_third_month.csv', sep=',', encoding='utf-8', index=False)"
   ]
  },
  {
   "cell_type": "markdown",
   "id": "54daa7dd-362d-4cbc-8d5c-953029a8a3a2",
   "metadata": {},
   "source": [
    "# Bogue Shooting"
   ]
  },
  {
   "cell_type": "code",
   "execution_count": null,
   "id": "ab732f87-7b7e-4c9c-b6a1-deb98dccf2bc",
   "metadata": {},
   "outputs": [],
   "source": [
    "path_Bogue_1 = path + 'v2-Bogue_Text-first-month.csv'\n",
    "path_Bogue_2 = path + 'v2-Bogue_Text-second-month.csv'\n",
    "path_Bogue_3 = path + 'v2-Bogue_Text-third-month.csv'"
   ]
  },
  {
   "cell_type": "code",
   "execution_count": null,
   "id": "219bd1dd-2888-4b01-ba92-35517ebfe9fd",
   "metadata": {},
   "outputs": [],
   "source": [
    "bogue_fm = pd.read_csv(path_Bogue_1, index_col=False)\n",
    "bogue_sm = pd.read_csv(path_Bogue_2, index_col=False)\n",
    "bogue_tm = pd.read_csv(path_Bogue_3, index_col=False)"
   ]
  },
  {
   "cell_type": "markdown",
   "id": "5be7d8e2-769a-4e1a-b3f4-4a7e062b508b",
   "metadata": {},
   "source": [
    "## First Month"
   ]
  },
  {
   "cell_type": "code",
   "execution_count": null,
   "id": "9113cada-c030-4cc6-96ee-146306cb4d61",
   "metadata": {},
   "outputs": [],
   "source": [
    "bogue_fm, bogue_fm_sample = addCol_takeSample(bogue_fm)\n",
    "bogue_fm_sample[['text', 'publish_date']]"
   ]
  },
  {
   "cell_type": "code",
   "execution_count": null,
   "id": "fed62058-9a59-43c4-b3e4-b13de5903ec6",
   "metadata": {},
   "outputs": [],
   "source": [
    "# v3_Bogue_first_month, verified_Bogue_first_moth_sample = update_labels(bogue_fm, bogue_fm_sample)"
   ]
  },
  {
   "cell_type": "code",
   "execution_count": null,
   "id": "7a41b271-352d-4b3b-b99d-1b17e1ca89e7",
   "metadata": {},
   "outputs": [],
   "source": [
    "# v3_Bogue_first_month.to_csv('v3_Bogue_Text_first_month.csv', sep=',', encoding='utf-8', index=False)"
   ]
  },
  {
   "cell_type": "markdown",
   "id": "be350ff0-8b49-4374-9503-53ff24a184ce",
   "metadata": {},
   "source": [
    "## Second Month"
   ]
  },
  {
   "cell_type": "code",
   "execution_count": null,
   "id": "e66669b0-e95a-4b86-bddc-56e14d0d564f",
   "metadata": {},
   "outputs": [],
   "source": [
    "bogue_sm, bogue_sm_sample = addCol_takeSample(bogue_sm)\n",
    "bogue_sm_sample[['text', 'publish_date']]"
   ]
  },
  {
   "cell_type": "code",
   "execution_count": null,
   "id": "94ee781c-101a-41ef-a6d6-c3c163546595",
   "metadata": {},
   "outputs": [],
   "source": [
    "# v3_Bogue_second_month, verified_Bogue_second_moth_sample = update_labels(bogue_sm, bogue_sm_sample)"
   ]
  },
  {
   "cell_type": "code",
   "execution_count": null,
   "id": "79075755-54bd-4e05-bde8-6f1c57bfb3e8",
   "metadata": {},
   "outputs": [],
   "source": [
    "# v3_Bogue_second_month.to_csv('v3_Bogue_Text_second_month.csv', sep=',', encoding='utf-8', index=False)"
   ]
  },
  {
   "cell_type": "markdown",
   "id": "5e37b98e-dfda-410a-80a3-8bbe4dbaba1d",
   "metadata": {},
   "source": [
    "## Third Month"
   ]
  },
  {
   "cell_type": "code",
   "execution_count": null,
   "id": "09f224cc-9350-4612-b21c-0e9d300735ae",
   "metadata": {},
   "outputs": [],
   "source": [
    "bogue_tm, bogue_tm_sample = addCol_takeSample(bogue_tm)\n",
    "bogue_tm_sample[['text', 'publish_date']]"
   ]
  },
  {
   "cell_type": "code",
   "execution_count": null,
   "id": "767c3589-e3e1-45dc-b900-0af6dc67e8cb",
   "metadata": {},
   "outputs": [],
   "source": [
    "# v3_Bogue_third_month, verified_Bogue_thirdt_moth_sample = update_labels(bogue_tm, bogue_tm_sample)"
   ]
  },
  {
   "cell_type": "code",
   "execution_count": null,
   "id": "98a8a3d3-b2da-4e5f-9b3b-16d615c817aa",
   "metadata": {},
   "outputs": [],
   "source": [
    "# v3_Bogue_third_month.to_csv('v3_Bogue_Text_third_month.csv', sep=',', encoding='utf-8', index=False)"
   ]
  },
  {
   "cell_type": "markdown",
   "id": "8d0459b1-95b1-4218-8178-7f766be649de",
   "metadata": {},
   "source": [
    "# Boulder Shooting"
   ]
  },
  {
   "cell_type": "code",
   "execution_count": null,
   "id": "308c37ee-35c7-49c9-a117-7eae347abec0",
   "metadata": {},
   "outputs": [],
   "source": [
    "path_Boulder_1 = path + 'v2-Boulder_Text-first-month.csv'\n",
    "path_Boulder_2 = path + 'v2-Boulder_Text-second-month.csv'\n",
    "path_Boulder_3 = path + 'v2-Boulder_Text-third-month.csv'\n",
    "\n",
    "boulder_fm = pd.read_csv(path_Boulder_1, index_col=False)\n",
    "boulder_sm = pd.read_csv(path_Boulder_2, index_col=False)\n",
    "boulder_tm = pd.read_csv(path_Boulder_3, index_col=False)"
   ]
  },
  {
   "cell_type": "markdown",
   "id": "8cc0041c-80b4-444d-938a-79f6f00c4462",
   "metadata": {},
   "source": [
    "## First Month"
   ]
  },
  {
   "cell_type": "code",
   "execution_count": null,
   "id": "92c2a05c-e09d-4edf-b739-52650b121e03",
   "metadata": {},
   "outputs": [],
   "source": [
    "boulder_fm, boulder_fm_sample = addCol_takeSample(boulder_fm)\n",
    "boulder_fm_sample[['text', 'publish_date']]"
   ]
  },
  {
   "cell_type": "code",
   "execution_count": null,
   "id": "98a6f222-3b0d-437d-a275-78537a22d2f6",
   "metadata": {},
   "outputs": [],
   "source": [
    "# v3_Boulder_first_month, verified_Boulder_first_moth_sample = update_labels(boulder_fm, boulder_fm_sample)"
   ]
  },
  {
   "cell_type": "code",
   "execution_count": null,
   "id": "891387e3-c900-4258-8c1e-e83b465238ab",
   "metadata": {},
   "outputs": [],
   "source": [
    "# v3_Boulder_first_month.to_csv('v3_Boulder_Text_first_month.csv', sep=',', encoding='utf-8', index=False)"
   ]
  },
  {
   "cell_type": "markdown",
   "id": "dc440287-6327-463c-bd2b-4fcdc09c56ce",
   "metadata": {},
   "source": [
    "## Second Month"
   ]
  },
  {
   "cell_type": "code",
   "execution_count": null,
   "id": "1b28ea94-5792-4df6-a465-bde0c9b078b0",
   "metadata": {},
   "outputs": [],
   "source": [
    "boulder_sm, boulder_sm_sample = addCol_takeSample(boulder_sm)\n",
    "boulder_sm_sample[['text', 'publish_date']]"
   ]
  },
  {
   "cell_type": "code",
   "execution_count": null,
   "id": "da340c74-da60-43e4-9748-065496a602f5",
   "metadata": {},
   "outputs": [],
   "source": [
    "# v3_Boulder_second_month, verified_Boulder_second_moth_sample = update_labels(boulder_sm, boulder_sm_sample)"
   ]
  },
  {
   "cell_type": "code",
   "execution_count": null,
   "id": "b02c6b34-b6d4-44b4-9c72-6b79b992dc15",
   "metadata": {},
   "outputs": [],
   "source": [
    "# v3_Boulder_second_month.to_csv('v3_Boulder_Text_second_month.csv', sep=',', encoding='utf-8', index=False)\n",
    "# verified_Boulder_second_moth_sample.to_csv('v3_gs_Boulder_second_month.csv', sep=',', encoding='utf-8', index=False)"
   ]
  },
  {
   "cell_type": "markdown",
   "id": "74054a62-1478-409b-a707-5945ab8b9939",
   "metadata": {},
   "source": [
    "## Third Month"
   ]
  },
  {
   "cell_type": "code",
   "execution_count": null,
   "id": "2466257c-79ba-4f1d-8e9a-eacf8f6e9a5c",
   "metadata": {},
   "outputs": [],
   "source": [
    "boulder_tm, boulder_tm_sample = addCol_takeSample(boulder_tm)\n",
    "boulder_tm_sample[['text', 'publish_date']]"
   ]
  },
  {
   "cell_type": "code",
   "execution_count": null,
   "id": "b07f7de8-d61a-49c9-8ca0-3ce86f0523b5",
   "metadata": {},
   "outputs": [],
   "source": [
    "# v3_Boulder_third_month, verified_Boulder_third_moth_sample = update_labels(boulder_tm, boulder_tm_sample)"
   ]
  },
  {
   "cell_type": "code",
   "execution_count": null,
   "id": "6aa98d40-d618-4d70-ba9b-db0bfa127cf3",
   "metadata": {},
   "outputs": [],
   "source": [
    "# v3_Boulder_third_month.to_csv('v3_Boulder_Text_third_month.csv', sep=',', encoding='utf-8', index=False)\n",
    "# verified_Boulder_third_moth_sample.to_csv('v3_gs_Boulder_third_month.csv', sep=',', encoding='utf-8', index=False)"
   ]
  },
  {
   "cell_type": "markdown",
   "id": "f7d6b84d-231f-4f7a-bb50-daacf4d12f97",
   "metadata": {},
   "source": [
    "# DC Shooting"
   ]
  },
  {
   "cell_type": "code",
   "execution_count": null,
   "id": "424b1a36-8551-45d0-9519-2b63d672d9df",
   "metadata": {},
   "outputs": [],
   "source": [
    "path_DC_1 = path + 'v2-DC_Text-first-month.csv'\n",
    "path_DC_2 = path + 'v2-DC_Text-second-month.csv'\n",
    "path_DC_3 = path + 'v2-DC_Text-third-month.csv'\n",
    "\n",
    "DC_fm = pd.read_csv(path_DC_1, index_col=False)\n",
    "DC_sm = pd.read_csv(path_DC_2, index_col=False)\n",
    "DC_tm = pd.read_csv(path_DC_3, index_col=False)"
   ]
  },
  {
   "cell_type": "markdown",
   "id": "50e016c5-64de-4bdb-ad1a-269f7971a86c",
   "metadata": {},
   "source": [
    "## First Month"
   ]
  },
  {
   "cell_type": "code",
   "execution_count": null,
   "id": "f460fef0-8a5a-4ba9-967f-e01ada7c5bfb",
   "metadata": {},
   "outputs": [],
   "source": [
    "DC_fm, DC_fm_sample = addCol_takeSample(DC_fm)\n",
    "DC_fm_sample[['text', 'publish_date']]"
   ]
  },
  {
   "cell_type": "code",
   "execution_count": null,
   "id": "64f8415b-1c16-4c40-84bd-f01d42a98a56",
   "metadata": {},
   "outputs": [],
   "source": [
    "# v3_DC_first_month, verified_DC_first_moth_sample = update_labels(DC_fm, DC_fm_sample)"
   ]
  },
  {
   "cell_type": "code",
   "execution_count": null,
   "id": "f23d61c7-e8c6-4224-bca0-ef01635772b6",
   "metadata": {},
   "outputs": [],
   "source": [
    "# v3_DC_first_month.to_csv('v3_DC_Text_first_month.csv', sep=',', encoding='utf-8', index=False)\n",
    "# verified_DC_first_moth_sample.to_csv('v3_gs_DC_first_month.csv', sep=',', encoding='utf-8', index=False)"
   ]
  },
  {
   "cell_type": "markdown",
   "id": "672ea934-f49b-4dd9-8c2f-a6c442268784",
   "metadata": {},
   "source": [
    "## Second Month"
   ]
  },
  {
   "cell_type": "code",
   "execution_count": null,
   "id": "7ca7e63e-ad3e-436f-90ed-3bc05dbd9c7f",
   "metadata": {},
   "outputs": [],
   "source": [
    "DC_sm, DC_sm_sample = addCol_takeSample(DC_sm)\n",
    "DC_sm_sample[['text', 'publish_date']]"
   ]
  },
  {
   "cell_type": "code",
   "execution_count": null,
   "id": "cdc78881-ee8f-495f-ab4a-1fc581d083b8",
   "metadata": {},
   "outputs": [],
   "source": [
    "# v3_DC_second_month, verified_DC_second_moth_sample = update_labels(DC_sm, DC_sm_sample)"
   ]
  },
  {
   "cell_type": "code",
   "execution_count": null,
   "id": "60bdf88c-df68-4006-ac77-c04d9cd44e3d",
   "metadata": {},
   "outputs": [],
   "source": [
    "# v3_DC_second_month.to_csv('v3_DC_Text_second_month.csv', sep=',', encoding='utf-8', index=False)\n",
    "# verified_DC_second_moth_sample.to_csv('v3_gs_DC_second_month.csv', sep=',', encoding='utf-8', index=False)"
   ]
  },
  {
   "cell_type": "markdown",
   "id": "aef08e08-0b21-4fa2-9215-4fa209fa75c3",
   "metadata": {},
   "source": [
    "## Third Month"
   ]
  },
  {
   "cell_type": "code",
   "execution_count": null,
   "id": "1cde1228-9c0e-45bb-97cd-4585cf139b99",
   "metadata": {},
   "outputs": [],
   "source": [
    "DC_tm, DC_tm_sample = addCol_takeSample(DC_tm)\n",
    "DC_tm_sample[['text', 'publish_date']]"
   ]
  },
  {
   "cell_type": "code",
   "execution_count": null,
   "id": "4b85e333-e041-460f-8f18-a96fd21c23ad",
   "metadata": {},
   "outputs": [],
   "source": [
    "# v3_DC_third_month, verified_DC_third_moth_sample = update_labels(DC_tm, DC_tm_sample)"
   ]
  },
  {
   "cell_type": "code",
   "execution_count": null,
   "id": "7cdd6556-f1b1-43f9-84ed-e45d98e41054",
   "metadata": {},
   "outputs": [],
   "source": [
    "# v3_DC_third_month.to_csv('v3_DC_Text_third_month.csv', sep=',', encoding='utf-8', index=False)\n",
    "# verified_DC_third_moth_sample.to_csv('v3_gs_DC_third_month.csv', sep=',', encoding='utf-8', index=False)"
   ]
  },
  {
   "cell_type": "markdown",
   "id": "8f8e447c-a39a-4bdb-bf40-1dfac7ff4e81",
   "metadata": {},
   "source": [
    "# Houston Shooting"
   ]
  },
  {
   "cell_type": "code",
   "execution_count": null,
   "id": "8bb1932b-f36f-4ee8-8a1a-98b13435f6ee",
   "metadata": {},
   "outputs": [],
   "source": [
    "path_houston_1 = path + 'v2-Houston_Text-first-month.csv'\n",
    "path_houston_2 = path + 'v2-Houston_Text-second-month.csv'\n",
    "path_houston_3 = path + 'v2-Houston_Text-third-month.csv'\n",
    "\n",
    "houston_fm = pd.read_csv(path_houston_1, index_col=False)\n",
    "houston_sm = pd.read_csv(path_houston_2, index_col=False)\n",
    "houston_tm = pd.read_csv(path_houston_3, index_col=False)"
   ]
  },
  {
   "cell_type": "markdown",
   "id": "bbbb048f-f101-4f6c-9f75-2b9c4b8cb7d5",
   "metadata": {},
   "source": [
    "## First Month"
   ]
  },
  {
   "cell_type": "code",
   "execution_count": null,
   "id": "41fb1130-1b92-4035-ab50-a63dbbe3eeb3",
   "metadata": {},
   "outputs": [],
   "source": [
    "houston_fm, houston_fm_sample = addCol_takeSample(houston_fm)\n",
    "houston_fm_sample[['text', 'publish_date']]"
   ]
  },
  {
   "cell_type": "code",
   "execution_count": null,
   "id": "e9f77d48-0c1c-48bb-99da-89282f3d6f31",
   "metadata": {},
   "outputs": [],
   "source": [
    "# v3_houston_first_month, verified_houston_first_moth_sample = update_labels(houston_fm, houston_fm_sample)\n"
   ]
  },
  {
   "cell_type": "code",
   "execution_count": null,
   "id": "24e16caa-9dba-47e3-bd1c-e9cbb2928ecd",
   "metadata": {},
   "outputs": [],
   "source": [
    "# v3_houston_first_month.to_csv('v3_Houston_Text_first_month.csv', sep=',', encoding='utf-8', index=False)\n",
    "# verified_houston_first_moth_sample.to_csv('v3_gs_Houston_first_month.csv', sep=',', encoding='utf-8', index=False)"
   ]
  },
  {
   "cell_type": "markdown",
   "id": "4882fef4-3db4-4dd8-9b14-6ab436cf981b",
   "metadata": {},
   "source": [
    "## Second Month"
   ]
  },
  {
   "cell_type": "code",
   "execution_count": null,
   "id": "eb1c334f-7402-4f87-bc8c-49504d0f43a4",
   "metadata": {},
   "outputs": [],
   "source": [
    "houston_sm, houston_sm_sample = addCol_takeSample(houston_sm)\n",
    "houston_sm_sample[['text', 'publish_date']]"
   ]
  },
  {
   "cell_type": "code",
   "execution_count": null,
   "id": "1aea9498-ee94-4eea-a536-1c9c5cf92e49",
   "metadata": {},
   "outputs": [],
   "source": [
    "# v3_houston_second_month, verified_houston_second_moth_sample = update_labels(houston_sm, houston_sm_sample)"
   ]
  },
  {
   "cell_type": "code",
   "execution_count": null,
   "id": "6bbfba2d-16e8-4130-a50d-53bbd996de65",
   "metadata": {},
   "outputs": [],
   "source": [
    "# v3_houston_second_month.to_csv('v3_Houston_Text_second_month.csv', sep=',', encoding='utf-8', index=False)\n",
    "# verified_houston_second_moth_sample.to_csv('v3_gs_Houston_second_month.csv', sep=',', encoding='utf-8', index=False)"
   ]
  },
  {
   "cell_type": "markdown",
   "id": "85c265b1-c122-4a60-a86e-674c59974617",
   "metadata": {},
   "source": [
    "## Third Month"
   ]
  },
  {
   "cell_type": "code",
   "execution_count": null,
   "id": "d5c3c069-a563-43e4-8e52-90ce63d0d745",
   "metadata": {},
   "outputs": [],
   "source": [
    "houston_tm, houston_tm_sample = addCol_takeSample(houston_tm)\n",
    "houston_tm_sample[['text', 'publish_date']]"
   ]
  },
  {
   "cell_type": "code",
   "execution_count": null,
   "id": "0a091938-7b88-4f9a-a6d6-1f43199bc96a",
   "metadata": {},
   "outputs": [],
   "source": [
    "# v3_houston_third_month, verified_houston_third_moth_sample = update_labels(houston_tm, houston_tm_sample)"
   ]
  },
  {
   "cell_type": "code",
   "execution_count": null,
   "id": "c40afe6c-6367-4745-be27-eed44b3df64a",
   "metadata": {},
   "outputs": [],
   "source": [
    "# v3_houston_third_month.to_csv('v3_Houston_Text_third_month.csv', sep=',', encoding='utf-8', index=False)\n",
    "# verified_houston_third_moth_sample.to_csv('v3_gs_Houston_third_month.csv', sep=',', encoding='utf-8', index=False)"
   ]
  },
  {
   "cell_type": "markdown",
   "id": "68e89860-31ad-42e4-9553-752a0126dfdc",
   "metadata": {},
   "source": [
    "# Odessa shooting"
   ]
  },
  {
   "cell_type": "code",
   "execution_count": null,
   "id": "91e1bfe9-1374-4521-9e77-5bf66afd255e",
   "metadata": {},
   "outputs": [],
   "source": [
    "path_odessa_1 = path + 'v2-Odessa_Text-first-month.csv'\n",
    "path_odessa_2 = path + 'v2-Odessa_Text-second-month.csv'\n",
    "path_odessa_3 = path + 'v2-Odessa_Text-third-month.csv'\n",
    "\n",
    "odessa_fm = pd.read_csv(path_odessa_1, index_col=False)\n",
    "odessa_sm = pd.read_csv(path_odessa_2, index_col=False)\n",
    "odessa_tm = pd.read_csv(path_odessa_3, index_col=False)"
   ]
  },
  {
   "cell_type": "markdown",
   "id": "ac0f01bb-168b-4003-a79e-875e8cffe88d",
   "metadata": {},
   "source": [
    "## First Month"
   ]
  },
  {
   "cell_type": "code",
   "execution_count": null,
   "id": "c1de0cfd-f283-48fc-9a37-bb06d5b7496c",
   "metadata": {},
   "outputs": [],
   "source": [
    "odessa_fm, odessa_fm_sample = addCol_takeSample(odessa_fm)\n",
    "odessa_fm_sample[['text', 'publish_date']]"
   ]
  },
  {
   "cell_type": "code",
   "execution_count": null,
   "id": "cef97135-d218-4588-aadd-4f2a45d1fff7",
   "metadata": {},
   "outputs": [],
   "source": [
    "# v3_odessa_first_month, verified_odessa_first_moth_sample = update_labels(odessa_fm, odessa_fm_sample)"
   ]
  },
  {
   "cell_type": "code",
   "execution_count": null,
   "id": "71127e6b-da0e-4907-9624-b3a11b9b2194",
   "metadata": {},
   "outputs": [],
   "source": [
    "# v3_odessa_first_month.to_csv('v3_Odessa_Text_first_month.csv', sep=',', encoding='utf-8', index=False)\n",
    "# verified_odessa_first_moth_sample.to_csv('v3_gs_Odessa_first_month.csv', sep=',', encoding='utf-8', index=False)"
   ]
  },
  {
   "cell_type": "markdown",
   "id": "434b8f6a-1076-4bc9-bc23-2872f7a5c253",
   "metadata": {},
   "source": [
    "## Second Month"
   ]
  },
  {
   "cell_type": "code",
   "execution_count": null,
   "id": "57462323-bd14-427e-91ab-8189dbc0a379",
   "metadata": {},
   "outputs": [],
   "source": [
    "odessa_sm, odessa_sm_sample = addCol_takeSample(odessa_sm)\n",
    "odessa_sm_sample[['text', 'publish_date']]"
   ]
  },
  {
   "cell_type": "code",
   "execution_count": null,
   "id": "512479dd-389b-45ab-8e86-4665c0e2a4e7",
   "metadata": {},
   "outputs": [],
   "source": [
    "# v3_odessa_second_month, verified_odessa_second_moth_sample = update_labels(odessa_sm, odessa_sm_sample)"
   ]
  },
  {
   "cell_type": "code",
   "execution_count": null,
   "id": "2c5ee74c-7d85-46d4-8859-e66aa7e6ca67",
   "metadata": {},
   "outputs": [],
   "source": [
    "# v3_odessa_second_month.to_csv('v3_Odessa_Text_second_month.csv', sep=',', encoding='utf-8', index=False)\n",
    "# verified_odessa_second_moth_sample.to_csv('v3_gs_Odessa_second_month.csv', sep=',', encoding='utf-8', index=False)"
   ]
  },
  {
   "cell_type": "markdown",
   "id": "80a8022d-cd45-4431-a65c-4c55e1c840c4",
   "metadata": {},
   "source": [
    "## Third Month"
   ]
  },
  {
   "cell_type": "code",
   "execution_count": null,
   "id": "a06f8d6d-461a-4775-b9e3-3ed88244c29f",
   "metadata": {},
   "outputs": [],
   "source": [
    "odessa_tm, odessa_tm_sample = addCol_takeSample(odessa_tm)\n",
    "odessa_tm_sample[['text', 'publish_date']]"
   ]
  },
  {
   "cell_type": "code",
   "execution_count": null,
   "id": "e1087654-e9ee-4489-a13c-15bc43ba4de2",
   "metadata": {},
   "outputs": [],
   "source": [
    "# v3_odessa_third_month, verified_odessa_third_moth_sample = update_labels(odessa_tm, odessa_tm_sample)"
   ]
  },
  {
   "cell_type": "code",
   "execution_count": null,
   "id": "9c0120ee-5eff-4bcb-ada7-a0092fa8fcd8",
   "metadata": {},
   "outputs": [],
   "source": [
    "# v3_odessa_third_month.to_csv('v3_Odessa_Text_third_month.csv', sep=',', encoding='utf-8', index=False)\n",
    "# verified_odessa_third_moth_sample.to_csv('v3_gs_Odessa_third_month.csv', sep=',', encoding='utf-8', index=False)"
   ]
  },
  {
   "cell_type": "markdown",
   "id": "7dfcaec5-ca64-4152-b5e2-4ff773b41fda",
   "metadata": {},
   "source": [
    "# Pittsburgh Shooting"
   ]
  },
  {
   "cell_type": "code",
   "execution_count": null,
   "id": "7c1cc6fd-5cf9-46f1-9148-a8b410a4c694",
   "metadata": {},
   "outputs": [],
   "source": [
    "path_pittsburgh_1 = path + 'v2-Pittsburgh_Text-first-month.csv'\n",
    "path_pittsburgh_2 = path + 'v2-Pittsburgh_Text-second-month.csv'\n",
    "path_pittsburgh_3 = path + 'v2-Pittsburgh_Text-third-month.csv'\n",
    "\n",
    "pittsburgh_fm = pd.read_csv(path_pittsburgh_1, index_col=False)\n",
    "pittsburgh_sm = pd.read_csv(path_pittsburgh_2, index_col=False)\n",
    "pittsburgh_tm = pd.read_csv(path_pittsburgh_3, index_col=False)"
   ]
  },
  {
   "cell_type": "markdown",
   "id": "92bed440-ee11-4067-bf1d-ef1cc114ad5a",
   "metadata": {},
   "source": [
    "## First Month"
   ]
  },
  {
   "cell_type": "code",
   "execution_count": null,
   "id": "90465db3-e2ee-4b02-91fc-f4ff7a8673e3",
   "metadata": {},
   "outputs": [],
   "source": [
    "pittsburgh_fm, pittsburgh_fm_sample = addCol_takeSample(pittsburgh_fm)\n",
    "pittsburgh_fm_sample[['text', 'publish_date']]"
   ]
  },
  {
   "cell_type": "code",
   "execution_count": null,
   "id": "a8dff802-1b80-47b4-98b5-f4c1ce02a486",
   "metadata": {},
   "outputs": [],
   "source": [
    "# v3_pittsburgh_first_month, verified_pittsburgh_first_moth_sample = update_labels(pittsburgh_fm, pittsburgh_fm_sample)"
   ]
  },
  {
   "cell_type": "code",
   "execution_count": null,
   "id": "4246ee3a-e6bd-49b7-8329-79f4cd3f222b",
   "metadata": {},
   "outputs": [],
   "source": [
    "# v3_pittsburgh_first_month.to_csv('v3_Pittsburgh_Text_first_month.csv', sep=',', encoding='utf-8', index=False)\n",
    "# verified_pittsburgh_first_moth_sample.to_csv('v3_gs_Pittsburgh_first_month.csv', sep=',', encoding='utf-8', index=False)"
   ]
  },
  {
   "cell_type": "markdown",
   "id": "d8d711ae-ef77-4f0a-a519-94aa873c7f11",
   "metadata": {},
   "source": [
    "## Second Month"
   ]
  },
  {
   "cell_type": "code",
   "execution_count": null,
   "id": "0e98fae0-d3c6-4bbd-b415-ad3e57c638ba",
   "metadata": {},
   "outputs": [],
   "source": [
    "pittsburgh_sm, pittsburgh_sm_sample = addCol_takeSample(pittsburgh_sm)\n",
    "pittsburgh_sm_sample[['text', 'publish_date']]"
   ]
  },
  {
   "cell_type": "code",
   "execution_count": null,
   "id": "844761e1-c648-49b3-9078-752b2f650af8",
   "metadata": {},
   "outputs": [],
   "source": [
    "# v3_pittsburgh_second_month, verified_pittsburgh_second_moth_sample = update_labels(pittsburgh_sm, pittsburgh_sm_sample)"
   ]
  },
  {
   "cell_type": "code",
   "execution_count": null,
   "id": "87f947e7-920f-4679-9920-85d12e6b3779",
   "metadata": {},
   "outputs": [],
   "source": [
    "# v3_pittsburgh_second_month.to_csv('v3_Pittsburgh_Text_second_month.csv', sep=',', encoding='utf-8', index=False)\n",
    "# verified_pittsburgh_second_moth_sample.to_csv('v3_gs_Pittsburgh_second_month.csv', sep=',', encoding='utf-8', index=False)"
   ]
  },
  {
   "cell_type": "markdown",
   "id": "959605be-56ab-4ccf-b3f3-b0f78c821929",
   "metadata": {},
   "source": [
    "## Third Month"
   ]
  },
  {
   "cell_type": "code",
   "execution_count": null,
   "id": "f1177d8a-4973-491a-9019-7c26cbfa0350",
   "metadata": {},
   "outputs": [],
   "source": [
    "pittsburgh_tm, pittsburgh_tm_sample = addCol_takeSample(pittsburgh_tm)\n",
    "pittsburgh_tm_sample[['text', 'publish_date']]"
   ]
  },
  {
   "cell_type": "code",
   "execution_count": null,
   "id": "7d8c133b-1643-4c9c-bca3-2cffc1216962",
   "metadata": {},
   "outputs": [],
   "source": [
    "# v3_pittsburgh_third_month, verified_pittsburgh_third_moth_sample = update_labels(pittsburgh_tm, pittsburgh_tm_sample)"
   ]
  },
  {
   "cell_type": "code",
   "execution_count": null,
   "id": "b126bddc-9f1d-4d70-a2ba-b36a89d81204",
   "metadata": {},
   "outputs": [],
   "source": [
    "# v3_pittsburgh_third_month.to_csv('v3_Pittsburgh_Text_third_month.csv', sep=',', encoding='utf-8', index=False)\n",
    "# verified_pittsburgh_third_moth_sample.to_csv('v3_gs_Pittsburgh_third_month.csv', sep=',', encoding='utf-8', index=False)"
   ]
  }
 ],
 "metadata": {
  "kernelspec": {
   "display_name": "Python 3",
   "language": "python",
   "name": "python3"
  },
  "language_info": {
   "codemirror_mode": {
    "name": "ipython",
    "version": 3
   },
   "file_extension": ".py",
   "mimetype": "text/x-python",
   "name": "python",
   "nbconvert_exporter": "python",
   "pygments_lexer": "ipython3",
   "version": "3.8.8"
  }
 },
 "nbformat": 4,
 "nbformat_minor": 5
}
