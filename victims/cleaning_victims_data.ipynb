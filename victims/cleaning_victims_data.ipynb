{
 "cells": [
  {
   "cell_type": "code",
   "execution_count": null,
   "id": "d969d448-a4bb-47a7-9f31-dd91d3e3659f",
   "metadata": {},
   "outputs": [],
   "source": [
    "import pandas as pd\n",
    "import numpy as np"
   ]
  },
  {
   "cell_type": "code",
   "execution_count": null,
   "id": "5bee403a-6cc3-43aa-a2d4-f0eebdd3a098",
   "metadata": {},
   "outputs": [],
   "source": [
    "# Read the victim's data provided by The Violence Project\n",
    "\n",
    "path = \"/Users/niloofarrahmati/Developement/Use-News-Seminar-main/victims/all_victims_database.csv\"\n",
    "\n",
    "\n",
    "columns = ['Shooter Last Name','Shooter First Name','Full Date','Victim Name','Age','Gender','Race','Knew Shooter','If Known, Relationship to Shooter','Life Expectancy','Years Lost']\n",
    "df_all_victims = pd.read_csv(path, index_col=None, usecols=columns)\n",
    "\n",
    "# To see the entire df_all_victims\n",
    "# pd.set_option('display.max_rows', df_all_victims.shape[0]+1)\n",
    "\n",
    "df_all_victims.head(3)"
   ]
  },
  {
   "cell_type": "code",
   "execution_count": null,
   "id": "9c71da5f-5411-4efa-b3b7-725debc1e2d5",
   "metadata": {},
   "outputs": [],
   "source": [
    "# Edit column values. In the 'Knew Shooter' column, 0 means No, 1 means Yes and, 2 means Possible\n",
    "\n",
    "df_all_victims.loc[(df_all_victims.Gender) == 0, 'Gender'] = 'Male'\n",
    "df_all_victims.loc[(df_all_victims.Gender) == 1, 'Gender'] = 'Female'\n",
    "\n",
    "df_all_victims.loc[(df_all_victims.Race) == 0, 'Race'] = 'White'\n",
    "df_all_victims.loc[(df_all_victims.Race) == 1, 'Race'] = 'Black'\n",
    "df_all_victims.loc[(df_all_victims.Race) == 2, 'Race'] = 'Latinx'\n",
    "df_all_victims.loc[(df_all_victims.Race) == 3, 'Race'] = 'Asian'\n",
    "df_all_victims.loc[(df_all_victims.Race) == 4, 'Race'] = 'Middle Eastern'\n",
    "df_all_victims.loc[(df_all_victims.Race) == 5, 'Race'] = 'Native American'\n",
    "df_all_victims.loc[(df_all_victims.Race) == 6, 'Race'] = 'Other'\n",
    "\n",
    "df_all_victims.head(3)"
   ]
  },
  {
   "cell_type": "code",
   "execution_count": null,
   "id": "39d3b689-c449-4b70-9442-e245efd1d805",
   "metadata": {},
   "outputs": [],
   "source": [
    "# Filter the victims of shampled perpetrators\n",
    "\n",
    "shooter_last_name = ['Farook, Malik', 'Conley', 'Alexis', 'Alissa', 'Ator', 'Bowers', 'Paddock', 'Hight','Godbolt', 'Craddock']\n",
    "\n",
    "df_victims = df_all_victims.loc[df_all_victims['Shooter Last Name'].isin(shooter_last_name)]\n",
    "df_victims.head(3)"
   ]
  },
  {
   "cell_type": "code",
   "execution_count": null,
   "id": "899011af-fd4d-4048-9d47-65839a17ed35",
   "metadata": {},
   "outputs": [],
   "source": [
    "# To check number of victims of each shooter\n",
    "\n",
    "for perpetrator in shooter_last_name:\n",
    "    print(str(perpetrator), len(df_all_victims.loc[df_all_victims['Shooter Last Name'] == str(perpetrator)]))"
   ]
  },
  {
   "cell_type": "code",
   "execution_count": null,
   "id": "64dd4654-bb48-47df-8a9d-a6f766eadba5",
   "metadata": {},
   "outputs": [],
   "source": [
    "# To add the missing victims of Conley, Hight and Godbolt to the current data\n",
    "\n",
    "column = list(df_victims)\n",
    "\n",
    "shooters = [['Ray Conley','David', str(8/8/2015)], \n",
    "            ['Hight', 'Spencer', str(10/9/2017)], \n",
    "            ['Godbolt', 'Willie Cory', str(27/5/2017)]]\n",
    "\n",
    "Conely = [\n",
    "    ['Valerie Jackson', '40', 'Female', 'White', '1', 'had previous relationship', None, None],\n",
    "    ['Dewayne Jackson Sr.', '50', 'Male', 'Black', '2', ' romantic rival', None, None],\n",
    "    ['Nathaniel Jackson', '13', 'Female', 'Black', '2', 'possibly met', None, None],\n",
    "    ['Honesty Jackson', '11', 'Female', 'Black', '2', 'possibly met', None, None],\n",
    "    ['Dewayne Jackson Jr.', '10', 'Male', 'Black', '2', 'possibly met', None, None],\n",
    "    ['Caleb Jackson', '9', 'Male', 'Black', '2', 'possibly met', None, None],\n",
    "    ['Trinity Jackson', '7', 'Female', 'Black', '2', 'possibly met', None, None],\n",
    "    ['Jonah Jackson', '6', 'Male', 'Black', '2', 'possibly met', None, None],\n",
    "]\n",
    "Hight = [\n",
    "    ['Meredith Hight', '27', 'Female', 'White', '1', 'Wife', None, None],\n",
    "    ['Anthony Cross', '33', 'Male', 'White', '2', 'friend or previously met', None, None],\n",
    "    ['Olivia Deffner', '24', 'Female', 'White', '2', 'friend or previously met', None, None],\n",
    "    ['James Dunlop', '29', 'Male', 'White', '2', 'friend or previously met', None, None],\n",
    "    ['Daryl Hawkins', '22', 'Male', 'Black', '2', 'friend or previously met', None, None],\n",
    "    ['Rion Morgan', '31', 'Male', 'Black', '2', 'friend or previously met', None, None],\n",
    "    ['Myah Bass', '28', 'Female', 'Black', '2', 'friend or previously met', None, None],\n",
    "    ['Caleb Edwards', '25', 'Male', 'White', '2', 'friend or previously met', None, None]\n",
    "]\n",
    "\n",
    "Godbolt = [\n",
    "    ['William Durr', '36', 'Male', 'White', '0', None, None, None],\n",
    "    ['Barbara Mitchell', '55', 'Female', 'Black', '1', 'mother-in-law', None, None],\n",
    "    ['Brenda May', '53', 'Female', 'Black', '2', 'previously met', None, None],\n",
    "    ['Toccara May', '35', 'Female', 'Black', '2', 'previously met', None, None],\n",
    "    ['Austin Edwards', '11', 'Male', 'Black', '2', None, None, None],\n",
    "    ['Jordan Blackwell', '18', 'Male', 'Black', '2', None, None, None],\n",
    "    ['Ferral Burrage', '45', 'Male', 'Black', '0', None, None, None],\n",
    "    ['Sheila Burrage', '46', 'Female', 'Black', '0', None, None, None]\n",
    "]\n",
    "\n",
    "data = { \n",
    "    'Shooter Last Name':['Ray Conley']*len(Conely) + ['Hight']*len(Hight) + ['Godbolt']*len(Godbolt),\n",
    "    'Shooter First Name':['David']*len(Conely) + ['Spencer']*len(Hight) + ['Willie Cory']*len(Godbolt),\n",
    "    'Full Date':['8/8/2015']*len(Conely) + ['10/9/2017']*len(Hight) + ['27/5/2017']*len(Godbolt),\n",
    "    'Victim Name':[victim[0] for victim in Conely] + [victim[0] for victim in Hight] + [victim[0] for victim in Godbolt],\n",
    "    'Age':[victim[1] for victim in Conely] + [victim[1] for victim in Hight] + [victim[1] for victim in Godbolt],\n",
    "    'Gender':[victim[2] for victim in Conely] + [victim[2] for victim in Hight] + [victim[2] for victim in Godbolt],\n",
    "    'Race':[victim[3] for victim in Conely] + [victim[3] for victim in Hight] + [victim[3] for victim in Godbolt],\n",
    "    'Knew Shooter':[victim[4] for victim in Conely] + [victim[4] for victim in Hight] + [victim[4] for victim in Godbolt],\n",
    "    'If Known, Relationship to Shooter':[victim[5] for victim in Conely] + [victim[5] for victim in Hight] + [victim[5] for victim in Godbolt],\n",
    "    'Life Expectancy':[victim[6] for victim in Conely] + [victim[6] for victim in Hight] + [victim[6] for victim in Godbolt],\n",
    "    'Years Lost':[victim[7] for victim in Conely] + [victim[7] for victim in Hight] + [victim[7] for victim in Godbolt]    \n",
    "}\n"
   ]
  },
  {
   "cell_type": "code",
   "execution_count": null,
   "id": "1cddcabf-76b1-4e15-86f1-57a25cc18d7b",
   "metadata": {},
   "outputs": [],
   "source": [
    "# Create dataFrame for missing victims\n",
    "\n",
    "df_missing_victims = pd.DataFrame(data, index=None)\n",
    "df_missing_victims.head(3)"
   ]
  },
  {
   "cell_type": "code",
   "execution_count": null,
   "id": "b500b0a2-db2f-44cf-9d14-0b2bafff1ae4",
   "metadata": {},
   "outputs": [],
   "source": [
    "#Append the missing victims dataframe to the victims dataframe\n",
    "\n",
    "# df_victims = df_victims.append(df_missing_victims, sort=False)\n",
    "df_victims[-10:-1]"
   ]
  },
  {
   "cell_type": "code",
   "execution_count": null,
   "id": "91ca08ad-a502-47bd-a1f1-ad69cfd79579",
   "metadata": {},
   "outputs": [],
   "source": [
    "# Export the victim's  dataframe to csv\n",
    "df_victims.to_csv('sample_victims.csv', sep=',', encoding='utf-8', index=False)"
   ]
  }
 ],
 "metadata": {
  "kernelspec": {
   "display_name": "Python 3",
   "language": "python",
   "name": "python3"
  },
  "language_info": {
   "codemirror_mode": {
    "name": "ipython",
    "version": 3
   },
   "file_extension": ".py",
   "mimetype": "text/x-python",
   "name": "python",
   "nbconvert_exporter": "python",
   "pygments_lexer": "ipython3",
   "version": "3.8.8"
  }
 },
 "nbformat": 4,
 "nbformat_minor": 5
}
